{
 "cells": [
  {
   "cell_type": "code",
   "execution_count": 3,
   "metadata": {},
   "outputs": [],
   "source": [
    "import queue"
   ]
  },
  {
   "cell_type": "code",
   "execution_count": 4,
   "metadata": {},
   "outputs": [],
   "source": [
    "def convert(decnum, base):\n",
    "    \"\"\"\n",
    "    param: decimal\n",
    "    returns:binary num\n",
    "    converts decimal to binary using stacks\n",
    "    \"\"\"\n",
    "    s = queue.LifoQueue()\n",
    "    result = []\n",
    "    while decnum > 0:\n",
    "        s.put(decnum%base)\n",
    "        decnum = decnum//base\n",
    "    while not s.empty():\n",
    "        print(s.get(), end=\"\")\n",
    "                \n",
    "    "
   ]
  },
  {
   "cell_type": "code",
   "execution_count": 6,
   "metadata": {},
   "outputs": [
    {
     "name": "stdout",
     "output_type": "stream",
     "text": [
      "10100"
     ]
    }
   ],
   "source": [
    "(convert(20, 2))"
   ]
  },
  {
   "cell_type": "raw",
   "metadata": {},
   "source": []
  }
 ],
 "metadata": {
  "kernelspec": {
   "display_name": "Python 3",
   "language": "python",
   "name": "python3"
  }
 },
 "nbformat": 4,
 "nbformat_minor": 2
}
