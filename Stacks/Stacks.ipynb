{
 "cells": [
  {
   "cell_type": "code",
   "execution_count": 1,
   "metadata": {},
   "outputs": [],
   "source": [
    "# using array\n",
    "class Stack:\n",
    "    \n",
    "    def __init__(self):\n",
    "        self.__items = []\n",
    "    \n",
    "    def get(self):\n",
    "        return self.__items\n",
    "    def is_empty(self):\n",
    "        return self.__items == []\n",
    "    def pop(self):\n",
    "        if not self.is_empty:\n",
    "            return self.__items.pop()\n",
    "    def push(self, data):\n",
    "        self.__items.append(data)\n",
    "    def top(self):\n",
    "        return self.__items[-1]\n",
    "    "
   ]
  },
  {
   "cell_type": "code",
   "execution_count": 2,
   "metadata": {},
   "outputs": [
    {
     "name": "stdout",
     "output_type": "stream",
     "text": [
      "1 2 3 4 5 6 \n",
      "2\n",
      "1\n",
      "false\n"
     ]
    }
   ],
   "source": [
    "# using Linked Lists\n",
    "class Node:\n",
    "    \n",
    "    def __init__(self, data):\n",
    "        self.data = data\n",
    "        self.next = None\n",
    "    \n",
    "class Stack:\n",
    "    \n",
    "    def __init__(self):\n",
    "        self.__head = None\n",
    "        self.__count = 0\n",
    "    \n",
    "    def push(self, item):\n",
    "        newhead = Node(item)\n",
    "        newhead.next = self.__head\n",
    "        self.__head = newhead\n",
    "        self.__count += 1\n",
    "    \n",
    "    def pop(self):\n",
    "        if self.__count:\n",
    "            popval = self.__head\n",
    "            self.__head = self.__head.next\n",
    "            popval.next = None\n",
    "            self.__count -= 1\n",
    "            return popval.data\n",
    "        \n",
    "    \n",
    "    def top(self):\n",
    "        return self.__head.data\n",
    "    \n",
    "    def isEmpty(self):\n",
    "        return self.__count == 0\n",
    "    \n",
    "    def getSize(self):\n",
    "        return self.__count \n",
    "    \n",
    "s = Stack()\n",
    "li = [int(ele) for ele in input().split()]\n",
    "i=0\n",
    "while i<len(li):\n",
    "    choice = li[i]\n",
    "    if choice == -1:\n",
    "        break\n",
    "    elif choice == 1:\n",
    "        s.push(li[i+1])\n",
    "        i+=1\n",
    "    elif choice == 2:\n",
    "        ans = s.pop()\n",
    "        if ans!=0:\n",
    "            print(ans)\n",
    "        else:\n",
    "            print(-1)\n",
    "    elif choice == 3:\n",
    "        ans = s.top()\n",
    "        if ans!=0:\n",
    "            print(ans)\n",
    "        else:\n",
    "            print(-1)\n",
    "    elif choice == 4:\n",
    "        print(s.getSize())\n",
    "    elif choice == 5:\n",
    "        if(s.isEmpty()):\n",
    "            print('true')\n",
    "        else:\n",
    "            print('false')\n",
    "    i+=1\n"
   ]
  },
  {
   "cell_type": "markdown",
   "metadata": {},
   "source": [
    "# Inbuilt Stacks and queues"
   ]
  },
  {
   "cell_type": "code",
   "execution_count": 4,
   "metadata": {},
   "outputs": [],
   "source": [
    "import queue"
   ]
  },
  {
   "cell_type": "code",
   "execution_count": 5,
   "metadata": {},
   "outputs": [],
   "source": [
    "q = queue.Queue()"
   ]
  },
  {
   "cell_type": "code",
   "execution_count": 6,
   "metadata": {},
   "outputs": [],
   "source": [
    "q.put(9)"
   ]
  },
  {
   "cell_type": "code",
   "execution_count": 7,
   "metadata": {},
   "outputs": [],
   "source": [
    "q.put(8)"
   ]
  },
  {
   "cell_type": "code",
   "execution_count": 8,
   "metadata": {},
   "outputs": [
    {
     "name": "stdout",
     "output_type": "stream",
     "text": [
      "9\n",
      "8\n"
     ]
    }
   ],
   "source": [
    "while not q.empty():\n",
    "    print(q.get())"
   ]
  },
  {
   "cell_type": "code",
   "execution_count": 9,
   "metadata": {},
   "outputs": [],
   "source": [
    "q = queue.LifoQueue() "
   ]
  },
  {
   "cell_type": "code",
   "execution_count": 10,
   "metadata": {},
   "outputs": [],
   "source": [
    "q.put(1)"
   ]
  },
  {
   "cell_type": "code",
   "execution_count": 11,
   "metadata": {},
   "outputs": [],
   "source": [
    "q.put(8)"
   ]
  },
  {
   "cell_type": "code",
   "execution_count": 12,
   "metadata": {},
   "outputs": [],
   "source": [
    "q.put(4)"
   ]
  },
  {
   "cell_type": "code",
   "execution_count": 13,
   "metadata": {},
   "outputs": [
    {
     "name": "stdout",
     "output_type": "stream",
     "text": [
      "4\n",
      "8\n",
      "1\n"
     ]
    }
   ],
   "source": [
    "while not q.empty():\n",
    "    print(q.get())"
   ]
  },
  {
   "cell_type": "markdown",
   "metadata": {},
   "source": [
    "# reverse stack"
   ]
  },
  {
   "cell_type": "code",
   "execution_count": 2,
   "metadata": {},
   "outputs": [
    {
     "name": "stdout",
     "output_type": "stream",
     "text": [
      "1\n",
      "2\n",
      "2 "
     ]
    }
   ],
   "source": [
    "\n",
    "def reverseStack(s1,s2):\n",
    "    if len(s1) == 0  or len(s1) == 1:\n",
    "        return \n",
    "    x = s1.pop()\n",
    "    reverseStack(s1, s2)\n",
    "    while len(s1):\n",
    "        s2.append(s1.pop())\n",
    "    s1.append(x)\n",
    "    while len(s2):\n",
    "        s1.append(s2.pop())\n",
    "        \n",
    "    \n",
    "\n",
    "from sys import setrecursionlimit\n",
    "setrecursionlimit(11000)\n",
    "n = int(input())\n",
    "s1 = [int(ele) for ele in input().split()]\n",
    "s2 = []\n",
    "reverseStack(s1,s2)\n",
    "while(len(s1) !=0):\n",
    "    print(s1.pop(),end= ' ')\n",
    "\n",
    "\n",
    "\n",
    "\n"
   ]
  },
  {
   "cell_type": "markdown",
   "metadata": {},
   "source": []
  },
  {
   "cell_type": "code",
   "execution_count": null,
   "metadata": {},
   "outputs": [],
   "source": []
  },
  {
   "cell_type": "code",
   "execution_count": null,
   "metadata": {},
   "outputs": [],
   "source": []
  },
  {
   "cell_type": "code",
   "execution_count": null,
   "metadata": {},
   "outputs": [],
   "source": []
  },
  {
   "cell_type": "code",
   "execution_count": null,
   "metadata": {},
   "outputs": [],
   "source": []
  },
  {
   "cell_type": "code",
   "execution_count": null,
   "metadata": {},
   "outputs": [],
   "source": []
  },
  {
   "cell_type": "code",
   "execution_count": null,
   "metadata": {},
   "outputs": [],
   "source": []
  },
  {
   "cell_type": "code",
   "execution_count": null,
   "metadata": {},
   "outputs": [],
   "source": []
  }
 ],
 "metadata": {
  "kernelspec": {
   "display_name": "Python 3",
   "language": "python",
   "name": "python3"
  },
  "language_info": {
   "codemirror_mode": {
    "name": "ipython",
    "version": 3
   },
   "file_extension": ".py",
   "mimetype": "text/x-python",
   "name": "python",
   "nbconvert_exporter": "python",
   "pygments_lexer": "ipython3",
   "version": "3.7.3"
  }
 },
 "nbformat": 4,
 "nbformat_minor": 2
}
