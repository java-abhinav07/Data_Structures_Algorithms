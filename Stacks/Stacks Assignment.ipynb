{
 "cells": [
  {
   "cell_type": "markdown",
   "metadata": {},
   "source": [
    "Problem 1: Check redundant brackets\n",
    "\n",
    "\n",
    "Given a string mathematical expression, return true if redundant brackets are present in the expression. Brackets are redundant if there is nothing inside the bracket or more than one pair of brackets are present.\n",
    "Assume the given string expression is balanced and contains only one type of bracket i.e. ().\n",
    "Note: You will not get partial score for this problem. You will get marks only if all test cases are passed."
   ]
  },
  {
   "cell_type": "code",
   "execution_count": 17,
   "metadata": {},
   "outputs": [
    {
     "name": "stdout",
     "output_type": "stream",
     "text": [
      "((\n",
      "false\n"
     ]
    }
   ],
   "source": [
    "# using array\n",
    "class Stack:\n",
    "    \n",
    "    def __init__(self):\n",
    "        self.__items = []\n",
    "    \n",
    "    def get(self):\n",
    "        return self.__items\n",
    "    def is_empty(self):\n",
    "        return self.__items == []\n",
    "    def pop(self):\n",
    "        if not self.is_empty():\n",
    "            return self.__items.pop()\n",
    "    def push(self, data):\n",
    "        self.__items.append(data)\n",
    "    def top(self):\n",
    "        return self.__items[-1]\n",
    "    \n",
    "\n",
    "def checkRedundant(string):\n",
    "    s = Stack()\n",
    "    redundant = False\n",
    "    for element in string:\n",
    "        if element != ')':\n",
    "            s.push(element)\n",
    "        else:\n",
    "            count = 0\n",
    "            while s.top() != '(':\n",
    "                s.pop()\n",
    "                count += 1\n",
    "            if count == 0:\n",
    "                redundant = True\n",
    "                return redundant\n",
    "            else:\n",
    "                s.pop()\n",
    "    return redundant\n",
    "\n",
    "string = input()\n",
    "ans = checkRedundant(string)\n",
    "if ans is True:\n",
    "    print('true')\n",
    "else:\n",
    "    print('false')\n",
    "\n",
    "\n",
    "\n",
    "\n"
   ]
  },
  {
   "cell_type": "markdown",
   "metadata": {},
   "source": [
    "Problem 2: Stock Span\n",
    "\n",
    "\n",
    "The span si of a stock’s price on a certain day i is the minimum number of consecutive days (up to the current day) the price of the stock has been less than its price on that ith day. If for a particular day, if no stock price is greater then just count the number of days till 0th day including current day.\n",
    "For eg. if given price array is {3, 6, 8, 1, 2}, span for 4th day (which has price 2) is 2 because minimum count of consecutive days (including 4th day itself) from current day which has price less than 4th day is 2 (i.e. day 3 & 4). Similarly, span for 2nd day is 3 because no stock price in left is greater than 2nd day's price. So count is 3 till 0th day.\n",
    "Given an input array with all stock prices, you need to return the array with corresponding spans of each day."
   ]
  },
  {
   "cell_type": "markdown",
   "metadata": {},
   "source": []
  },
  {
   "cell_type": "code",
   "execution_count": 31,
   "metadata": {},
   "outputs": [
    {
     "name": "stdout",
     "output_type": "stream",
     "text": [
      "6\n",
      "6 5 4 3 2 1\n",
      "1 1 1 1 1 1 "
     ]
    }
   ],
   "source": [
    "# O(n) approach attempt\n",
    "\n",
    "class Stack:\n",
    "    \n",
    "    def __init__(self):\n",
    "        self.__items = []\n",
    "        self.__count = 1\n",
    "    \n",
    "    def get(self):\n",
    "        return self.__items\n",
    "    def is_empty(self):\n",
    "        return self.__items == []\n",
    "    def pop(self):\n",
    "        if not self.is_empty():\n",
    "            return self.__items.pop()\n",
    "    def push(self, data):\n",
    "        self.__items.append(data)\n",
    "            \n",
    "    def top(self):\n",
    "        if not self.is_empty():\n",
    "            return self.__items[-1]\n",
    "    \n",
    "    \n",
    "def stockSpan(price,n):\n",
    "    s = Stack()\n",
    "    result = []\n",
    "    for i in range(n):\n",
    "        if not s.is_empty():\n",
    "            if price[s.top()] >= price[i]:\n",
    "                result.append(1)\n",
    "                s.push(i)\n",
    "            else:\n",
    "                while not s.is_empty() and price[s.top()] < price[i]:\n",
    "                    s.pop()\n",
    "                if not s.is_empty() and price[s.top()] >= price[i]:\n",
    "                    result.append(i - s.top())\n",
    "                else:\n",
    "                    result.append(i+1)\n",
    "                s.push(i)\n",
    "        else:  \n",
    "            result.append(i+1)\n",
    "            s.push(i)\n",
    "    return result\n",
    "    \n",
    "\n",
    "n = int(input())\n",
    "price = [int(ele) for ele in input().split()]\n",
    "spans = stockSpan(price,n)\n",
    "for ele in spans:\n",
    "    print(ele,end= ' ')\n",
    "    "
   ]
  },
  {
   "cell_type": "markdown",
   "metadata": {},
   "source": [
    "Problem 3: Minimum bracket Reversal\n",
    "\n",
    "\n",
    "Given a string expression which consists only ‘}’ and ‘{‘. The expression may not be balanced. You need to find the minimum number of bracket reversals which are required to make the expression balanced.\n",
    "Return -1 if the given expression can't be balanced."
   ]
  },
  {
   "cell_type": "code",
   "execution_count": null,
   "metadata": {},
   "outputs": [],
   "source": []
  }
 ],
 "metadata": {
  "kernelspec": {
   "display_name": "Python 3",
   "language": "python",
   "name": "python3"
  },
  "language_info": {
   "codemirror_mode": {
    "name": "ipython",
    "version": 3
   },
   "file_extension": ".py",
   "mimetype": "text/x-python",
   "name": "python",
   "nbconvert_exporter": "python",
   "pygments_lexer": "ipython3",
   "version": "3.7.3"
  }
 },
 "nbformat": 4,
 "nbformat_minor": 2
}
