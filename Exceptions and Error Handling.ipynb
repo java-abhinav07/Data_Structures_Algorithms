{
 "cells": [
  {
   "cell_type": "code",
   "execution_count": 2,
   "metadata": {},
   "outputs": [
    {
     "name": "stdout",
     "output_type": "stream",
     "text": [
      "Exception occured\n"
     ]
    }
   ],
   "source": [
    "try:\n",
    "    a = 10\n",
    "    b = 0\n",
    "    c = a/b\n",
    "    print(c)\n",
    "except :\n",
    "    print(\"Exception occured\")"
   ]
  },
  {
   "cell_type": "code",
   "execution_count": 3,
   "metadata": {},
   "outputs": [
    {
     "name": "stdout",
     "output_type": "stream",
     "text": [
      "Name Error occured\n"
     ]
    }
   ],
   "source": [
    "try:\n",
    "    a = 10\n",
    "    b = 0\n",
    "    print(d)\n",
    "    c = a/b\n",
    "except NameError:\n",
    "    print('Name Error occured')\n",
    "except ZeroDivisionError:\n",
    "    print('Zero Division Error occured')"
   ]
  },
  {
   "cell_type": "code",
   "execution_count": 5,
   "metadata": {},
   "outputs": [
    {
     "name": "stdout",
     "output_type": "stream",
     "text": [
      "Enter the numerator :3\n",
      "Enter the denominator :0\n",
      "ZeroDenominatorError is raised\n",
      "3\n",
      "0\n",
      "1.6666666666666667\n",
      "exception may or may not be raised\n",
      "Enter the numerator :9\n",
      "Enter the denominator :8\n",
      "1.125\n",
      "9\n",
      "8\n",
      "1.125\n",
      "exception may or may not be raised\n"
     ]
    }
   ],
   "source": [
    "class ZeroDenominatorError(ZeroDivisionError):\n",
    "\tpass\n",
    "while True:\n",
    "\ttry:\n",
    "\t\tn = input('Enter the numerator :')\n",
    "\t\tnum = int(n)\n",
    "\t\tn = input('Enter the denominator :')\n",
    "\t\tdenom = int(n)\n",
    "\t\tif denom == 0:\n",
    "\t\t\traise ZeroDenominatorError('Denominator should not be zero')\n",
    "\t\tvalue = num/denom\n",
    "\texcept ValueError:\n",
    "\t\tprint(\"Numerator and Denominator should be integers\")\n",
    "\texcept ZeroDenominatorError:\n",
    "\t\tprint(\"ZeroDenominatorError is raised\")\n",
    "\texcept ZeroDivisionError:\n",
    "\t\tprint(\"Division by zero is not allowed\")\n",
    "\texcept :\n",
    "\t\tprint(\"some exception is raised\") \n",
    "\telse:\n",
    "\t\tprint(value)\n",
    "\t\tbreak\n",
    "\tfinally:\n",
    "\t\tprint(num)\n",
    "\t\tprint(denom)\n",
    "\t\tprint(value)\n",
    "\t\tprint('exception may or may not be raised')"
   ]
  },
  {
   "cell_type": "code",
   "execution_count": 8,
   "metadata": {},
   "outputs": [
    {
     "ename": "ZeroDenominatorError",
     "evalue": "",
     "output_type": "error",
     "traceback": [
      "\u001b[1;31m---------------------------------------------------------------------------\u001b[0m",
      "\u001b[1;31mZeroDenominatorError\u001b[0m                      Traceback (most recent call last)",
      "\u001b[1;32m<ipython-input-8-c9ebb5ac2a06>\u001b[0m in \u001b[0;36m<module>\u001b[1;34m\u001b[0m\n\u001b[0;32m      5\u001b[0m     \u001b[0mb\u001b[0m \u001b[1;33m=\u001b[0m \u001b[1;36m0\u001b[0m\u001b[1;33m\u001b[0m\u001b[1;33m\u001b[0m\u001b[0m\n\u001b[0;32m      6\u001b[0m     \u001b[1;32mif\u001b[0m\u001b[1;33m(\u001b[0m\u001b[0mb\u001b[0m\u001b[1;33m==\u001b[0m\u001b[1;36m0\u001b[0m\u001b[1;33m)\u001b[0m\u001b[1;33m:\u001b[0m\u001b[1;33m\u001b[0m\u001b[1;33m\u001b[0m\u001b[0m\n\u001b[1;32m----> 7\u001b[1;33m         \u001b[1;32mraise\u001b[0m \u001b[0mZeroDenominatorError\u001b[0m\u001b[1;33m(\u001b[0m\u001b[1;33m)\u001b[0m\u001b[1;33m\u001b[0m\u001b[1;33m\u001b[0m\u001b[0m\n\u001b[0m\u001b[0;32m      8\u001b[0m     \u001b[0mc\u001b[0m \u001b[1;33m=\u001b[0m \u001b[0ma\u001b[0m\u001b[1;33m/\u001b[0m\u001b[0mb\u001b[0m\u001b[1;33m\u001b[0m\u001b[1;33m\u001b[0m\u001b[0m\n\u001b[0;32m      9\u001b[0m \u001b[1;32mexcept\u001b[0m \u001b[0mZeroDivisionError\u001b[0m\u001b[1;33m:\u001b[0m\u001b[1;33m\u001b[0m\u001b[1;33m\u001b[0m\u001b[0m\n",
      "\u001b[1;31mZeroDenominatorError\u001b[0m: "
     ]
    }
   ],
   "source": [
    "class ZeroDenominatorError(Exception):\n",
    "    pass\n",
    "try:\n",
    "    a = 10\n",
    "    b = 0\n",
    "    if(b==0):\n",
    "        raise ZeroDenominatorError() \n",
    "    c = a/b\n",
    "except ZeroDivisionError:\n",
    "    print('Zero Division Error occured')"
   ]
  },
  {
   "cell_type": "code",
   "execution_count": 9,
   "metadata": {},
   "outputs": [
    {
     "name": "stdout",
     "output_type": "stream",
     "text": [
      "Enter the numerator :4\n",
      "Enter the denominator :0\n",
      "ZeroDenominatorError is raised\n",
      "4\n",
      "0\n",
      "1.125\n",
      "exception may or may not be raised\n",
      "Enter the numerator :7\n",
      "Enter the denominator :8\n",
      "0.875\n",
      "7\n",
      "8\n",
      "0.875\n",
      "exception may or may not be raised\n"
     ]
    }
   ],
   "source": [
    "\n",
    "\n",
    "class ZeroDenominatorError(ZeroDivisionError):\n",
    "\tpass\n",
    "while True:\n",
    "\ttry:\n",
    "\t\tn = input('Enter the numerator :')\n",
    "\t\tnum = int(n)\n",
    "\t\tn = input('Enter the denominator :')\n",
    "\t\tdenom = int(n)\n",
    "\t\tif denom == 0:\n",
    "\t\t\traise ZeroDenominatorError('Denominator should not be zero')\n",
    "\t\tvalue = num/denom\n",
    "\texcept ValueError:\n",
    "\t\tprint(\"Numerator and Denominator should be integers\")\n",
    "\texcept ZeroDenominatorError:\n",
    "\t\tprint(\"ZeroDenominatorError is raised\")\n",
    "\texcept ZeroDivisionError:\n",
    "\t\tprint(\"Division by zero is not allowed\")\n",
    "\texcept :\n",
    "\t\tprint(\"some exception is raised\") \n",
    "\telse:\n",
    "\t\tprint(value)\n",
    "\t\tbreak\n",
    "\tfinally:\n",
    "\t\tprint(num)\n",
    "\t\tprint(denom)\n",
    "\t\tprint(value)\n",
    "\t\tprint('exception may or may not be raised')\n",
    "\n",
    "\t\n",
    "\t\n",
    "\n",
    "\t"
   ]
  },
  {
   "cell_type": "code",
   "execution_count": 10,
   "metadata": {},
   "outputs": [
    {
     "name": "stdout",
     "output_type": "stream",
     "text": [
      "Zero Division Error occured\n"
     ]
    }
   ],
   "source": [
    "class ZeroDenominatorError(ZeroDivisionError):\n",
    "    pass\n",
    "try:\n",
    "    a = 10\n",
    "    b = 0\n",
    "    if(b==0):\n",
    "        raise ZeroDenominatorError()\n",
    "    c = a/b\n",
    "except ZeroDivisionError:\n",
    "    print('Zero Division Error occured')\n",
    "except ZeroDenominatorError:\n",
    "    print('Zero Denominator Error occured')"
   ]
  },
  {
   "cell_type": "code",
   "execution_count": 13,
   "metadata": {},
   "outputs": [
    {
     "name": "stdout",
     "output_type": "stream",
     "text": [
      "Zero Division Error occured "
     ]
    }
   ],
   "source": [
    "class ZeroDenominatorError(ZeroDivisionError):\n",
    "    pass\n",
    "try:\n",
    "    a = 10\n",
    "    b = 0\n",
    "    if(b==0):\n",
    "        raise ZeroDenominatorError()\n",
    "    c = a/b\n",
    "except ZeroDivisionError:\n",
    "    print('Zero Division Error occured',end= ' ')\n",
    "except ZeroDenominatorError:\n",
    "    print('Zero Denominator Error occured',end = ' ')\n",
    "else:\n",
    "    print('else works')"
   ]
  },
  {
   "cell_type": "code",
   "execution_count": 14,
   "metadata": {},
   "outputs": [
    {
     "name": "stdout",
     "output_type": "stream",
     "text": [
      "else works finally works\n"
     ]
    }
   ],
   "source": [
    "class ZeroDenominatorError(ZeroDivisionError):\n",
    "    pass\n",
    "try:\n",
    "    a = 10\n",
    "    b = 5\n",
    "    if(b==0):\n",
    "        raise ZeroDenominatorError()\n",
    "    c = a/b\n",
    "except ZeroDivisionError:\n",
    "    print('Zero Division Error occured',end= ' ')\n",
    "except ZeroDenominatorError:\n",
    "    print('Zero Denominator Error occured',end = ' ')\n",
    "else:\n",
    "    print('else works',end=' ')\n",
    "finally:\n",
    "    print('finally works')"
   ]
  },
  {
   "cell_type": "code",
   "execution_count": null,
   "metadata": {},
   "outputs": [],
   "source": []
  }
 ],
 "metadata": {
  "kernelspec": {
   "display_name": "Python 3",
   "language": "python",
   "name": "python3"
  },
  "language_info": {
   "codemirror_mode": {
    "name": "ipython",
    "version": 3
   },
   "file_extension": ".py",
   "mimetype": "text/x-python",
   "name": "python",
   "nbconvert_exporter": "python",
   "pygments_lexer": "ipython3",
   "version": "3.7.3"
  }
 },
 "nbformat": 4,
 "nbformat_minor": 2
}
