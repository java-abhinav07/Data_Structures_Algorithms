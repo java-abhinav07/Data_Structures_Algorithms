{
 "cells": [
  {
   "cell_type": "code",
   "execution_count": 1,
   "metadata": {},
   "outputs": [
    {
     "name": "stdout",
     "output_type": "stream",
     "text": [
      "4 4\n",
      "1 2 6\n",
      "2 3 2\n",
      "1 3 2\n",
      "1 0 2\n",
      "0 1 2\n",
      "2 3 2\n",
      "1 3 2\n"
     ]
    }
   ],
   "source": [
    "import sys\n",
    "class Graph:\n",
    "    \n",
    "    def __init__(self, vertices):\n",
    "        self.vertices = vertices\n",
    "        self.graph = [[0 for i in range(vertices)] for i in range(vertices)]\n",
    "        \n",
    "    def addEdge(self, s, e, w):\n",
    "        self.graph[s][e] = w\n",
    "        self.graph[e][s] = w\n",
    "        \n",
    "    def containsEdge(self, v1, v2):\n",
    "        return bool(self.graph[s][e] > 0)\n",
    "    \n",
    "    def getminvertex(self, visited, weight):\n",
    "        min_vertex = -1\n",
    "        for i in range(self.vertices):\n",
    "            if not visited[i] and (min_vertex == -1 or weight[min_vertex] > weight[i]):\n",
    "                min_vertex = i\n",
    "        return min_vertex\n",
    "        \n",
    "    \n",
    "    def Prim(self):\n",
    "        \n",
    "        parent = [-1 for i in range(self.vertices)]\n",
    "        visited = [False for i in range(self.vertices)]\n",
    "        weight = [sys.maxsize for i in range(self.vertices)]\n",
    "        weight[0] = 0\n",
    "        for i in range(self.vertices-1):\n",
    "            min_vertex = self.getminvertex(visited, weight)\n",
    "            visited[min_vertex] = True\n",
    "            \n",
    "            for j in range(self.vertices):\n",
    "                if self.graph[min_vertex][j] > 0 and visited[j] == False:\n",
    "                    if weight[j] > self.graph[min_vertex][j]:\n",
    "                        weight[j] = self.graph[min_vertex][j]\n",
    "                        parent[j] = min_vertex\n",
    "               \n",
    "        for i in range(1, self.vertices):\n",
    "                if i < parent[i]:\n",
    "                    print(str(i) + \" \" + str(parent[i]) + \" \" + str(weight[i]))\n",
    "                else:\n",
    "                    print(str(parent[i]) + \" \" + str(i) + \" \" + str(weight[i]))\n",
    "        \n",
    "li = [int(i) for i in input().split()]\n",
    "n = li[0]\n",
    "E = li[1]\n",
    "\n",
    "g = Graph(n)\n",
    "for i in range(E):\n",
    "    curr_input = [int(ele) for ele in input().split()]\n",
    "    g.addEdge(curr_input[0], curr_input[1], curr_input[2])\n",
    "    \n",
    "g.Prim()"
   ]
  },
  {
   "cell_type": "code",
   "execution_count": null,
   "metadata": {},
   "outputs": [],
   "source": []
  }
 ],
 "metadata": {
  "kernelspec": {
   "display_name": "Python 3",
   "language": "python",
   "name": "python3"
  },
  "language_info": {
   "codemirror_mode": {
    "name": "ipython",
    "version": 3
   },
   "file_extension": ".py",
   "mimetype": "text/x-python",
   "name": "python",
   "nbconvert_exporter": "python",
   "pygments_lexer": "ipython3",
   "version": "3.7.3"
  }
 },
 "nbformat": 4,
 "nbformat_minor": 2
}
