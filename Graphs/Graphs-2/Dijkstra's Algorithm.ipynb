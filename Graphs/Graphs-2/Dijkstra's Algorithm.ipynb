{
 "cells": [
  {
   "cell_type": "code",
   "execution_count": 5,
   "metadata": {},
   "outputs": [
    {
     "name": "stdout",
     "output_type": "stream",
     "text": [
      "4 4\n",
      "0 1 3\n",
      "0 3 5\n",
      "1 2 1\n",
      "2 3 8\n",
      "0 0\n",
      "1 3\n",
      "2 4\n",
      "3 5\n"
     ]
    }
   ],
   "source": [
    "# shortest path to all vertices\n",
    "import sys\n",
    "import queue\n",
    "\n",
    "class Edge:\n",
    "    \n",
    "    def __init__(self, s, e, w): \n",
    "        self.start = s\n",
    "        self.end = e\n",
    "        self.weight = w\n",
    "        \n",
    "class Graph:\n",
    "    \n",
    "    \n",
    "    def __init__(self, vertices):\n",
    "        self.vertices = vertices\n",
    "        self.graph = [[0 for i in range(vertices)] for i in range(vertices)]\n",
    "        \n",
    "        \n",
    "        \n",
    "    def addEdge(self, s, e, w):\n",
    "        self.graph[s][e] = w\n",
    "        self.graph[e][s] = w\n",
    "        \n",
    "    def containsEdge(self, v1, v2):\n",
    "        return bool(self.graph[s][e] > 0)\n",
    "    \n",
    "    def getminvertex(self, visited, weight):\n",
    "        min_vertex = -1\n",
    "        for i in range(self.vertices):\n",
    "            if not visited[i] and (min_vertex == -1 or weight[min_vertex] > weight[i]):\n",
    "                min_vertex = i\n",
    "        return min_vertex\n",
    "    \n",
    "    def dikjstra(self):\n",
    "        visited = [False for i in range(self.vertices)]\n",
    "        heuristic = [sys.maxsize for i in range(self.vertices)]\n",
    "        heuristic[0] = 0\n",
    "        for j in range(self.vertices-1):\n",
    "            minVertex = self.getminvertex(visited, heuristic)\n",
    "            visited[minVertex] = True\n",
    "            for i in range(self.vertices):\n",
    "            \n",
    "                if self.graph[minVertex][i] and not visited[i]:\n",
    "                    currD = heuristic[minVertex] + self.graph[minVertex][i]\n",
    "                    if heuristic[i] > currD:\n",
    "                        heuristic[i] = currD\n",
    "                    \n",
    "        for i in range(self.vertices):\n",
    "            print(i, heuristic[i])\n",
    "\n",
    "li = [int(i) for i in input().split()]\n",
    "n = li[0]\n",
    "E = li[1]\n",
    "\n",
    "g = Graph(n)\n",
    "for i in range(E):\n",
    "    curr_input = [int(ele) for ele in input().split()]\n",
    "    g.addEdge(curr_input[0], curr_input[1], curr_input[2])\n",
    "    \n",
    "g.dikjstra()\n",
    "        "
   ]
  },
  {
   "cell_type": "code",
   "execution_count": 6,
   "metadata": {},
   "outputs": [],
   "source": [
    "# Optimised implementation\n"
   ]
  },
  {
   "cell_type": "code",
   "execution_count": null,
   "metadata": {},
   "outputs": [],
   "source": []
  }
 ],
 "metadata": {
  "kernelspec": {
   "display_name": "Python 3",
   "language": "python",
   "name": "python3"
  },
  "language_info": {
   "codemirror_mode": {
    "name": "ipython",
    "version": 3
   },
   "file_extension": ".py",
   "mimetype": "text/x-python",
   "name": "python",
   "nbconvert_exporter": "python",
   "pygments_lexer": "ipython3",
   "version": "3.7.3"
  }
 },
 "nbformat": 4,
 "nbformat_minor": 2
}
