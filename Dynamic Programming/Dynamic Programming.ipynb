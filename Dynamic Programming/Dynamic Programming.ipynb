{
 "cells": [
  {
   "cell_type": "markdown",
   "metadata": {},
   "source": [
    "Dynamic Programming attempts to solve problems which have:\n",
    "<u><b> Optimal Substructure</b> and \n",
    "    <b>Overlapping Subproblems</b> </u>\n"
   ]
  },
  {
   "cell_type": "markdown",
   "metadata": {},
   "source": [
    "This is done by storing the previously calculated values so that (recursive) function calls aren't made multiple times."
   ]
  },
  {
   "cell_type": "code",
   "execution_count": 17,
   "metadata": {},
   "outputs": [],
   "source": [
    "import time\n",
    "def fibb(n):\n",
    "    if n==0 or n==1:\n",
    "        return n\n",
    "    ans1 = fibb(n-1)\n",
    "    ans2 = fibb(n-2)\n",
    "    \n",
    "    myAns = ans1+ans2\n",
    "    return myAns"
   ]
  },
  {
   "cell_type": "code",
   "execution_count": 18,
   "metadata": {},
   "outputs": [
    {
     "name": "stdout",
     "output_type": "stream",
     "text": [
      "9227465\n",
      "5.47651219367981\n"
     ]
    }
   ],
   "source": [
    "t1 = time.time()\n",
    "print(fibb(35))\n",
    "t2 = time.time()\n",
    "print(t2-t1)"
   ]
  },
  {
   "cell_type": "markdown",
   "metadata": {},
   "source": [
    "Using an array to store ith fibonacci number, concept is called memoization"
   ]
  },
  {
   "cell_type": "code",
   "execution_count": 19,
   "metadata": {},
   "outputs": [
    {
     "name": "stdout",
     "output_type": "stream",
     "text": [
      "35\n",
      "9227465\n",
      "0.0007860660552978516\n"
     ]
    }
   ],
   "source": [
    "import time\n",
    "def fibdp(n, dparr):\n",
    "    if n==0 or n==1:\n",
    "        return n\n",
    "    if dparr[n-1] == -1:\n",
    "        ans1 = fibdp(n-1, dparr)\n",
    "        dparr[n-1] = ans1\n",
    "    else:\n",
    "        ans1 = dparr[n-1]\n",
    "    if dparr[n-2] == -1:\n",
    "        ans2 = fibdp(n-2, dparr)\n",
    "        dparr[n-2] = ans2\n",
    "    else:\n",
    "        ans2 = dparr[n-2]\n",
    "    \n",
    "    return ans1+ans2\n",
    "    \n",
    "    \n",
    "n = int(input())   \n",
    "dparr = [-1 for i in range(n+1)]\n",
    "t1 = time.time()\n",
    "print(fibdp(n, dparr))\n",
    "t2 = time.time()\n",
    "print(t2-t1)"
   ]
  },
  {
   "cell_type": "markdown",
   "metadata": {},
   "source": [
    "In computing, memoization or memoisation is an optimization technique used primarily to speed up computer programs by storing the results of expensive function calls and returning the cached result when the same inputs occur again. Storage can be done through an array or hashmap or other data structures of the like."
   ]
  },
  {
   "cell_type": "markdown",
   "metadata": {},
   "source": [
    "<b> Time Complexity of Memoization </b>\n",
    "In case of recursion the time complexity was 2^n. Using memoization we can decrease the number of calls and reduce time complexity to O(n).\n",
    "Space complexity initially ie for the recursion is O(n) and in case of DP it increases to O(2n) which is almost the same complexity!"
   ]
  },
  {
   "cell_type": "markdown",
   "metadata": {},
   "source": [
    "<b>Iterative Dynamic Programming</b>"
   ]
  },
  {
   "cell_type": "code",
   "execution_count": null,
   "metadata": {},
   "outputs": [],
   "source": []
  }
 ],
 "metadata": {
  "kernelspec": {
   "display_name": "Python 3",
   "language": "python",
   "name": "python3"
  },
  "language_info": {
   "codemirror_mode": {
    "name": "ipython",
    "version": 3
   },
   "file_extension": ".py",
   "mimetype": "text/x-python",
   "name": "python",
   "nbconvert_exporter": "python",
   "pygments_lexer": "ipython3",
   "version": "3.6.8"
  }
 },
 "nbformat": 4,
 "nbformat_minor": 2
}
