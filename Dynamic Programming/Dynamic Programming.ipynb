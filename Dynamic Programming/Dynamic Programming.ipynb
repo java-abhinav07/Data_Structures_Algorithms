{
 "cells": [
  {
   "cell_type": "markdown",
   "metadata": {},
   "source": [
    "Dynamic Programming attempts to solve problems which have:\n",
    "<u><b> Optimal Substructure</b> and \n",
    "    <b>Overlapping Subproblems</b> </u>\n"
   ]
  },
  {
   "cell_type": "markdown",
   "metadata": {},
   "source": [
    "This is done by storing the previously calculated values so that (recursive) function calls aren't made multiple times."
   ]
  },
  {
   "cell_type": "code",
   "execution_count": 17,
   "metadata": {},
   "outputs": [],
   "source": [
    "import time\n",
    "def fibb(n):\n",
    "    if n==0 or n==1:\n",
    "        return n\n",
    "    ans1 = fibb(n-1)\n",
    "    ans2 = fibb(n-2)\n",
    "    \n",
    "    myAns = ans1+ans2\n",
    "    return myAns"
   ]
  },
  {
   "cell_type": "code",
   "execution_count": 18,
   "metadata": {},
   "outputs": [
    {
     "name": "stdout",
     "output_type": "stream",
     "text": [
      "9227465\n",
      "5.47651219367981\n"
     ]
    }
   ],
   "source": [
    "t1 = time.time()\n",
    "print(fibb(35))\n",
    "t2 = time.time()\n",
    "print(t2-t1)"
   ]
  },
  {
   "cell_type": "markdown",
   "metadata": {},
   "source": [
    "Using an array to store ith fibonacci number, concept is called memoization"
   ]
  },
  {
   "cell_type": "code",
   "execution_count": 5,
   "metadata": {},
   "outputs": [
    {
     "name": "stdout",
     "output_type": "stream",
     "text": [
      "35\n",
      "9227465\n",
      "0.0007214546203613281\n"
     ]
    }
   ],
   "source": [
    "import time\n",
    "def fibdp(n, dparr):\n",
    "    if n==0 or n==1:\n",
    "        return n\n",
    "    if dparr[n-1] == -1:\n",
    "        ans1 = fibdp(n-1, dparr)\n",
    "        dparr[n-1] = ans1\n",
    "    else:\n",
    "        ans1 = dparr[n-1]\n",
    "    if dparr[n-2] == -1:\n",
    "        ans2 = fibdp(n-2, dparr)\n",
    "        dparr[n-2] = ans2\n",
    "    else:\n",
    "        ans2 = dparr[n-2]\n",
    "    \n",
    "    return ans1+ans2\n",
    "    \n",
    "    \n",
    "n = int(input())   \n",
    "dparr = [-1 for i in range(n+1)]\n",
    "t1 = time.time()\n",
    "print(fibdp(n, dparr))\n",
    "t2 = time.time()\n",
    "print(t2-t1)"
   ]
  },
  {
   "cell_type": "markdown",
   "metadata": {},
   "source": [
    "In computing, memoization or memoisation is an optimization technique used primarily to speed up computer programs by storing the results of expensive function calls and returning the cached result when the same inputs occur again. Storage can be done through an array or hashmap or other data structures of the like."
   ]
  },
  {
   "cell_type": "markdown",
   "metadata": {},
   "source": [
    "<b> Time Complexity of Memoization </b>\n",
    "In case of recursion the time complexity was 2^n. Using memoization we can decrease the number of calls and reduce time complexity to O(n).\n",
    "Space complexity initially ie for the recursion is O(n) and in case of DP it increases to O(2n) which is almost the same complexity!"
   ]
  },
  {
   "cell_type": "markdown",
   "metadata": {},
   "source": [
    "<b>Iterative Dynamic Programming</b>"
   ]
  },
  {
   "cell_type": "markdown",
   "metadata": {},
   "source": [
    "Converting the recursive solution to iterative one using recurrance relations. Initialize array with 0 and 1 at the respective idices, and continue adding per next index."
   ]
  },
  {
   "cell_type": "code",
   "execution_count": 11,
   "metadata": {},
   "outputs": [],
   "source": [
    "dparr = [0, 1]\n",
    "def iterfibo(dparr, n):\n",
    "    for i in range(2, n+1):\n",
    "        dparr.append(dparr[i-1]+dparr[i-2])\n",
    "    return dparr[n]\n",
    "        "
   ]
  },
  {
   "cell_type": "code",
   "execution_count": 12,
   "metadata": {},
   "outputs": [
    {
     "name": "stdout",
     "output_type": "stream",
     "text": [
      "9227465\n",
      "0.0011625289916992188\n"
     ]
    }
   ],
   "source": [
    "import time\n",
    "t1 = time.time()\n",
    "print(iterfibo(dparr, 35))\n",
    "t2 = time.time()\n",
    "print(t2 - t1)"
   ]
  },
  {
   "cell_type": "markdown",
   "metadata": {},
   "source": [
    "<p>Why Iterative Solutions are better:</p>\n",
    "1. There is no headache of stack overflow\n",
    "<br>\n",
    "2. In case of C++ and Java 10^4 stacks can wait whereas in python3 default    is 10^3 and this can be modified using sys.setrecursionlimit(10^4)\n",
    "This where recursion fails, 10^6 fibonacci number cannot be calculated, here iterative solutions are better"
   ]
  },
  {
   "cell_type": "markdown",
   "metadata": {},
   "source": [
    "<b>Min Steps To 1</b>\n",
    "\n",
    "Given a positive integer n, find the minimum number of steps s, that takes n to 1. You can perform any one of the following 3 steps."
   ]
  },
  {
   "cell_type": "code",
   "execution_count": 38,
   "metadata": {},
   "outputs": [
    {
     "name": "stdout",
     "output_type": "stream",
     "text": [
      "12\n",
      "3\n"
     ]
    }
   ],
   "source": [
    "# approach 1: bruteforce recursive\n",
    "def minStepsTo1DP(n):\n",
    "    ''' Return Minimum no of steps required to reach 1 using using Dynamic Prog'''\n",
    "    x = y =None\n",
    "    if n == 0:\n",
    "        return None\n",
    "    elif n == 1:\n",
    "        return 1\n",
    "    if n % 3 == 0:\n",
    "        x = minStepsTo1DP(n//3)\n",
    "    if n%2 == 0:\n",
    "        y = minStepsTo1DP(n//2)\n",
    "    z = minStepsTo1DP(n-1)\n",
    "    if x and y:\n",
    "        return min(x, y, z) + 1\n",
    "    elif x:\n",
    "        return min(x, z) + 1\n",
    "    elif y:\n",
    "        return min(y, z) + 1\n",
    "    else:\n",
    "        return z + 1\n",
    "    \n",
    "    \n",
    "\n",
    "# Main\n",
    "\n",
    "n=int(input())\n",
    "print(minStepsTo1DP(n)-1)\n"
   ]
  },
  {
   "cell_type": "code",
   "execution_count": 37,
   "metadata": {},
   "outputs": [
    {
     "name": "stdout",
     "output_type": "stream",
     "text": [
      "12\n",
      "3\n"
     ]
    }
   ],
   "source": [
    "# to minimize the time taken\n",
    "dparr = [0, 1, 1, 1]\n",
    "def minStepsTo1DP(n, dparr):\n",
    "    ''' Return Minimum no of steps required to reach 1 using using Dynamic Prog'''\n",
    "    for i in range(4, n+1):\n",
    "        x = y = None\n",
    "        if i % 3 == 0:\n",
    "            x = dparr[i//3]\n",
    "        if i % 2 == 0:\n",
    "            y = dparr[i//2]\n",
    "        z = dparr[i-1]\n",
    "        if x and y:\n",
    "            dparr.append(min(x, y, z) + 1)\n",
    "        elif x:\n",
    "            dparr.append(min(x, z) + 1)\n",
    "        elif y:\n",
    "            dparr.append(min(y, z) + 1)\n",
    "        else:\n",
    "            dparr.append(z + 1)\n",
    "        \n",
    "    return dparr[n]\n",
    "\n",
    "# Main\n",
    "n=int(input())\n",
    "print(minStepsTo1DP(n, dparr))\n"
   ]
  },
  {
   "cell_type": "markdown",
   "metadata": {},
   "source": [
    "Min. Squares to represent N"
   ]
  },
  {
   "cell_type": "code",
   "execution_count": 44,
   "metadata": {},
   "outputs": [
    {
     "name": "stdout",
     "output_type": "stream",
     "text": [
      "13\n",
      "2\n"
     ]
    }
   ],
   "source": [
    "# bruteforce recursive\n",
    "from math import sqrt\n",
    "def minSquares(n):\n",
    "    if abs(sqrt(n)- int(sqrt(n)))<= 0.001:\n",
    "        return 1\n",
    "    minm = minSquares(n-1) + 1\n",
    "    for i in range(1, n):\n",
    "        x = minSquares(n-i) + minSquares(i)\n",
    "        if minm > x:\n",
    "            minm = x\n",
    "    return minm\n",
    "\n",
    "n = int(input())\n",
    "print(minSquares(n))\n",
    "            \n",
    "    \n",
    "    "
   ]
  },
  {
   "cell_type": "code",
   "execution_count": 41,
   "metadata": {},
   "outputs": [
    {
     "name": "stdout",
     "output_type": "stream",
     "text": [
      "41\n",
      "2\n"
     ]
    }
   ],
   "source": [
    "# iterative dp\n",
    "from math import sqrt\n",
    "dparr = [0, 1, 2, 3]\n",
    "def minSquares(n, dparr):\n",
    "    \n",
    "    for i in range(4, n+1):\n",
    "        if abs(sqrt(i)- int(sqrt(i)))<= 0.001:\n",
    "            dparr.append(1)\n",
    "        else:\n",
    "            minim = dparr[1]+dparr[i-1]\n",
    "            for j in range(1, i):\n",
    "                x = dparr[j]+dparr[i-j]\n",
    "                if x < minim:\n",
    "                    minim = x\n",
    "            dparr.append(minim)\n",
    "    return dparr[n]\n",
    "    \n",
    "\n",
    "n = int(input())\n",
    "print(minSquares(n, dparr))\n",
    "            \n",
    "    \n",
    "    "
   ]
  },
  {
   "cell_type": "code",
   "execution_count": 42,
   "metadata": {},
   "outputs": [
    {
     "name": "stdout",
     "output_type": "stream",
     "text": [
      "41\n",
      "2\n"
     ]
    }
   ],
   "source": [
    "# memoization\n",
    "import sys, math\n",
    "dparr = [-1 for i in range(n+1)]\n",
    "def minSquares(n, dparr):\n",
    "    if n == 0:\n",
    "        return 0\n",
    "    ans = sys.maxsize\n",
    "    root = int(math.sqrt(n))\n",
    "    for i in range(1, root+1):\n",
    "        \n",
    "        newCheckValue = n-(i**2)\n",
    "        if dparr[newCheckValue] == -1:\n",
    "            smallAns = minSquares(newCheckValue, dparr)\n",
    "            dparr[newCheckValue] = smallAns\n",
    "            currAns = 1 + smallAns\n",
    "        else:\n",
    "            currAns = 1 + dparr[newCheckValue]\n",
    "        ans = min(ans, currAns)\n",
    "        \n",
    "    return ans\n",
    "        \n",
    "    \n",
    "\n",
    "n = int(input())\n",
    "print(minSquares(n, dparr))"
   ]
  },
  {
   "cell_type": "markdown",
   "metadata": {},
   "source": [
    "<b> LIS: </b>\n",
    "Longest Increasing Subsequence\n",
    "<br>\n",
    "Skipping characters is allowed (not subarray)"
   ]
  },
  {
   "cell_type": "code",
   "execution_count": null,
   "metadata": {},
   "outputs": [],
   "source": [
    "# bruteforce recursive\n",
    "def lis(arr, si, ei):\n",
    "    \n",
    "    for i in range(si, ei-si+1, 1):\n",
    "        max(lis(arr, i, ei))"
   ]
  }
 ],
 "metadata": {
  "kernelspec": {
   "display_name": "Python 3",
   "language": "python",
   "name": "python3"
  },
  "language_info": {
   "codemirror_mode": {
    "name": "ipython",
    "version": 3
   },
   "file_extension": ".py",
   "mimetype": "text/x-python",
   "name": "python",
   "nbconvert_exporter": "python",
   "pygments_lexer": "ipython3",
   "version": "3.6.8"
  }
 },
 "nbformat": 4,
 "nbformat_minor": 2
}
