{
 "cells": [
  {
   "cell_type": "markdown",
   "metadata": {},
   "source": [
    "Dynamic Programming attempts to solve problems which have:\n",
    "<u><b> Optimal Substructure</b> and \n",
    "    <b>Overlapping Subproblems</b> </u>\n"
   ]
  },
  {
   "cell_type": "markdown",
   "metadata": {},
   "source": [
    "This is done by storing the previously calculated values so that (recursive) function calls aren't made multiple times."
   ]
  },
  {
   "cell_type": "code",
   "execution_count": 17,
   "metadata": {},
   "outputs": [],
   "source": [
    "import time\n",
    "def fibb(n):\n",
    "    if n==0 or n==1:\n",
    "        return n\n",
    "    ans1 = fibb(n-1)\n",
    "    ans2 = fibb(n-2)\n",
    "    \n",
    "    myAns = ans1+ans2\n",
    "    return myAns"
   ]
  },
  {
   "cell_type": "code",
   "execution_count": 18,
   "metadata": {},
   "outputs": [
    {
     "name": "stdout",
     "output_type": "stream",
     "text": [
      "9227465\n",
      "5.47651219367981\n"
     ]
    }
   ],
   "source": [
    "t1 = time.time()\n",
    "print(fibb(35))\n",
    "t2 = time.time()\n",
    "print(t2-t1)"
   ]
  },
  {
   "cell_type": "markdown",
   "metadata": {},
   "source": [
    "Using an array to store ith fibonacci number, concept is called memoization"
   ]
  },
  {
   "cell_type": "code",
   "execution_count": 5,
   "metadata": {},
   "outputs": [
    {
     "name": "stdout",
     "output_type": "stream",
     "text": [
      "35\n",
      "9227465\n",
      "0.0007214546203613281\n"
     ]
    }
   ],
   "source": [
    "import time\n",
    "def fibdp(n, dparr):\n",
    "    if n==0 or n==1:\n",
    "        return n\n",
    "    if dparr[n-1] == -1:\n",
    "        ans1 = fibdp(n-1, dparr)\n",
    "        dparr[n-1] = ans1\n",
    "    else:\n",
    "        ans1 = dparr[n-1]\n",
    "    if dparr[n-2] == -1:\n",
    "        ans2 = fibdp(n-2, dparr)\n",
    "        dparr[n-2] = ans2\n",
    "    else:\n",
    "        ans2 = dparr[n-2]\n",
    "    \n",
    "    return ans1+ans2\n",
    "    \n",
    "    \n",
    "n = int(input())   \n",
    "dparr = [-1 for i in range(n+1)]\n",
    "t1 = time.time()\n",
    "print(fibdp(n, dparr))\n",
    "t2 = time.time()\n",
    "print(t2-t1)"
   ]
  },
  {
   "cell_type": "markdown",
   "metadata": {},
   "source": [
    "In computing, memoization or memoisation is an optimization technique used primarily to speed up computer programs by storing the results of expensive function calls and returning the cached result when the same inputs occur again. Storage can be done through an array or hashmap or other data structures of the like."
   ]
  },
  {
   "cell_type": "markdown",
   "metadata": {},
   "source": [
    "<b> Time Complexity of Memoization </b>\n",
    "In case of recursion the time complexity was 2^n. Using memoization we can decrease the number of calls and reduce time complexity to O(n).\n",
    "Space complexity initially ie for the recursion is O(n) and in case of DP it increases to O(2n) which is almost the same complexity!"
   ]
  },
  {
   "cell_type": "markdown",
   "metadata": {},
   "source": [
    "<b>Iterative Dynamic Programming</b>"
   ]
  },
  {
   "cell_type": "markdown",
   "metadata": {},
   "source": [
    "Converting the recursive solution to iterative one using recurrance relations. Initialize array with 0 and 1 at the respective idices, and continue adding per next index."
   ]
  },
  {
   "cell_type": "code",
   "execution_count": 11,
   "metadata": {},
   "outputs": [],
   "source": [
    "dparr = [0, 1]\n",
    "def iterfibo(dparr, n):\n",
    "    for i in range(2, n+1):\n",
    "        dparr.append(dparr[i-1]+dparr[i-2])\n",
    "    return dparr[n]\n",
    "        "
   ]
  },
  {
   "cell_type": "code",
   "execution_count": 12,
   "metadata": {},
   "outputs": [
    {
     "name": "stdout",
     "output_type": "stream",
     "text": [
      "9227465\n",
      "0.0011625289916992188\n"
     ]
    }
   ],
   "source": [
    "import time\n",
    "t1 = time.time()\n",
    "print(iterfibo(dparr, 35))\n",
    "t2 = time.time()\n",
    "print(t2 - t1)"
   ]
  },
  {
   "cell_type": "markdown",
   "metadata": {},
   "source": [
    "<p>Why Iterative Solutions are better:</p>\n",
    "1. There is no headache of stack overflow\n",
    "<br>\n",
    "2. In case of C++ and Java 10^4 stacks can wait whereas in python3 default    is 10^3 and this can be modified using sys.setrecursionlimit(10^4)\n",
    "This where recursion fails, 10^6 fibonacci number cannot be calculated, here iterative solutions are better"
   ]
  },
  {
   "cell_type": "markdown",
   "metadata": {},
   "source": [
    "<b>Min Steps To 1</b>\n",
    "\n",
    "Given a positive integer n, find the minimum number of steps s, that takes n to 1. You can perform any one of the following 3 steps."
   ]
  },
  {
   "cell_type": "code",
   "execution_count": 38,
   "metadata": {},
   "outputs": [
    {
     "name": "stdout",
     "output_type": "stream",
     "text": [
      "12\n",
      "3\n"
     ]
    }
   ],
   "source": [
    "# approach 1: bruteforce recursive\n",
    "def minStepsTo1DP(n):\n",
    "    ''' Return Minimum no of steps required to reach 1 using using Dynamic Prog'''\n",
    "    x = y =None\n",
    "    if n == 0:\n",
    "        return None\n",
    "    elif n == 1:\n",
    "        return 1\n",
    "    if n % 3 == 0:\n",
    "        x = minStepsTo1DP(n//3)\n",
    "    if n%2 == 0:\n",
    "        y = minStepsTo1DP(n//2)\n",
    "    z = minStepsTo1DP(n-1)\n",
    "    if x and y:\n",
    "        return min(x, y, z) + 1\n",
    "    elif x:\n",
    "        return min(x, z) + 1\n",
    "    elif y:\n",
    "        return min(y, z) + 1\n",
    "    else:\n",
    "        return z + 1\n",
    "    \n",
    "    \n",
    "\n",
    "# Main\n",
    "\n",
    "n=int(input())\n",
    "print(minStepsTo1DP(n)-1)\n"
   ]
  },
  {
   "cell_type": "code",
   "execution_count": 37,
   "metadata": {},
   "outputs": [
    {
     "name": "stdout",
     "output_type": "stream",
     "text": [
      "12\n",
      "3\n"
     ]
    }
   ],
   "source": [
    "# to minimize the time taken\n",
    "dparr = [0, 1, 1, 1]\n",
    "def minStepsTo1DP(n, dparr):\n",
    "    ''' Return Minimum no of steps required to reach 1 using using Dynamic Prog'''\n",
    "    for i in range(4, n+1):\n",
    "        x = y = None\n",
    "        if i % 3 == 0:\n",
    "            x = dparr[i//3]\n",
    "        if i % 2 == 0:\n",
    "            y = dparr[i//2]\n",
    "        z = dparr[i-1]\n",
    "        if x and y:\n",
    "            dparr.append(min(x, y, z) + 1)\n",
    "        elif x:\n",
    "            dparr.append(min(x, z) + 1)\n",
    "        elif y:\n",
    "            dparr.append(min(y, z) + 1)\n",
    "        else:\n",
    "            dparr.append(z + 1)\n",
    "        \n",
    "    return dparr[n]\n",
    "\n",
    "# Main\n",
    "n=int(input())\n",
    "print(minStepsTo1DP(n, dparr))\n"
   ]
  },
  {
   "cell_type": "markdown",
   "metadata": {},
   "source": [
    "Min. Squares to represent N"
   ]
  },
  {
   "cell_type": "code",
   "execution_count": 44,
   "metadata": {},
   "outputs": [
    {
     "name": "stdout",
     "output_type": "stream",
     "text": [
      "13\n",
      "2\n"
     ]
    }
   ],
   "source": [
    "# bruteforce recursive\n",
    "from math import sqrt\n",
    "def minSquares(n):\n",
    "    if abs(sqrt(n)- int(sqrt(n)))<= 0.001:\n",
    "        return 1\n",
    "    minm = minSquares(n-1) + 1\n",
    "    for i in range(1, n):\n",
    "        x = minSquares(n-i) + minSquares(i)\n",
    "        if minm > x:\n",
    "            minm = x\n",
    "    return minm\n",
    "\n",
    "n = int(input())\n",
    "print(minSquares(n))\n",
    "            \n",
    "    \n",
    "    "
   ]
  },
  {
   "cell_type": "code",
   "execution_count": 41,
   "metadata": {},
   "outputs": [
    {
     "name": "stdout",
     "output_type": "stream",
     "text": [
      "41\n",
      "2\n"
     ]
    }
   ],
   "source": [
    "# iterative dp\n",
    "from math import sqrt\n",
    "dparr = [0, 1, 2, 3]\n",
    "def minSquares(n, dparr):\n",
    "    \n",
    "    for i in range(4, n+1):\n",
    "        if abs(sqrt(i)- int(sqrt(i)))<= 0.001:\n",
    "            dparr.append(1)\n",
    "        else:\n",
    "            minim = dparr[1]+dparr[i-1]\n",
    "            for j in range(1, i):\n",
    "                x = dparr[j]+dparr[i-j]\n",
    "                if x < minim:\n",
    "                    minim = x\n",
    "            dparr.append(minim)\n",
    "    return dparr[n]\n",
    "    \n",
    "\n",
    "n = int(input())\n",
    "print(minSquares(n, dparr))\n",
    "            \n",
    "    \n",
    "    "
   ]
  },
  {
   "cell_type": "code",
   "execution_count": 42,
   "metadata": {},
   "outputs": [
    {
     "name": "stdout",
     "output_type": "stream",
     "text": [
      "41\n",
      "2\n"
     ]
    }
   ],
   "source": [
    "# memoization\n",
    "import sys, math\n",
    "dparr = [-1 for i in range(n+1)]\n",
    "def minSquares(n, dparr):\n",
    "    if n == 0:\n",
    "        return 0\n",
    "    ans = sys.maxsize\n",
    "    root = int(math.sqrt(n))\n",
    "    for i in range(1, root+1):\n",
    "        \n",
    "        newCheckValue = n-(i**2)\n",
    "        if dparr[newCheckValue] == -1:\n",
    "            smallAns = minSquares(newCheckValue, dparr)\n",
    "            dparr[newCheckValue] = smallAns\n",
    "            currAns = 1 + smallAns\n",
    "        else:\n",
    "            currAns = 1 + dparr[newCheckValue]\n",
    "        ans = min(ans, currAns)\n",
    "        \n",
    "    return ans\n",
    "        \n",
    "    \n",
    "\n",
    "n = int(input())\n",
    "print(minSquares(n, dparr))"
   ]
  },
  {
   "cell_type": "markdown",
   "metadata": {},
   "source": [
    "<b> LIS: </b>\n",
    "Longest Increasing Subsequence\n",
    "<br>\n",
    "Skipping characters is allowed (not subarray)"
   ]
  },
  {
   "cell_type": "code",
   "execution_count": 8,
   "metadata": {},
   "outputs": [
    {
     "name": "stdout",
     "output_type": "stream",
     "text": [
      "6\n",
      "12 4 78 90 45 23\n",
      "3\n"
     ]
    }
   ],
   "source": [
    "# bruteforce recursive\n",
    "# return 2 things namely lis including and excluding the number\n",
    "def lis(arr, si, ei):\n",
    "    if si==ei:\n",
    "        return 0, 0\n",
    "    \n",
    "    including_max = 1\n",
    "    for i in range(si+1, ei):\n",
    "        if arr[i]>=arr[si]:\n",
    "            furtherincludingmax = lis(arr, i, ei)[0]\n",
    "            including_max = max(including_max, 1+furtherincludingmax)\n",
    "    excluding_max = lis(arr, si+1, ei)[1]\n",
    "    overall_max = max(including_max, excluding_max)\n",
    "    return including_max, overall_max\n",
    "        \n",
    "n = int(input())\n",
    "arr = list([int(i) for i in input().split()])\n",
    "print(lis(arr, 0, n)[1])"
   ]
  },
  {
   "cell_type": "code",
   "execution_count": 15,
   "metadata": {},
   "outputs": [
    {
     "name": "stdout",
     "output_type": "stream",
     "text": [
      "403\n",
      "1505 3099 3038 4260 1002 3944 3785 1954 2585 111 2842 2425 3877 3355 881 2703 4366 3055 2930 3243 26 1763 4308 1050 2553 2925 3507 1865 3805 130 2369 2508 2884 959 3561 1747 2126 526 4639 1089 4149 98 1752 693 48 4776 4326 221 3745 1063 4935 4793 4486 283 905 2397 3514 2257 1128 1005 1927 337 2948 1423 4873 3866 2 334 2281 2437 2341 2342 3481 2836 200 4841 2246 4401 2351 395 4954 1638 4052 2953 2817 4319 3203 1606 4386 4972 1515 3794 1809 1614 132 3852 3667 4824 1385 2509 3539 2761 96 3506 1861 539 4113 4811 4027 1442 4582 3996 150 1821 1780 215 1367 4173 2211 3896 4089 3805 2064 4683 2123 3691 1070 3378 2184 4641 4239 4662 897 3630 1972 4128 1041 2215 1551 724 1439 4279 80 4083 3598 2949 518 288 3934 453 3590 4576 3179 1813 3978 149 4336 3761 4410 3733 2398 3982 948 779 2887 2807 2032 1238 2136 4781 2617 634 194 1111 3032 794 2124 842 32 4921 498 3787 4897 2891 865 1617 295 4575 3009 254 4111 1717 3917 1676 4341 2388 3435 1524 4703 1324 765 434 608 4536 4090 1854 4686 2382 1822 2227 177 1971 2211 783 4088 2130 3275 893 176 2387 2347 2859 4510 1364 3809 4270 3541 4754 4973 3571 1410 3564 3445 266 4429 4631 4686 1291 1545 2511 1009 2423 4867 4725 2626 1245 4271 976 2973 4119 4433 1433 3994 3802 1631 4350 2686 1837 1058 4330 2802 628 3442 4298 228 4137 2246 1826 2224 3472 4799 3791 4422 4269 2294 2472 188 1629 4703 1109 4726 565 2313 2622 1081 369 754 1666 2030 29 1133 2447 695 3858 1088 2758 3599 1788 1393 3501 2800 2360 1017 2571 3682 3308 1396 2325 1969 4760 3046 1058 2520 3536 4528 805 3526 3678 223 1530 2773 3385 4333 267 2763 1738 4007 3047 3612 213 4534 2512 1789 3738 4086 4977 3991 4213 4581 2291 3647 792 3862 1307 2826 867 2541 1910 4580 3709 1514 3550 125 4885 3398 4972 1567 4151 2853 2363 4286 2276 2063 2453 3518 3348 3398 4205 2087 3474 1692 592 751 4419 3370 640 4118 1669 4097 1323 3625 572 546 4142 4656 1758 331 2218 2470 2719 2158 483 1241 1577 768 4163 2187 1300 3289 4057 452 3321 232 \n",
      "33\n"
     ]
    }
   ],
   "source": [
    "# using dp\n",
    "# store previous answers in an arr\n",
    "\n",
    "def lis(arr, dparr, si, ei):\n",
    "    for i in range(si+1, ei+1, 1):\n",
    "        temp = []\n",
    "        for j in range(i):\n",
    "            if arr[j] < arr[i]:\n",
    "                temp.append(dparr[j])\n",
    "        if temp:\n",
    "            x = max(temp) + 1\n",
    "        else:\n",
    "            x = 1\n",
    "        dparr.append(x)\n",
    "    \n",
    "    return max(dparr)\n",
    "\n",
    "n = int(input())\n",
    "dparr = [1]\n",
    "li = list(int(ele) for ele in input().split())\n",
    "print(lis(li, dparr, 0, n-1))\n",
    "                \n",
    "            \n",
    "        "
   ]
  },
  {
   "cell_type": "code",
   "execution_count": 25,
   "metadata": {},
   "outputs": [
    {
     "name": "stdout",
     "output_type": "stream",
     "text": [
      "6\n",
      "12 4 78 90 45 23\n",
      "3\n"
     ]
    }
   ],
   "source": [
    "# lis using memoization\n",
    "def lis(li, i, n, dp):\n",
    "    \n",
    "    if i == n:\n",
    "        return 0,0\n",
    "    \n",
    "    including_max = 1\n",
    "    for j in range(i+1, n):\n",
    "        if li[j] >= li[i]:\n",
    "            if dp[j] == -1:\n",
    "                ans = lis(li, j, n, dp)\n",
    "                dp[j] = ans\n",
    "                further_including_max = ans[0]\n",
    "            else:\n",
    "                further_including_max = dp[j][0]\n",
    "                \n",
    "            including_max = max(including_max, 1 + further_including_max)\n",
    "    if dp[i+1] == -1:\n",
    "        ans = lis(li, i+1, n, dp)\n",
    "        dp[i+1] = ans\n",
    "        excluding_max = ans[1]\n",
    "    else:\n",
    "        excluding_max = dp[i+1][1]\n",
    "        \n",
    "    overall_Max = max(including_max, excluding_max)\n",
    "    \n",
    "    return including_max, overall_Max\n",
    "\n",
    "n= int(input())\n",
    "li = [int(ele) for ele in input().split()]\n",
    "dp = [-1 for i in range(n+1)]\n",
    "ans= lis(li, 0, n, dp)[1]\n",
    "print(ans)\n",
    "    "
   ]
  },
  {
   "cell_type": "code",
   "execution_count": null,
   "metadata": {},
   "outputs": [],
   "source": []
  }
 ],
 "metadata": {
  "kernelspec": {
   "display_name": "Python 3",
   "language": "python",
   "name": "python3"
  },
  "language_info": {
   "codemirror_mode": {
    "name": "ipython",
    "version": 3
   },
   "file_extension": ".py",
   "mimetype": "text/x-python",
   "name": "python",
   "nbconvert_exporter": "python",
   "pygments_lexer": "ipython3",
   "version": "3.6.8"
  }
 },
 "nbformat": 4,
 "nbformat_minor": 2
}
