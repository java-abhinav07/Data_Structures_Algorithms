{
 "cells": [
  {
   "cell_type": "markdown",
   "metadata": {},
   "source": [
    "# Min Cost Path Problem\n",
    "<br>\n",
    "Given an integer matrix of size m*n, you need to find out the value of minimum cost to reach from the cell (0, 0) to <br>(m-1, n-1).<br>\n",
    "From a cell (i, j), you can move in three directions : (i+1, j), (i, j+1) and (i+1, j+1).<br>\n",
    "Cost of a path is defined as the sum of values of each cell through which path passes.<br>"
   ]
  },
  {
   "cell_type": "code",
   "execution_count": 6,
   "metadata": {},
   "outputs": [
    {
     "name": "stdout",
     "output_type": "stream",
     "text": [
      "3 4\n",
      "1 2 3 4\n",
      "2 3 4 5\n",
      "3 4 5 6\n",
      "13\n"
     ]
    }
   ],
   "source": [
    "# recursive bruteforce approach\n",
    "def mincostpath(cost,m,n,i=0,j=0):\n",
    "    if i == m-1 and j == n-1:\n",
    "        return cost[i][j]\n",
    "    \n",
    "    elif i < m - 1 and j < n - 1:\n",
    "        cost1 = mincostpath(cost,m,n,i+1,j+1)\n",
    "        cost2 = mincostpath(cost,m,n,i+1,j)\n",
    "        cost3 = mincostpath(cost,m,n,i,j+1)\n",
    "        cost1 = min(cost1,cost2,cost3)\n",
    "        \n",
    "    elif i < m-1:\n",
    "\n",
    "        cost1 = mincostpath(cost,m,n,i+1,j)\n",
    "    elif j < n-1:\n",
    "\n",
    "        cost1 = mincostpath(cost,m,n,i,j+1)\n",
    "    \n",
    "    \n",
    "    #print(\"cost1: \", cost1, \"cost2: \", cost2, \"cost3: \", cost3)\n",
    "    return cost1 + cost[i][j]\n",
    "    \n",
    "    \n",
    "        \n",
    "arr = [int(i) for i in input().split()]\n",
    "m = arr[0]\n",
    "n = arr[1]\n",
    "cost = []\n",
    "for i in range(m):\n",
    "    arr = [int(x) for x in input().split()]\n",
    "    cost.append(arr)\n",
    "    \n",
    "print(mincostpath(cost,m,n))"
   ]
  },
  {
   "cell_type": "code",
   "execution_count": 1,
   "metadata": {},
   "outputs": [],
   "source": []
  },
  {
   "cell_type": "code",
   "execution_count": 5,
   "metadata": {},
   "outputs": [
    {
     "name": "stdout",
     "output_type": "stream",
     "text": [
      "3 4\n",
      "1 2 3 4\n",
      "2 3 4 5\n",
      "3 4 5 6\n",
      "13\n"
     ]
    }
   ],
   "source": [
    "# memoization approach'\n",
    "import sys\n",
    "def mincostpath(cost, m, n, dparr, i=0,j=0):\n",
    "    if i == m-1 and j == n-1:\n",
    "        return cost[i][j]\n",
    "    \n",
    "    elif i < m-1 and j < n-1:\n",
    "        if dparr[i+1][j] != sys.maxsize:\n",
    "            cost1 = dparr[i+1][j]\n",
    "        else:\n",
    "            cost1 = mincostpath(cost, m, n, dparr, i+1, j)\n",
    "            dparr[i+1][j] = cost1\n",
    "        if dparr[i][j+1] != sys.maxsize:\n",
    "            cost2 = dparr[i][j+1]\n",
    "        else:\n",
    "            cost2 = mincostpath(cost, m, n, dparr, i, j+1)\n",
    "            dparr[i][j+1] = cost2\n",
    "        if dparr[i+1][j+1] != sys.maxsize:\n",
    "            cost3 = dparr[i+1][j+1]\n",
    "        else:\n",
    "            cost3 = mincostpath(cost, m, n, dparr, i+1, j+1)\n",
    "            dparr[i+1][j] = cost3\n",
    "        cost1 = min(cost1, cost2, cost3)\n",
    "            \n",
    "    elif i < m-1:\n",
    "        if dparr[i+1][j] != sys.maxsize:\n",
    "            cost1 = dparr[i+1][j]\n",
    "        else:\n",
    "            cost1 = mincostpath(cost, m, n, dparr, i+1, j)\n",
    "            dparr[i+1][j] = cost1\n",
    "    elif j < n-1:\n",
    "        if dparr[i][j+1] != sys.maxsize:\n",
    "            cost1 = dparr[i][j+1]\n",
    "        else:\n",
    "            cost1 = mincostpath(cost, m, n, dparr, i, j+1)\n",
    "            dparr[i][j+1] = cost1\n",
    "    \n",
    "    return cost[i][j] + cost1\n",
    "\n",
    "arr = [int(i) for i in input().split()]\n",
    "m = arr[0]\n",
    "n = arr[1] \n",
    "dparr = [[sys.maxsize for i in range(n)] for j in range(m)]\n",
    "\n",
    "cost = []\n",
    "for i in range(m):\n",
    "    arr = [int(x) for x in input().split()]\n",
    "    cost.append(arr)\n",
    "    \n",
    "print(mincostpath(cost,m,n,dparr))\n",
    "\n",
    "        "
   ]
  },
  {
   "cell_type": "code",
   "execution_count": null,
   "metadata": {},
   "outputs": [],
   "source": []
  },
  {
   "cell_type": "code",
   "execution_count": 15,
   "metadata": {},
   "outputs": [
    {
     "name": "stdout",
     "output_type": "stream",
     "text": [
      "3 4\n",
      "1 2 3 4\n",
      "2 3 4 5\n",
      "3 4 5 6\n",
      "13\n"
     ]
    }
   ],
   "source": [
    "# iterative dp approach\n",
    "\n",
    "def mincostpath(cost, m, n, dparr):\n",
    "    for a in range(m):\n",
    "        for b in range(n):\n",
    "            if a >= 1 and b >= 1:\n",
    "                dparr[a][b] = min(dparr[a-1][b-1], dparr[a][b-1], dparr[a-1][b]) + cost[a][b]\n",
    "            elif a >= 1:\n",
    "                dparr[a][b] = dparr[a-1][b] + cost[a][b]\n",
    "            elif b >= 1:\n",
    "                dparr[a][b] = dparr[a][b-1] + cost[a][b]\n",
    "                \n",
    "                    \n",
    "    \n",
    "    return dparr[m-1][n-1]\n",
    "\n",
    "\n",
    "arr = [int(i) for i in input().split()]\n",
    "m = arr[0]\n",
    "n = arr[1] \n",
    "cost = []\n",
    "for i in range(m):\n",
    "    arr = [int(x) for x in input().split()]\n",
    "    cost.append(arr)\n",
    "dparr = [[sys.maxsize for i in range(n)] for j in range(m)]\n",
    "dparr[0][0] = cost[0][0]\n",
    "print(mincostpath(cost, m, n, dparr))\n"
   ]
  },
  {
   "cell_type": "code",
   "execution_count": null,
   "metadata": {},
   "outputs": [],
   "source": []
  },
  {
   "cell_type": "markdown",
   "metadata": {},
   "source": [
    "<b> Bottom up and Top down Approach </b><br>\n",
    "    The question above uses the top to down approach, since we are filling the dparray by getting the minimum cost from the top of the arr to the point where we are right now.<br>\n",
    "    Whereas in the bottom up approach we check the minimum cost from the bottom of the array and the ans will be at dparr[0][0]\n",
    "    "
   ]
  },
  {
   "cell_type": "code",
   "execution_count": 16,
   "metadata": {},
   "outputs": [
    {
     "name": "stdout",
     "output_type": "stream",
     "text": [
      "30\n"
     ]
    }
   ],
   "source": [
    "# bottom up approach\n",
    "\n",
    "def mincostpath(cost, n, m):\n",
    "    dp = [[sys.maxsize for j in range(m+1)] for i in range(n+1)]\n",
    "    \n",
    "    for i in range(n-1, -1, -1):\n",
    "        for j in range(m-1, -1, -1):\n",
    "            if i == n-1 and j == m-1:\n",
    "                dp[i][j] = cost[i][j]\n",
    "            else:\n",
    "                ans1 = dp[i+1][j]\n",
    "                ans2 = dp[i][j+1]\n",
    "                ans3 = dp[i+1][j+1]\n",
    "                dp[i][j] = cost[i][j] +min(ans1,ans2,ans3)\n",
    "    return dp[0][0]\n",
    "\n",
    "cost = [[1,5,11],[8,13,12],[2,3,7],[15,16,18]]\n",
    "n = 4\n",
    "m = 3\n",
    "ans = mincostpath(cost, n, m)\n",
    "print(ans)"
   ]
  },
  {
   "cell_type": "markdown",
   "metadata": {},
   "source": [
    "# Longest Common Substring"
   ]
  },
  {
   "cell_type": "markdown",
   "metadata": {},
   "source": [
    "LCS - Problem\n",
    "<br>\n",
    "Given 2 strings of S1 and S2 with lengths m and n respectively, find the length of longest common subsequence.<br>\n",
    "A subsequence of a string S whose length is n, is a string containing characters in same relative order as they are <br>\n",
    "present in S, but not necessarily contiguous. Subsequences contain all the strings of length varying from 0 to n. E.g. subsequences of string \"abc\" are - \"\",a,b,c,ab,bc,ac,abc."
   ]
  },
  {
   "cell_type": "code",
   "execution_count": 4,
   "metadata": {},
   "outputs": [
    {
     "name": "stdout",
     "output_type": "stream",
     "text": [
      "abcdefjhj\n",
      "axbcdksad\n",
      "4\n"
     ]
    }
   ],
   "source": [
    "# recursive approach\n",
    "def lcsDP(s1, s2, i=0, j=0):\n",
    "    if len(s1) == i or len(s2) == j:\n",
    "        return 0\n",
    "    \n",
    "    if s1[i] == s2[j]:\n",
    "        return 1 + lcsDP(s1,s2,i+1,j+1)\n",
    "    else:\n",
    "        return max(lcsDP(s1,s2,i+1,j),lcsDP(s1,s2,i,j+1))\n",
    "    \n",
    "    \n",
    "    \n",
    "\n",
    "s1 =input().strip()\n",
    "s2 =input().strip()\n",
    "print(lcsDP(s1, s2))"
   ]
  },
  {
   "cell_type": "code",
   "execution_count": 8,
   "metadata": {},
   "outputs": [
    {
     "name": "stdout",
     "output_type": "stream",
     "text": [
      "axbcdksad\n",
      "abcdefjhj\n",
      "4\n"
     ]
    }
   ],
   "source": [
    "# memoization approach\n",
    "def lcsDP(s1,s2,dparr, i=0,j=0):\n",
    "    if len(s1) == i or len(s2) == j:\n",
    "        return 0\n",
    "    \n",
    "    if s1[i] == s2[j]:\n",
    "        if dparr[i+1][j+1] != -1:\n",
    "            return 1 + dparr[i+1][j+1]\n",
    "        else:\n",
    "            \n",
    "            dparr[i+1][j+1] = lcsDP(s1,s2,dparr, i+1,j+1)\n",
    "            return 1 + dparr[i+1][j+1]\n",
    "    else:\n",
    "        if dparr[i+1][j] != -1 and dparr[i][j+1] != -1:\n",
    "            return max(dparr[i+1][j], dparr[i][j+1])\n",
    "        elif dparr[i+1][j] != -1:\n",
    "            dparr[i][j+1] =  lcsDP(s1,s2,dparr,i,j+1)\n",
    "            return max(dparr[i+1][j], dparr[i][j+1])\n",
    "        elif dparr[i][j+1] != -1:\n",
    "            dparr[i+1][j] = lcsDP(s1, s2,dparr, i+1, j)\n",
    "            return max(dparr[i+1][j], dparr[i][j+1])\n",
    "        else:\n",
    "            dparr[i+1][j] = lcsDP(s1, s2,dparr, i+1, j)\n",
    "            dparr[i][j+1] = lcsDP(s1, s2,dparr, i, j+1)\n",
    "            return max(dparr[i][j+1], dparr[i+1][j])\n",
    "\n",
    "s1 = input().strip()\n",
    "s2 = input().strip()\n",
    "dparr = [[-1 for i in range(len(s2)+1)] for j in range(len(s1)+1)]\n",
    "print(lcsDP(s1, s2, dparr))\n",
    "            "
   ]
  },
  {
   "cell_type": "code",
   "execution_count": 4,
   "metadata": {},
   "outputs": [
    {
     "name": "stdout",
     "output_type": "stream",
     "text": [
      "axbcdksad\n",
      "abcdefjhj\n",
      "4\n"
     ]
    }
   ],
   "source": [
    "# iterative approach\n",
    "import sys\n",
    "def lcsDPiter(s1,s2,dparr,i=0,j=0):\n",
    "    \n",
    "    \n",
    "    for i in range(m-1,-1,-1):\n",
    "        for j in range(n-1,-1,-1):\n",
    "            if s1[i] == s2[j]:\n",
    "                dparr[i][j] = dparr[i+1][j+1] + 1\n",
    "            else:\n",
    "                dparr[i][j] = max(dparr[i+1][j], dparr[i][j+1])\n",
    "                \n",
    "    return dparr[0][0]\n",
    "        \n",
    "s1 = input().strip()\n",
    "s2 = input().strip()\n",
    "m = len(s1)\n",
    "n= len(s2)\n",
    "dparr = [[0 for i in range(n+1)] for j in range(m+1)]\n",
    "for i in range(m+1):\n",
    "    for j in range(n+1):\n",
    "        if i == m or j == n:\n",
    "            dparr[i][j] == 0\n",
    "        else:\n",
    "            dparr[i][j] = sys.maxsize\n",
    "            \n",
    "print(lcsDPiter(s1,s2,dparr))\n"
   ]
  },
  {
   "cell_type": "markdown",
   "metadata": {},
   "source": []
  }
 ],
 "metadata": {
  "kernelspec": {
   "display_name": "Python 3",
   "language": "python",
   "name": "python3"
  },
  "language_info": {
   "codemirror_mode": {
    "name": "ipython",
    "version": 3
   },
   "file_extension": ".py",
   "mimetype": "text/x-python",
   "name": "python",
   "nbconvert_exporter": "python",
   "pygments_lexer": "ipython3",
   "version": "3.6.8"
  }
 },
 "nbformat": 4,
 "nbformat_minor": 2
}
