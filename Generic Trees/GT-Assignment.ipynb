{
 "cells": [
  {
   "cell_type": "markdown",
   "metadata": {},
   "source": [
    "Contains x\n",
    "\n",
    "Given a generic tree and an integer x, check if x is present in the given tree or not. Return true if x is present, return false otherwise."
   ]
  },
  {
   "cell_type": "code",
   "execution_count": 4,
   "metadata": {},
   "outputs": [
    {
     "name": "stdout",
     "output_type": "stream",
     "text": [
      "4\n",
      "10 3 20 30 40 2 40 50 0 0 0 0 \n",
      "false\n"
     ]
    }
   ],
   "source": [
    "class treeNode:\n",
    "    def __init__(self, data):\n",
    "        self.data = data\n",
    "        self.children = []\n",
    "    def __str__(self):\n",
    "        return str(self.data)\n",
    "\n",
    "def containsX(tree, x):\n",
    "    if not tree:\n",
    "        return False\n",
    "    if tree.data == x:\n",
    "        return True\n",
    "    for child in tree.children:\n",
    "        if containsX(child, x):\n",
    "            return True\n",
    "    return False\n",
    "\n",
    "def createLevelWiseTree(arr):\n",
    "    root = treeNode(int(arr[0]))\n",
    "    q = [root]\n",
    "    size = len(arr)\n",
    "    i = 1\n",
    "    while i<size:\n",
    "        parent = q.pop(0)\n",
    "        childCount = int(arr[i])\n",
    "        i += 1\n",
    "        for j in range(0,childCount):\n",
    "            temp = treeNode(int(arr[i+j]))\n",
    "            parent.children.append(temp)\n",
    "            q.append(temp)\n",
    "        i += childCount\n",
    "    return root\n",
    "\n",
    "\n",
    "# Main\n",
    "x=int(input())\n",
    "arr = list(int(x) for x in input().strip().split(' '))\n",
    "tree = createLevelWiseTree(arr)\n",
    "if containsX(tree,x):\n",
    "    print('true')\n",
    "else:\n",
    "    print('false')\n"
   ]
  },
  {
   "cell_type": "markdown",
   "metadata": {},
   "source": [
    "Count leaf Nodes\n",
    "\n",
    "Given a generic tree, count and return the number of leaf nodes present in the given tree.\n",
    "\n",
    "Input format :\n",
    "Elements in level order form separated by space (as per done in class). Order is - \n",
    "\n",
    "Root_data, n (No_Of_Child_Of_Root), n children, and so on for every element \n",
    "\n",
    "Output Format :\n",
    "Count of leaf nodes"
   ]
  },
  {
   "cell_type": "code",
   "execution_count": 5,
   "metadata": {},
   "outputs": [
    {
     "name": "stdout",
     "output_type": "stream",
     "text": [
      "10 3 20 30 40 2 40 50 0 0 0 0 \n",
      "4\n"
     ]
    }
   ],
   "source": [
    "class treeNode:\n",
    "    def __init__(self, data):\n",
    "        self.data = data\n",
    "        self.children = []\n",
    "    def __str__(self):\n",
    "        return str(self.data)\n",
    "\n",
    "def leafNodeCount(tree):\n",
    "    if not tree:\n",
    "        return 0\n",
    "    count = 0\n",
    "    if not tree.children:\n",
    "        return count+1\n",
    "    for child in tree.children:\n",
    "        count += leafNodeCount(child)\n",
    "    return count\n",
    "\n",
    "def createLevelWiseTree(arr):\n",
    "    root = treeNode(int(arr[0]))\n",
    "    q = [root]\n",
    "    size = len(arr)\n",
    "    i = 1\n",
    "    while i<size:\n",
    "        parent = q.pop(0)\n",
    "        childCount = int(arr[i])\n",
    "        i += 1\n",
    "        for j in range(0,childCount):\n",
    "            temp = treeNode(int(arr[i+j]))\n",
    "            parent.children.append(temp)\n",
    "            q.append(temp)\n",
    "        i += childCount\n",
    "    return root\n",
    "\n",
    "# Main\n",
    "arr = list(int(x) for x in input().strip().split(' '))\n",
    "tree = createLevelWiseTree(arr)\n",
    "print(leafNodeCount(tree))\n"
   ]
  },
  {
   "cell_type": "markdown",
   "metadata": {},
   "source": [
    "Node with maximum child sum\n",
    "\n",
    "Given a tree, find and return the node for which sum of data of all children and the node itself is maximum. In the sum, data of node itself and data of immediate children is to be taken."
   ]
  },
  {
   "cell_type": "code",
   "execution_count": 1,
   "metadata": {},
   "outputs": [
    {
     "name": "stdout",
     "output_type": "stream",
     "text": [
      "10 3 20 30 40 2 40 50 0 0 0 0 \n",
      "4\n"
     ]
    }
   ],
   "source": [
    "class treeNode:\n",
    "    def __init__(self, data):\n",
    "        self.data = data\n",
    "        self.children = []\n",
    "    def __str__(self):\n",
    "        return str(self.data)\n",
    "\n",
    "def leafNodeCount(tree):\n",
    "    if not tree:\n",
    "        return 0\n",
    "    count = 0\n",
    "    if not tree.children:\n",
    "        return count+1\n",
    "    for child in tree.children:\n",
    "        count += leafNodeCount(child)\n",
    "    return count\n",
    "\n",
    "def createLevelWiseTree(arr):\n",
    "    root = treeNode(int(arr[0]))\n",
    "    q = [root]\n",
    "    size = len(arr)\n",
    "    i = 1\n",
    "    while i<size:\n",
    "        parent = q.pop(0)\n",
    "        childCount = int(arr[i])\n",
    "        i += 1\n",
    "        for j in range(0,childCount):\n",
    "            temp = treeNode(int(arr[i+j]))\n",
    "            parent.children.append(temp)\n",
    "            q.append(temp)\n",
    "        i += childCount\n",
    "    return root\n",
    "\n",
    "# Main\n",
    "arr = list(int(x) for x in input().strip().split(' '))\n",
    "tree = createLevelWiseTree(arr)\n",
    "print(leafNodeCount(tree))\n"
   ]
  },
  {
   "cell_type": "markdown",
   "metadata": {},
   "source": [
    "Node with maximum child sum\n",
    "\n",
    "Given a tree, find and return the node for which sum of data of all children and the node itself is maximum. In the sum, data of node itself and data of immediate children is to be taken."
   ]
  },
  {
   "cell_type": "code",
   "execution_count": 2,
   "metadata": {},
   "outputs": [
    {
     "name": "stdout",
     "output_type": "stream",
     "text": [
      "5 3 1 2 3 1 15 2 4 5 1 6 0 0 0 0\n",
      "1\n"
     ]
    }
   ],
   "source": [
    "class treeNode:\n",
    "    def __init__(self, data):\n",
    "        self.data = data\n",
    "        self.children = []\n",
    "\n",
    "def maxSumNode(root):\n",
    "    if not root:\n",
    "        return \n",
    "    tempSum = root.data\n",
    "    temp = root\n",
    "    for child in root.children:\n",
    "        tempSum += child.data\n",
    "    for child in root.children:\n",
    "        childSum, child = maxSumNode(child)\n",
    "        if childSum > tempSum:\n",
    "            temp = child\n",
    "    return tempSum, temp\n",
    "        \n",
    "\n",
    "def createLevelWiseTree(arr):\n",
    "    root = treeNode(int(arr[0]))\n",
    "    q = [root]\n",
    "    size = len(arr)\n",
    "    i = 1\n",
    "    while i<size:\n",
    "        parent = q.pop(0)\n",
    "        childCount = int(arr[i])\n",
    "        i += 1\n",
    "        for j in range(0,childCount):\n",
    "            temp = treeNode(int(arr[i+j]))\n",
    "            parent.children.append(temp)\n",
    "            q.append(temp)\n",
    "        i += childCount\n",
    "    return root\n",
    "\n",
    "# Main\n",
    "arr = list(int(x) for x in input().strip().split(' '))\n",
    "tree = createLevelWiseTree(arr)\n",
    "tempSum, temp = maxSumNode(tree)\n",
    "print(temp.data)\n"
   ]
  },
  {
   "cell_type": "markdown",
   "metadata": {},
   "source": [
    "Structurally identical\n",
    "\n",
    "Given two Generic trees, return true if they are structurally identical i.e. they are made of nodes with the same values arranged in the same way."
   ]
  },
  {
   "cell_type": "code",
   "execution_count": 3,
   "metadata": {},
   "outputs": [
    {
     "name": "stdout",
     "output_type": "stream",
     "text": [
      "10 3 20 30 40 2 40 50 0 0 0 0 \n",
      "10 3 20 30 40 2 40 50 0 0 0 0\n",
      "true\n"
     ]
    }
   ],
   "source": [
    "class treeNode:\n",
    "    def __init__(self, data):\n",
    "        self.data = data\n",
    "        self.children = []\n",
    "\n",
    "def isIdentical(tree1, tree2):\n",
    "    if not tree1 and not tree2:\n",
    "        return True\n",
    "    if not tree1 and tree2:\n",
    "        return False\n",
    "    if not tree2 and tree1:\n",
    "        return False\n",
    "    if tree1.data != tree2.data:\n",
    "        return False\n",
    "    for child1, child2 in zip(tree1.children, tree2.children):\n",
    "        if not isIdentical(child1, child2):\n",
    "            return False\n",
    "    return True\n",
    "            \n",
    "\n",
    "def createLevelWiseTree(arr):\n",
    "    root = treeNode(int(arr[0]))\n",
    "    q = [root]\n",
    "    size = len(arr)\n",
    "    i = 1\n",
    "    while i<size:\n",
    "        parent = q.pop(0)\n",
    "        childCount = int(arr[i])\n",
    "        i += 1\n",
    "        for j in range(0,childCount):\n",
    "            temp = treeNode(int(arr[i+j]))\n",
    "            parent.children.append(temp)\n",
    "            q.append(temp)\n",
    "        i += childCount\n",
    "    return root\n",
    "\n",
    "# Main\n",
    "arr1 = list(int(x) for x in input().strip().split(' '))\n",
    "tree1 = createLevelWiseTree(arr1)\n",
    "arr2 = list(int(x) for x in input().strip().split(' '))\n",
    "tree2 = createLevelWiseTree(arr2)\n",
    "if isIdentical(tree1, tree2):\n",
    "    print('true')\n",
    "else:\n",
    "    print('false')\n"
   ]
  },
  {
   "cell_type": "markdown",
   "metadata": {},
   "source": [
    "Next larger\n",
    "\n",
    "Given a generic tree and an integer n. Find and return the node with next larger element in the Tree i.e. find a node with value just greater than n.\n",
    "Return NULL if no node is present with the value greater than n."
   ]
  },
  {
   "cell_type": "code",
   "execution_count": 4,
   "metadata": {},
   "outputs": [
    {
     "name": "stdout",
     "output_type": "stream",
     "text": [
      "18\n",
      "10 3 20 30 40 2 40 50 0 0 0 0 \n",
      "20\n"
     ]
    }
   ],
   "source": [
    "class treeNode:\n",
    "    def __init__(self, data):\n",
    "        self.data = data\n",
    "        self.children = []\n",
    "\n",
    "def nextLargest(tree, n):\n",
    "    if not tree:\n",
    "        return None\n",
    "    if tree.data > n:\n",
    "        ans = tree\n",
    "    else:\n",
    "        ans = None\n",
    "    for child in tree.children:\n",
    "        newans = nextLargest(child, n)\n",
    "        if ans:\n",
    "            if newans:\n",
    "                if newans.data < ans.data:\n",
    "                    ans = newans\n",
    "        else:\n",
    "            ans = newans\n",
    "    return ans\n",
    "\n",
    "def createLevelWiseTree(arr):\n",
    "    root = treeNode(int(arr[0]))\n",
    "    q = [root]\n",
    "    size = len(arr)\n",
    "    i = 1\n",
    "    while i<size:\n",
    "        parent = q.pop(0)\n",
    "        childCount = int(arr[i])\n",
    "        i += 1\n",
    "        for j in range(0,childCount):\n",
    "            temp = treeNode(int(arr[i+j]))\n",
    "            parent.children.append(temp)\n",
    "            q.append(temp)\n",
    "        i += childCount\n",
    "    return root\n",
    "\n",
    "# Main\n",
    "n = int(input())\n",
    "arr = list(int(x) for x in input().strip().split(' '))\n",
    "tree = createLevelWiseTree(arr)\n",
    "if nextLargest(tree, n):\n",
    "    print(nextLargest(tree, n).data)\n",
    "\n"
   ]
  },
  {
   "cell_type": "markdown",
   "metadata": {},
   "source": [
    "Replace with depth\n",
    "\n",
    "In a given Generic Tree, replace each node with its depth value. You need to just update the data of each node, no need to return or print anything."
   ]
  },
  {
   "cell_type": "code",
   "execution_count": 5,
   "metadata": {},
   "outputs": [
    {
     "name": "stdout",
     "output_type": "stream",
     "text": [
      "10 3 20 30 40 2 40 50 0 0 0 0 \n",
      "0 \n",
      "1 1 1 \n",
      "2 2 \n"
     ]
    }
   ],
   "source": [
    "class treeNode:\n",
    "    def __init__(self, data):\n",
    "        self.data = data\n",
    "        self.children = []\n",
    "\n",
    "def replacewithDepth(tree):\n",
    "    tree = replaceHelper(tree)\n",
    "    \n",
    "def replaceHelper(root, depth=0):\n",
    "    if not root:\n",
    "        return\n",
    "    root.data = depth\n",
    "    for child in root.children:\n",
    "        child = replaceHelper(child, depth+1)\n",
    "    return root\n",
    "    \n",
    "    \n",
    "def createLevelWiseTree(arr):\n",
    "    root = treeNode(int(arr[0]))\n",
    "    q = [root]\n",
    "    size = len(arr)\n",
    "    i = 1\n",
    "    while i<size:\n",
    "        parent = q.pop(0)\n",
    "        childCount = int(arr[i])\n",
    "        i += 1\n",
    "        for j in range(0,childCount):\n",
    "            temp = treeNode(int(arr[i+j]))\n",
    "            parent.children.append(temp)\n",
    "            q.append(temp)\n",
    "        i += childCount\n",
    "    return root\n",
    "\n",
    "def printLevelAtNewLine(tree):\n",
    "    q = [tree]\n",
    "    newq = []\n",
    "    while q:\n",
    "        parent = q.pop(0)\n",
    "        print(parent.data, end=' ')\n",
    "        for child in parent.children:\n",
    "            newq.append(child)\n",
    "        if len(q)==0:\n",
    "            q = newq\n",
    "            newq = []\n",
    "            print()  # Move to next Line\n",
    "\n",
    "# Main\n",
    "arr = list(int(x) for x in input().strip().split(' '))\n",
    "tree = createLevelWiseTree(arr)\n",
    "replacewithDepth(tree)\n",
    "printLevelAtNewLine(tree)\n"
   ]
  },
  {
   "cell_type": "code",
   "execution_count": null,
   "metadata": {},
   "outputs": [],
   "source": []
  }
 ],
 "metadata": {
  "kernelspec": {
   "display_name": "Python 3",
   "language": "python",
   "name": "python3"
  },
  "language_info": {
   "codemirror_mode": {
    "name": "ipython",
    "version": 3
   },
   "file_extension": ".py",
   "mimetype": "text/x-python",
   "name": "python",
   "nbconvert_exporter": "python",
   "pygments_lexer": "ipython3",
   "version": "3.7.3"
  }
 },
 "nbformat": 4,
 "nbformat_minor": 2
}
