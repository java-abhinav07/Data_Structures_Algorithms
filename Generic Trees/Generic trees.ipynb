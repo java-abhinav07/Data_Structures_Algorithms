{
 "cells": [
  {
   "cell_type": "code",
   "execution_count": 7,
   "metadata": {},
   "outputs": [],
   "source": [
    "class TreeNode:\n",
    "    def __init__(self, data):\n",
    "        self.data = data\n",
    "        self.children = []\n",
    "        "
   ]
  },
  {
   "cell_type": "code",
   "execution_count": 8,
   "metadata": {},
   "outputs": [
    {
     "data": {
      "text/plain": [
       "<__main__.TreeNode at 0x1cd205b73c8>"
      ]
     },
     "execution_count": 8,
     "metadata": {},
     "output_type": "execute_result"
    }
   ],
   "source": [
    "root = TreeNode(5)\n",
    "root"
   ]
  },
  {
   "cell_type": "code",
   "execution_count": 9,
   "metadata": {},
   "outputs": [],
   "source": [
    "n1 = TreeNode(5)\n",
    "n2 = TreeNode(2)\n",
    "n3 = TreeNode(9)\n",
    "n4 = TreeNode(8)\n",
    "n5 = TreeNode(7)\n",
    "n6 = TreeNode(15)\n",
    "n7 = TreeNode(1)\n",
    "n1.children.append(n2)\n",
    "n1.children.append(n3)\n",
    "n1.children.append(n4)\n",
    "n1.children.append(n5)\n",
    "\n",
    "n3.children.append(n6)\n",
    "n3.children.append(n7)"
   ]
  },
  {
   "cell_type": "code",
   "execution_count": 12,
   "metadata": {},
   "outputs": [],
   "source": [
    "def printTree(root):\n",
    "    if not root: # edge case\n",
    "        return\n",
    "    print(root.data)\n",
    "    for child in root.children:\n",
    "        printTree(child)"
   ]
  },
  {
   "cell_type": "code",
   "execution_count": 13,
   "metadata": {},
   "outputs": [
    {
     "name": "stdout",
     "output_type": "stream",
     "text": [
      "5\n",
      "2\n",
      "9\n",
      "15\n",
      "1\n",
      "8\n",
      "7\n"
     ]
    }
   ],
   "source": [
    "printTree(n1)"
   ]
  },
  {
   "cell_type": "code",
   "execution_count": 18,
   "metadata": {},
   "outputs": [],
   "source": [
    "def printTreedetailed(root):\n",
    "    if not root: # edge case\n",
    "        return\n",
    "    print(root.data, \":\", end=\"\")\n",
    "    for child in root.children:\n",
    "        print(child.data, \",\", end=\"\")\n",
    "    print()\n",
    "    \n",
    "    for child in root.children:\n",
    "        printTreedetailed(child)"
   ]
  },
  {
   "cell_type": "code",
   "execution_count": 19,
   "metadata": {},
   "outputs": [
    {
     "name": "stdout",
     "output_type": "stream",
     "text": [
      "5 :2 ,9 ,8 ,7 ,\n",
      "2 :\n",
      "9 :15 ,1 ,\n",
      "15 :\n",
      "1 :\n",
      "8 :\n",
      "7 :\n"
     ]
    }
   ],
   "source": [
    "printTreedetailed(n1)"
   ]
  },
  {
   "cell_type": "markdown",
   "metadata": {},
   "source": [
    "# Tree Input"
   ]
  },
  {
   "cell_type": "code",
   "execution_count": 22,
   "metadata": {},
   "outputs": [],
   "source": [
    "def takeTreeInput():\n",
    "    print(\"enter data\")\n",
    "    rootData = int(input())\n",
    "    if rootData == -1:\n",
    "        return None\n",
    "    \n",
    "    root = TreeNode(rootData)\n",
    "    print(\"enter number of children for\", rootData)\n",
    "    numchil = int(input())\n",
    "    \n",
    "    for i in range(numchil):\n",
    "        child = takeTreeInput()\n",
    "        root.children.append(child)\n",
    "    return root"
   ]
  },
  {
   "cell_type": "code",
   "execution_count": 23,
   "metadata": {},
   "outputs": [
    {
     "name": "stdout",
     "output_type": "stream",
     "text": [
      "enter data\n",
      "5\n",
      "enter number of children for 5\n",
      "1\n",
      "enter data\n",
      "3\n",
      "enter number of children for 3\n",
      "0\n",
      "5 :3 ,\n",
      "3 :\n"
     ]
    }
   ],
   "source": [
    "root = takeTreeInput()\n",
    "printTreedetailed(root)"
   ]
  },
  {
   "cell_type": "code",
   "execution_count": 24,
   "metadata": {},
   "outputs": [
    {
     "name": "stdout",
     "output_type": "stream",
     "text": [
      "enter data\n",
      "5\n",
      "enter number of children for 5\n",
      "4\n",
      "enter data\n",
      "2\n",
      "enter number of children for 2\n",
      "0\n",
      "enter data\n",
      "9\n",
      "enter number of children for 9\n",
      "2\n",
      "enter data\n",
      "15\n",
      "enter number of children for 15\n",
      "0\n",
      "enter data\n",
      "1\n",
      "enter number of children for 1\n",
      "0\n",
      "enter data\n",
      "8\n",
      "enter number of children for 8\n",
      "0\n",
      "enter data\n",
      "7\n",
      "enter number of children for 7\n",
      "0\n",
      "5 :2 ,9 ,8 ,7 ,\n",
      "2 :\n",
      "9 :15 ,1 ,\n",
      "15 :\n",
      "1 :\n",
      "8 :\n",
      "7 :\n"
     ]
    }
   ],
   "source": [
    "root = takeTreeInput()\n",
    "printTreedetailed(root)"
   ]
  },
  {
   "cell_type": "markdown",
   "metadata": {},
   "source": [
    "# Number of Nodes"
   ]
  },
  {
   "cell_type": "code",
   "execution_count": 27,
   "metadata": {},
   "outputs": [],
   "source": [
    "def numNodes(root):\n",
    "    if not root: # edge case\n",
    "        return 0\n",
    "    count = 1\n",
    "    for child in root.children:\n",
    "        count += numNodes(child)\n",
    "    return count"
   ]
  },
  {
   "cell_type": "code",
   "execution_count": 28,
   "metadata": {},
   "outputs": [
    {
     "data": {
      "text/plain": [
       "7"
      ]
     },
     "execution_count": 28,
     "metadata": {},
     "output_type": "execute_result"
    }
   ],
   "source": [
    "numNodes(n1)"
   ]
  },
  {
   "cell_type": "code",
   "execution_count": 29,
   "metadata": {},
   "outputs": [
    {
     "data": {
      "text/plain": [
       "0"
      ]
     },
     "execution_count": 29,
     "metadata": {},
     "output_type": "execute_result"
    }
   ],
   "source": [
    "numNodes(None) # edge case handled"
   ]
  },
  {
   "cell_type": "markdown",
   "metadata": {},
   "source": [
    "# Sum of all Nodes"
   ]
  },
  {
   "cell_type": "markdown",
   "metadata": {},
   "source": [
    "Sum of all nodes\n",
    "\n",
    "Given a generic tree, count and return the sum of all nodes present in the given tree."
   ]
  },
  {
   "cell_type": "code",
   "execution_count": 30,
   "metadata": {},
   "outputs": [
    {
     "name": "stdout",
     "output_type": "stream",
     "text": [
      "10 3 20 30 40 2 40 50 0 0 0 0 \n",
      "190\n"
     ]
    }
   ],
   "source": [
    "class treeNode:\n",
    "    def __init__(self, data):\n",
    "        self.data = data\n",
    "        self.children = []\n",
    "    def __str__(self):\n",
    "        return str(self.data)\n",
    "\n",
    "def sumofNodes(tree):\n",
    "    if not tree:\n",
    "        return 0\n",
    "    count = tree.data\n",
    "    for child in tree.children:\n",
    "        count += sumofNodes(child)\n",
    "    return count\n",
    "\n",
    "def createLevelWiseTree(arr):\n",
    "    root = treeNode(int(arr[0]))\n",
    "    q = [root]\n",
    "    size = len(arr)\n",
    "    i = 1\n",
    "    while i<size:\n",
    "        parent = q.pop(0)\n",
    "        childCount = int(arr[i])\n",
    "        i += 1\n",
    "        for j in range(0,childCount):\n",
    "            temp = treeNode(int(arr[i+j]))\n",
    "            parent.children.append(temp)\n",
    "            q.append(temp)\n",
    "        i += childCount\n",
    "    return root\n",
    "\n",
    "# Main\n",
    "arr = list(int(x) for x in input().strip().split(' '))\n",
    "tree = createLevelWiseTree(arr)\n",
    "print(sumofNodes(tree))\n"
   ]
  },
  {
   "cell_type": "markdown",
   "metadata": {},
   "source": [
    "# Node with largest Data"
   ]
  },
  {
   "cell_type": "markdown",
   "metadata": {},
   "source": [
    "Given a generic tree, find and return the node with maximum data. You need to return the complete node which is having maximum data.\n",
    "Return null if tree is empty."
   ]
  },
  {
   "cell_type": "code",
   "execution_count": 31,
   "metadata": {},
   "outputs": [
    {
     "name": "stdout",
     "output_type": "stream",
     "text": [
      "10 3 20 30 40 2 40 50 0 0 0 0 \n",
      "50\n"
     ]
    }
   ],
   "source": [
    "class treeNode:\n",
    "    def __init__(self, data):\n",
    "        self.data = data\n",
    "        self.children = []\n",
    "    def __str__(self):\n",
    "        return str(self.data)\n",
    "\n",
    "def maxDataNode(tree):\n",
    "    if not tree:\n",
    "        return\n",
    "    l = []\n",
    "    l2 = []\n",
    "    l.append(tree.data)\n",
    "    l2.append(tree)\n",
    "    for child in tree.children:\n",
    "        node = maxDataNode(child)\n",
    "        l.append(node.data)\n",
    "        l2.append(node)\n",
    "        \n",
    "    return l2[l.index(max(l))]\n",
    "    \n",
    "\n",
    "def createLevelWiseTree(arr):\n",
    "    root = treeNode(int(arr[0]))\n",
    "    q = [root]\n",
    "    size = len(arr)\n",
    "    i = 1\n",
    "    while i<size:\n",
    "        parent = q.pop(0)\n",
    "        childCount = int(arr[i])\n",
    "        i += 1\n",
    "        for j in range(0,childCount):\n",
    "            temp = treeNode(int(arr[i+j]))\n",
    "            parent.children.append(temp)\n",
    "            q.append(temp)\n",
    "        i += childCount\n",
    "    return root\n",
    "\n",
    "# Main\n",
    "arr = list(int(x) for x in input().strip().split(' '))\n",
    "tree = createLevelWiseTree(arr)\n",
    "print(maxDataNode(tree).data)\n"
   ]
  },
  {
   "cell_type": "code",
   "execution_count": 32,
   "metadata": {},
   "outputs": [
    {
     "name": "stdout",
     "output_type": "stream",
     "text": [
      "10 3 20 30 40 2 40 50 0 0 0 0 \n",
      "50\n"
     ]
    }
   ],
   "source": [
    "# solution 2\n",
    "class treeNode:\n",
    "    def __init__(self, data):\n",
    "        self.data = data\n",
    "        self.children = []\n",
    "    def __str__(self):\n",
    "        return str(self.data)\n",
    "\n",
    "def maxDataNode(tree):\n",
    "    if not tree:\n",
    "        return\n",
    "    l = []\n",
    "    l2 = []\n",
    "    temp = tree\n",
    "    for child in tree.children:\n",
    "        node = maxDataNode(child)\n",
    "        if node.data > temp.data:\n",
    "            temp = node\n",
    "        \n",
    "    return temp\n",
    "    \n",
    "\n",
    "def createLevelWiseTree(arr):\n",
    "    root = treeNode(int(arr[0]))\n",
    "    q = [root]\n",
    "    size = len(arr)\n",
    "    i = 1\n",
    "    while i<size:\n",
    "        parent = q.pop(0)\n",
    "        childCount = int(arr[i])\n",
    "        i += 1\n",
    "        for j in range(0,childCount):\n",
    "            temp = treeNode(int(arr[i+j]))\n",
    "            parent.children.append(temp)\n",
    "            q.append(temp)\n",
    "        i += childCount\n",
    "    return root\n",
    "\n",
    "# Main\n",
    "arr = list(int(x) for x in input().strip().split(' '))\n",
    "tree = createLevelWiseTree(arr)\n",
    "print(maxDataNode(tree).data)\n"
   ]
  },
  {
   "cell_type": "markdown",
   "metadata": {},
   "source": [
    "# Height Of Tree\n",
    "\n",
    "Given a generic tree, find and return the height of given tree."
   ]
  },
  {
   "cell_type": "code",
   "execution_count": 35,
   "metadata": {},
   "outputs": [
    {
     "name": "stdout",
     "output_type": "stream",
     "text": [
      "10 3 20 30 40 2 40 50 0 0 0 0\n",
      "3\n"
     ]
    }
   ],
   "source": [
    "class treeNode:\n",
    "    \n",
    "    def __init__(self, data):\n",
    "        self.data = data\n",
    "        self.children = []\n",
    "        \n",
    "def createLevelWiseTree(arr):\n",
    "    root = treeNode(int(arr[0]))\n",
    "    q = [root]\n",
    "    size = len(arr)\n",
    "    i = 1\n",
    "    while i<size:\n",
    "        parent = q.pop(0)\n",
    "        childCount = int(arr[i])\n",
    "        i += 1\n",
    "        for j in range(0,childCount):\n",
    "            temp = treeNode(int(arr[i+j]))\n",
    "            parent.children.append(temp)\n",
    "            q.append(temp)\n",
    "        i += childCount\n",
    "    return root\n",
    "\n",
    "def getHeight(root):\n",
    "    if not root:\n",
    "        return 0\n",
    "    l = [1]\n",
    "    for child in root.children:\n",
    "        h = getHeight(child)\n",
    "        l.append(h)\n",
    "    return max(l) + 1\n",
    "\n",
    "# Main\n",
    "l = [int(i) for i in input().split(\" \")] # list input values to be added to takeInput\n",
    "root = createLevelWiseTree(l)\n",
    "print(getHeight(root) - 1)\n",
    "    \n",
    "    "
   ]
  },
  {
   "cell_type": "markdown",
   "metadata": {},
   "source": [
    "# Levelwise Input and Ouput"
   ]
  },
  {
   "cell_type": "code",
   "execution_count": 43,
   "metadata": {},
   "outputs": [],
   "source": [
    "import queue\n",
    "class treeNode:\n",
    "    \n",
    "    def __init__(self, data):\n",
    "        self.data = data\n",
    "        self.children = []\n",
    "        \n",
    "def inputLevelwise():\n",
    "    q = queue.Queue()\n",
    "    print(\"Enter data\")\n",
    "    rootData = int(input())\n",
    "    if rootData == -1:\n",
    "        return None\n",
    "    \n",
    "    root = treeNode(rootData)\n",
    "    q.put(root)\n",
    "    \n",
    "    while not q.empty():\n",
    "        cursor = q.get()\n",
    "        print(\"enter number of children for\", cursor.data)\n",
    "        numChild = int(input())\n",
    "        \n",
    "        for i in range(numChild):\n",
    "            print(\"enter next child\")\n",
    "            childData = int(input())\n",
    "            childNode = treeNode(childData)\n",
    "            root.children.append(childNode)\n",
    "            q.put(childNode)\n",
    "            \n",
    "            \n",
    "    return root\n",
    "\n",
    "def printLevelwise(root):\n",
    "    q = queue.Queue()\n",
    "    if not root:\n",
    "        return\n",
    "    \n",
    "    q.put(root)\n",
    "    \n",
    "    while not q.empty():\n",
    "        cursor = q.get()\n",
    "        print(str(cursor.data)+\":\", end=\"\")\n",
    "        for i in range(len(cursor.children)):\n",
    "            if i != len(cursor.children) - 1:\n",
    "                print(str(cursor.children[i].data)+\",\", end=\"\")\n",
    "            else:\n",
    "                print(str(cursor.children[i].data), end=\"\")\n",
    "            q.put(cursor.children[i])\n",
    "        print()\n",
    "            "
   ]
  },
  {
   "cell_type": "code",
   "execution_count": 44,
   "metadata": {},
   "outputs": [
    {
     "name": "stdout",
     "output_type": "stream",
     "text": [
      "Enter data\n",
      "3\n",
      "enter number of children for 3\n",
      "3\n",
      "enter next child\n",
      "1\n",
      "enter next child\n",
      "2\n",
      "enter next child\n",
      "3\n",
      "enter number of children for 1\n",
      "1\n",
      "enter next child\n",
      "1\n",
      "enter number of children for 2\n",
      "2\n",
      "enter next child\n",
      "1\n",
      "enter next child\n",
      "2\n",
      "enter number of children for 3\n",
      "3\n",
      "enter next child\n",
      "1\n",
      "enter next child\n",
      "2\n",
      "enter next child\n",
      "3\n",
      "enter number of children for 1\n",
      "0\n",
      "enter number of children for 1\n",
      "0\n",
      "enter number of children for 2\n",
      "0\n",
      "enter number of children for 1\n",
      "0\n",
      "enter number of children for 2\n",
      "0\n",
      "enter number of children for 3\n",
      "0\n",
      "3:1,2,3,1,1,2,1,2,3\n",
      "1:\n",
      "2:\n",
      "3:\n",
      "1:\n",
      "1:\n",
      "2:\n",
      "1:\n",
      "2:\n",
      "3:\n"
     ]
    }
   ],
   "source": [
    "root = inputLevelwise()\n",
    "printLevelwise(root)"
   ]
  },
  {
   "cell_type": "code",
   "execution_count": 45,
   "metadata": {},
   "outputs": [
    {
     "name": "stdout",
     "output_type": "stream",
     "text": [
      "10 3 20 30 40 2 40 50 0 0 0 0 \n",
      "10:20,30,40\n",
      "20:40,50\n",
      "30:\n",
      "40:\n",
      "40:\n",
      "50:\n"
     ]
    }
   ],
   "source": [
    "import queue\n",
    "class treeNode:\n",
    "    def __init__(self, data):\n",
    "        self.data = data\n",
    "        self.children = []\n",
    "    def __str__(self):\n",
    "        return str(self.data)\n",
    "\n",
    "def printLevelWiseTree(root):\n",
    "    q = queue.Queue()\n",
    "    if not root:\n",
    "        return\n",
    "    \n",
    "    q.put(root)\n",
    "    \n",
    "    while not q.empty():\n",
    "        cursor = q.get()\n",
    "        print(str(cursor.data)+\":\", end=\"\")\n",
    "        for i in range(len(cursor.children)):\n",
    "            if i != len(cursor.children) - 1:\n",
    "                print(str(cursor.children[i].data)+\",\", end=\"\")\n",
    "            else:\n",
    "                print(str(cursor.children[i].data), end=\"\")\n",
    "            q.put(cursor.children[i])\n",
    "        print()\n",
    "\n",
    "def createLevelWiseTree(arr):\n",
    "    root = treeNode(int(arr[0]))\n",
    "    q = [root]\n",
    "    size = len(arr)\n",
    "    i = 1\n",
    "    while i<size:\n",
    "        parent = q.pop(0)\n",
    "        childCount = int(arr[i])\n",
    "        i += 1\n",
    "        for j in range(0,childCount):\n",
    "            temp = treeNode(int(arr[i+j]))\n",
    "            parent.children.append(temp)\n",
    "            q.append(temp)\n",
    "        i += childCount\n",
    "    return root\n",
    "\n",
    "# Main\n",
    "arr = list(int(x) for x in input().strip().split(' '))\n",
    "tree = createLevelWiseTree(arr)\n",
    "printLevelWiseTree(tree)\n"
   ]
  },
  {
   "cell_type": "code",
   "execution_count": null,
   "metadata": {},
   "outputs": [],
   "source": []
  }
 ],
 "metadata": {
  "kernelspec": {
   "display_name": "Python 3",
   "language": "python",
   "name": "python3"
  },
  "language_info": {
   "codemirror_mode": {
    "name": "ipython",
    "version": 3
   },
   "file_extension": ".py",
   "mimetype": "text/x-python",
   "name": "python",
   "nbconvert_exporter": "python",
   "pygments_lexer": "ipython3",
   "version": "3.7.3"
  }
 },
 "nbformat": 4,
 "nbformat_minor": 2
}
