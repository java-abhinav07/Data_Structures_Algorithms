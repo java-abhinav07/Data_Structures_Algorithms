{
 "cells": [
  {
   "cell_type": "code",
   "execution_count": 6,
   "metadata": {},
   "outputs": [],
   "source": [
    "# using arrays\n",
    "\n",
    "class Queue:\n",
    "    \n",
    "    def __init__(self):\n",
    "        self.__items = []\n",
    "        self.__count = 0\n",
    "        self.__front = 0\n",
    "    \n",
    "    def enqueue(self, data):\n",
    "        self.__items.append(data)\n",
    "        if self.isEmpty():\n",
    "            self.__front = self.__items[0]\n",
    "        self.__count += 1\n",
    "        \n",
    "    def front(self):\n",
    "        if self.__count == 0:\n",
    "            return -1\n",
    "        return self.__items[self.__front]\n",
    "        \n",
    "    def size(self):\n",
    "        return self.__count\n",
    "    \n",
    "    def isEmpty(self):\n",
    "        return self.__count == 0\n",
    "    \n",
    "    def dequeue(self):\n",
    "        if self.__count == 0:\n",
    "            return -1\n",
    "        element = self.__items[self.__front]\n",
    "        self.__front += 1\n",
    "        self.__count -= 1\n",
    "        return element\n",
    "        \n",
    "        "
   ]
  },
  {
   "cell_type": "code",
   "execution_count": 7,
   "metadata": {},
   "outputs": [],
   "source": [
    "q = Queue()"
   ]
  },
  {
   "cell_type": "code",
   "execution_count": 8,
   "metadata": {},
   "outputs": [],
   "source": [
    "q.enqueue(3)"
   ]
  },
  {
   "cell_type": "code",
   "execution_count": 9,
   "metadata": {},
   "outputs": [],
   "source": [
    "q.enqueue(9)"
   ]
  },
  {
   "cell_type": "code",
   "execution_count": 10,
   "metadata": {},
   "outputs": [
    {
     "data": {
      "text/plain": [
       "3"
      ]
     },
     "execution_count": 10,
     "metadata": {},
     "output_type": "execute_result"
    }
   ],
   "source": [
    "q.dequeue()"
   ]
  },
  {
   "cell_type": "code",
   "execution_count": 11,
   "metadata": {},
   "outputs": [
    {
     "data": {
      "text/plain": [
       "9"
      ]
     },
     "execution_count": 11,
     "metadata": {},
     "output_type": "execute_result"
    }
   ],
   "source": [
    "q.dequeue()"
   ]
  },
  {
   "cell_type": "code",
   "execution_count": 12,
   "metadata": {},
   "outputs": [
    {
     "data": {
      "text/plain": [
       "-1"
      ]
     },
     "execution_count": 12,
     "metadata": {},
     "output_type": "execute_result"
    }
   ],
   "source": [
    "q.dequeue()"
   ]
  },
  {
   "cell_type": "code",
   "execution_count": 13,
   "metadata": {},
   "outputs": [
    {
     "data": {
      "text/plain": [
       "True"
      ]
     },
     "execution_count": 13,
     "metadata": {},
     "output_type": "execute_result"
    }
   ],
   "source": [
    "q.isEmpty()"
   ]
  },
  {
   "cell_type": "code",
   "execution_count": 14,
   "metadata": {},
   "outputs": [],
   "source": [
    "\n",
    "class Node:\n",
    "    def __init__(self,data):\n",
    "        self.data = data\n",
    "        self.next = None\n",
    "        \n",
    "class QueueUsingLL:\n",
    "  \n",
    "    def __init__(self):\n",
    "        self.__head = None\n",
    "        self.__tail = None\n",
    "        self.__count = 0\n",
    "    \n",
    "    def enqueue(self, data):\n",
    "        newNode = Node(data)\n",
    "        if self.isEmpty():\n",
    "            self.__head = newNode\n",
    "            self.__tail = newNode\n",
    "        else:\n",
    "            self.__tail.next = newNode\n",
    "            self.__tail = self.__tail.next\n",
    "        self.__count += 1\n",
    "    \n",
    "    def dequeue(self):\n",
    "        x = self.__head\n",
    "        self.__head = self.__head.next\n",
    "        x.next = None\n",
    "        self.__count -= 1\n",
    "        return x.data\n",
    "    \n",
    "    def front(self):\n",
    "        return self.__head.data\n",
    "        \n",
    "        \n",
    "    def isEmpty(self):\n",
    "        return self.__count == 0\n",
    "       \n",
    "    \n",
    "    def getSize(self):\n",
    "        return self.__count\n",
    "\n",
    "    \n",
    "q = QueueUsingLL()\n",
    "li = [int(ele) for ele in input().split()]\n",
    "i=0\n",
    "while i<len(li):\n",
    "    choice = li[i]\n",
    "    if choice == -1:\n",
    "        break\n",
    "    elif choice == 1:\n",
    "        q.enqueue(li[i+1])\n",
    "        i+=1\n",
    "    elif choice == 2:\n",
    "        ans = q.dequeue()\n",
    "        if ans!=0:\n",
    "            print(ans)\n",
    "        else:\n",
    "            print(-1)\n",
    "    elif choice == 3:\n",
    "        ans = q.front()\n",
    "        if ans!=0:\n",
    "            print(ans)\n",
    "        else:\n",
    "            print(-1)\n",
    "    elif choice == 4:\n",
    "        print(q.getSize())\n",
    "    elif choice == 5:\n",
    "        if(q.isEmpty()):\n",
    "            print('true')\n",
    "        else:\n",
    "            print('false')\n",
    "    i+=1\n"
   ]
  },
  {
   "cell_type": "code",
   "execution_count": 26,
   "metadata": {},
   "outputs": [],
   "source": [
    "# queue using 2 stacks\n",
    "class Queue:\n",
    "    \n",
    "    def __init__(self):\n",
    "        self.s1 = []\n",
    "        self.s2 = []\n",
    "        self.count = 0\n",
    "    \n",
    "    def enqueue(self, data):\n",
    "        self.s1.append(data)\n",
    "        self.count += 1\n",
    "    \n",
    "    def dequeue(self):\n",
    "        if not len(self.s1):\n",
    "            return -1\n",
    "        for i in range(self.count - 1):\n",
    "            x = self.s1.pop()\n",
    "            self.s2.append(x)\n",
    "        y = self.s1.pop()\n",
    "        while len(self.s2):\n",
    "            self.s1.append(self.s2.pop())\n",
    "        self.count -= 1\n",
    "        return y\n",
    "    \n",
    "    def front(self):\n",
    "        return self.s1[0]\n",
    "    \n",
    "    def size(self):\n",
    "        return self.count\n",
    "    \n",
    "    def isEmpty(self):\n",
    "        return self.count == 0\n",
    "    "
   ]
  },
  {
   "cell_type": "code",
   "execution_count": 27,
   "metadata": {},
   "outputs": [],
   "source": [
    "q = Queue()"
   ]
  },
  {
   "cell_type": "code",
   "execution_count": 28,
   "metadata": {},
   "outputs": [],
   "source": [
    "q.enqueue(4)\n",
    "q.enqueue(8)\n",
    "q.enqueue(9)"
   ]
  },
  {
   "cell_type": "code",
   "execution_count": 29,
   "metadata": {},
   "outputs": [
    {
     "data": {
      "text/plain": [
       "4"
      ]
     },
     "execution_count": 29,
     "metadata": {},
     "output_type": "execute_result"
    }
   ],
   "source": [
    "q.front()"
   ]
  },
  {
   "cell_type": "code",
   "execution_count": 30,
   "metadata": {},
   "outputs": [
    {
     "data": {
      "text/plain": [
       "4"
      ]
     },
     "execution_count": 30,
     "metadata": {},
     "output_type": "execute_result"
    }
   ],
   "source": [
    "q.dequeue()"
   ]
  },
  {
   "cell_type": "code",
   "execution_count": 31,
   "metadata": {},
   "outputs": [
    {
     "data": {
      "text/plain": [
       "8"
      ]
     },
     "execution_count": 31,
     "metadata": {},
     "output_type": "execute_result"
    }
   ],
   "source": [
    "q.front()"
   ]
  },
  {
   "cell_type": "code",
   "execution_count": 32,
   "metadata": {},
   "outputs": [],
   "source": [
    "q.enqueue(3)"
   ]
  },
  {
   "cell_type": "code",
   "execution_count": 33,
   "metadata": {},
   "outputs": [
    {
     "data": {
      "text/plain": [
       "8"
      ]
     },
     "execution_count": 33,
     "metadata": {},
     "output_type": "execute_result"
    }
   ],
   "source": [
    "q.front()"
   ]
  },
  {
   "cell_type": "code",
   "execution_count": 34,
   "metadata": {},
   "outputs": [
    {
     "data": {
      "text/plain": [
       "8"
      ]
     },
     "execution_count": 34,
     "metadata": {},
     "output_type": "execute_result"
    }
   ],
   "source": [
    "q.dequeue()"
   ]
  },
  {
   "cell_type": "code",
   "execution_count": 35,
   "metadata": {},
   "outputs": [
    {
     "data": {
      "text/plain": [
       "9"
      ]
     },
     "execution_count": 35,
     "metadata": {},
     "output_type": "execute_result"
    }
   ],
   "source": [
    "q.dequeue()"
   ]
  },
  {
   "cell_type": "code",
   "execution_count": 36,
   "metadata": {},
   "outputs": [
    {
     "data": {
      "text/plain": [
       "3"
      ]
     },
     "execution_count": 36,
     "metadata": {},
     "output_type": "execute_result"
    }
   ],
   "source": [
    "q.dequeue()"
   ]
  },
  {
   "cell_type": "code",
   "execution_count": 37,
   "metadata": {},
   "outputs": [
    {
     "data": {
      "text/plain": [
       "-1"
      ]
     },
     "execution_count": 37,
     "metadata": {},
     "output_type": "execute_result"
    }
   ],
   "source": [
    "q.dequeue()"
   ]
  },
  {
   "cell_type": "markdown",
   "metadata": {},
   "source": [
    "# Stack using 2 queues"
   ]
  },
  {
   "cell_type": "markdown",
   "metadata": {},
   "source": [
    "Stack Using 2 Queues\n",
    "\n",
    "\n",
    "You need to implement a Stack class using two queues as its data members.\n",
    "Only 2 data members should be there inside the class - two queues, which should be created dynamically and both should be public. Use the inbuilt queue.\n",
    "Implement the following public functions :\n",
    "1. Constructor -\n",
    "Initialises both the data members.\n",
    "2. push :\n",
    "This function should take one argument of type T and has return type void. This function should insert an element in the stack. Time complexity should be O(1).\n",
    "3. pop :\n",
    "This function takes no input arguments and has return type T. This should removes the last element which is entered and return that element as an answer.\n",
    "4. top :\n",
    "This function takes no input arguments and has return type T. This should return the last element which is entered and return that element as an answer.\n",
    "5. getSize :\n",
    "Return the size of stack i.e. count of elements which are present ins stack right now. Time complexity should be O(1)."
   ]
  },
  {
   "cell_type": "code",
   "execution_count": 38,
   "metadata": {},
   "outputs": [],
   "source": [
    "import queue\n",
    "class StackUsingQueues:\n",
    "    \n",
    "    def __init__(self):\n",
    "        self.q1 = queue.Queue()\n",
    "        self.q2 = queue.Queue()\n",
    "\n",
    "        \n",
    "    def push(self,data):\n",
    "        self.q1.put(data)\n",
    "\n",
    "    def pop(self):\n",
    "        while (self.q1.qsize() > 1):\n",
    "            self.q2.put(self.q1.get())\n",
    "        y = self.q1.get()\n",
    "        while (self.q2.qsize()):\n",
    "            self.q1.put(self.q2.get())\n",
    "        return y\n",
    "            \n",
    "    \n",
    "    \n",
    "    def top(self):\n",
    "        while (self.q1.qsize() > 1):\n",
    "            self.q2.put(self.q1.get())\n",
    "        y = self.q1.get()\n",
    "        while (self.q2.qsize()):\n",
    "            self.q1.put(self.q2.get())\n",
    "        self.q1.put(y)\n",
    "        return y\n",
    "        \n",
    "        \n",
    "        \n",
    "    def getSize(self):\n",
    "        return self.q1.qsize()\n",
    "        \n",
    "        "
   ]
  },
  {
   "cell_type": "code",
   "execution_count": null,
   "metadata": {},
   "outputs": [],
   "source": []
  }
 ],
 "metadata": {
  "kernelspec": {
   "display_name": "Python 3",
   "language": "python",
   "name": "python3"
  },
  "language_info": {
   "codemirror_mode": {
    "name": "ipython",
    "version": 3
   },
   "file_extension": ".py",
   "mimetype": "text/x-python",
   "name": "python",
   "nbconvert_exporter": "python",
   "pygments_lexer": "ipython3",
   "version": "3.7.3"
  }
 },
 "nbformat": 4,
 "nbformat_minor": 2
}
