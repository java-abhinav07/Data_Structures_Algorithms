{
 "cells": [
  {
   "cell_type": "markdown",
   "metadata": {},
   "source": [
    "Problem 1: Reverse Queue\n",
    "\n",
    "\n",
    "Given a queue of integers, reverse it without help of any explicit stack or queue. You need to change in the given queue itself.\n",
    "Note : No need to return or print the queue."
   ]
  },
  {
   "cell_type": "code",
   "execution_count": null,
   "metadata": {},
   "outputs": [],
   "source": [
    "\n",
    "import queue\n",
    "def reverseQueue(q1, n):\n",
    "    if n == 1:\n",
    "        return q1\n",
    "    y = q1.get()\n",
    "    reverseQueue(q1, n-1)\n",
    "    q1.put(y)        \n",
    "        \n",
    "        \n",
    "from sys import setrecursionlimit\n",
    "setrecursionlimit(11000)\n",
    "li = [int(ele) for ele in (input().split())]\n",
    "q1 = queue.Queue()\n",
    "n = li[0]\n",
    "for ele in li[1:]:\n",
    "    q1.put(ele)\n",
    "reverseQueue(q1, n)\n",
    "while(q1.empty() is False):\n",
    "    print(q1.get(),end= ' ')\n"
   ]
  },
  {
   "cell_type": "markdown",
   "metadata": {},
   "source": [
    "Problem 2: Reverse first K elements\n",
    "\n",
    "\n",
    "Given a queue and an integer k, reverse first k elements. Return the updated queue.\n",
    "Do the problem in O(n) complexity."
   ]
  },
  {
   "cell_type": "code",
   "execution_count": 1,
   "metadata": {},
   "outputs": [
    {
     "name": "stdout",
     "output_type": "stream",
     "text": [
      "5\n",
      "1 2 3 4 5 \n",
      "3\n",
      "3\n",
      "2\n",
      "1\n",
      "4\n",
      "5\n"
     ]
    }
   ],
   "source": [
    "\n",
    "import queue\n",
    "\n",
    "def reverseQueue(q1, n):\n",
    "    if n == 1:\n",
    "        return q1\n",
    "    y = q1.get()\n",
    "    reverseQueue(q1, n-1)\n",
    "    q1.put(y)      \n",
    "  \n",
    "def reverseFirstK(q,k,n):\n",
    "    if k > n:\n",
    "        reverseQueue(q, n)\n",
    "        return q\n",
    "    q2 = queue.Queue()\n",
    "    x = k\n",
    "    while (x):\n",
    "        q2.put(q.get())\n",
    "        x -= 1\n",
    "    reverseQueue(q2, k)\n",
    "    y = q.qsize()\n",
    "    while (y):\n",
    "        q2.put(q.get())\n",
    "        y -= 1\n",
    "    return q2\n",
    "    \n",
    "\n",
    "        \n",
    "from sys import setrecursionlimit\n",
    "setrecursionlimit(11000)\n",
    "n = int(input())\n",
    "li = [int(ele) for ele in input().split()]\n",
    "q = queue.Queue()\n",
    "for ele in li:\n",
    "\tq.put(ele)\n",
    "k = int(input())\n",
    "q = reverseFirstK(q,k,n) \n",
    "while(q.qsize()>0):\n",
    "\tprint(q.get())\n",
    "\tn-=1"
   ]
  },
  {
   "cell_type": "code",
   "execution_count": null,
   "metadata": {},
   "outputs": [],
   "source": []
  }
 ],
 "metadata": {
  "kernelspec": {
   "display_name": "Python 3",
   "language": "python",
   "name": "python3"
  },
  "language_info": {
   "codemirror_mode": {
    "name": "ipython",
    "version": 3
   },
   "file_extension": ".py",
   "mimetype": "text/x-python",
   "name": "python",
   "nbconvert_exporter": "python",
   "pygments_lexer": "ipython3",
   "version": "3.7.3"
  }
 },
 "nbformat": 4,
 "nbformat_minor": 2
}
