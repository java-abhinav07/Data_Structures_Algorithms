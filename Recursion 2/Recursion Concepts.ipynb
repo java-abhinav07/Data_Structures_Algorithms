{
 "cells": [
  {
   "cell_type": "markdown",
   "metadata": {},
   "source": [
    "Return Subsequences\n",
    "\n",
    "Given a string (lets say of length n), return all the subsequences of the given string.\n",
    "Subsequences contain all the strings of length varying from 0 to n. But the order of characters should remain same as in the input string.<br>\n",
    "Note : The order of subsequences are not important.\n"
   ]
  },
  {
   "cell_type": "code",
   "execution_count": 1,
   "metadata": {},
   "outputs": [
    {
     "name": "stdout",
     "output_type": "stream",
     "text": [
      "abc\n",
      "\n",
      "c\n",
      "b\n",
      "bc\n",
      "a\n",
      "ac\n",
      "ab\n",
      "abc\n"
     ]
    }
   ],
   "source": [
    "def subsequences(string):\n",
    "    if len(string) == 0:\n",
    "        output = []\n",
    "        output.append(string)\n",
    "        return output\n",
    "    \n",
    "    newstring = string[1:]\n",
    "    newlist = subsequences(newstring)\n",
    "    output = newlist[:]\n",
    "\n",
    "    for element in newlist:\n",
    "        output.append(string[0] + element)\n",
    "    return output\n",
    "        \n",
    "    \n",
    "string = input()\n",
    "ans = subsequences(string)\n",
    "for ele in ans:\n",
    "    print(ele)\n"
   ]
  },
  {
   "cell_type": "markdown",
   "metadata": {},
   "source": [
    "Return Keypad\n",
    "\n",
    "Given an integer n, using phone keypad find out all the possible strings that can be made using digits of input n.<br>\n",
    "Note : The order of strings are not important.\n"
   ]
  },
  {
   "cell_type": "code",
   "execution_count": 2,
   "metadata": {},
   "outputs": [
    {
     "name": "stdout",
     "output_type": "stream",
     "text": [
      "2345\n",
      "adgj\n",
      "adgk\n",
      "adgl\n",
      "adhj\n",
      "adhk\n",
      "adhl\n",
      "adij\n",
      "adik\n",
      "adil\n",
      "aegj\n",
      "aegk\n",
      "aegl\n",
      "aehj\n",
      "aehk\n",
      "aehl\n",
      "aeij\n",
      "aeik\n",
      "aeil\n",
      "afgj\n",
      "afgk\n",
      "afgl\n",
      "afhj\n",
      "afhk\n",
      "afhl\n",
      "afij\n",
      "afik\n",
      "afil\n",
      "bdgj\n",
      "bdgk\n",
      "bdgl\n",
      "bdhj\n",
      "bdhk\n",
      "bdhl\n",
      "bdij\n",
      "bdik\n",
      "bdil\n",
      "begj\n",
      "begk\n",
      "begl\n",
      "behj\n",
      "behk\n",
      "behl\n",
      "beij\n",
      "beik\n",
      "beil\n",
      "bfgj\n",
      "bfgk\n",
      "bfgl\n",
      "bfhj\n",
      "bfhk\n",
      "bfhl\n",
      "bfij\n",
      "bfik\n",
      "bfil\n",
      "cdgj\n",
      "cdgk\n",
      "cdgl\n",
      "cdhj\n",
      "cdhk\n",
      "cdhl\n",
      "cdij\n",
      "cdik\n",
      "cdil\n",
      "cegj\n",
      "cegk\n",
      "cegl\n",
      "cehj\n",
      "cehk\n",
      "cehl\n",
      "ceij\n",
      "ceik\n",
      "ceil\n",
      "cfgj\n",
      "cfgk\n",
      "cfgl\n",
      "cfhj\n",
      "cfhk\n",
      "cfhl\n",
      "cfij\n",
      "cfik\n",
      "cfil\n"
     ]
    }
   ],
   "source": [
    "def keypad(n, hash):\n",
    "    if n == 0:\n",
    "        return [\"\"]\n",
    "    newlist = keypad(n//10, hash)\n",
    "    output = []\n",
    "    for element in newlist:\n",
    "        for val in hash.get(n%10):\n",
    "            output.append(element + val)\n",
    "    return output\n",
    "            \n",
    "        \n",
    "hash = {2:'abc',3:'def',4:'ghi',5:'jkl',6:'mno',7:'pqrs',8:'tuv',9:'wxyz'}\n",
    "n = int(input())\n",
    "ans = keypad(n, hash)\n",
    "for s in ans:\n",
    "    print(s)"
   ]
  },
  {
   "cell_type": "code",
   "execution_count": null,
   "metadata": {},
   "outputs": [],
   "source": []
  },
  {
   "cell_type": "code",
   "execution_count": null,
   "metadata": {},
   "outputs": [],
   "source": []
  }
 ],
 "metadata": {
  "kernelspec": {
   "display_name": "Python 3",
   "language": "python",
   "name": "python3"
  },
  "language_info": {
   "codemirror_mode": {
    "name": "ipython",
    "version": 3
   },
   "file_extension": ".py",
   "mimetype": "text/x-python",
   "name": "python",
   "nbconvert_exporter": "python",
   "pygments_lexer": "ipython3",
   "version": "3.6.8"
  }
 },
 "nbformat": 4,
 "nbformat_minor": 2
}
