{
 "cells": [
  {
   "cell_type": "markdown",
   "metadata": {},
   "source": [
    "Return Subsequences\n",
    "\n",
    "Given a string (lets say of length n), return all the subsequences of the given string.\n",
    "Subsequences contain all the strings of length varying from 0 to n. But the order of characters should remain same as in the input string.<br>\n",
    "Note : The order of subsequences are not important.\n"
   ]
  },
  {
   "cell_type": "code",
   "execution_count": 1,
   "metadata": {},
   "outputs": [
    {
     "name": "stdout",
     "output_type": "stream",
     "text": [
      "abc\n",
      "\n",
      "c\n",
      "b\n",
      "bc\n",
      "a\n",
      "ac\n",
      "ab\n",
      "abc\n"
     ]
    }
   ],
   "source": [
    "def subsequences(string):\n",
    "    if len(string) == 0:\n",
    "        output = []\n",
    "        output.append(string)\n",
    "        return output\n",
    "    \n",
    "    newstring = string[1:]\n",
    "    newlist = subsequences(newstring)\n",
    "    output = newlist[:]\n",
    "\n",
    "    for element in newlist:\n",
    "        output.append(string[0] + element)\n",
    "    return output\n",
    "        \n",
    "    \n",
    "string = input()\n",
    "ans = subsequences(string)\n",
    "for ele in ans:\n",
    "    print(ele)\n"
   ]
  },
  {
   "cell_type": "markdown",
   "metadata": {},
   "source": [
    "Return Keypad\n",
    "\n",
    "Given an integer n, using phone keypad find out all the possible strings that can be made using digits of input n.<br>\n",
    "Note : The order of strings are not important.\n"
   ]
  },
  {
   "cell_type": "code",
   "execution_count": 2,
   "metadata": {},
   "outputs": [
    {
     "name": "stdout",
     "output_type": "stream",
     "text": [
      "2345\n",
      "adgj\n",
      "adgk\n",
      "adgl\n",
      "adhj\n",
      "adhk\n",
      "adhl\n",
      "adij\n",
      "adik\n",
      "adil\n",
      "aegj\n",
      "aegk\n",
      "aegl\n",
      "aehj\n",
      "aehk\n",
      "aehl\n",
      "aeij\n",
      "aeik\n",
      "aeil\n",
      "afgj\n",
      "afgk\n",
      "afgl\n",
      "afhj\n",
      "afhk\n",
      "afhl\n",
      "afij\n",
      "afik\n",
      "afil\n",
      "bdgj\n",
      "bdgk\n",
      "bdgl\n",
      "bdhj\n",
      "bdhk\n",
      "bdhl\n",
      "bdij\n",
      "bdik\n",
      "bdil\n",
      "begj\n",
      "begk\n",
      "begl\n",
      "behj\n",
      "behk\n",
      "behl\n",
      "beij\n",
      "beik\n",
      "beil\n",
      "bfgj\n",
      "bfgk\n",
      "bfgl\n",
      "bfhj\n",
      "bfhk\n",
      "bfhl\n",
      "bfij\n",
      "bfik\n",
      "bfil\n",
      "cdgj\n",
      "cdgk\n",
      "cdgl\n",
      "cdhj\n",
      "cdhk\n",
      "cdhl\n",
      "cdij\n",
      "cdik\n",
      "cdil\n",
      "cegj\n",
      "cegk\n",
      "cegl\n",
      "cehj\n",
      "cehk\n",
      "cehl\n",
      "ceij\n",
      "ceik\n",
      "ceil\n",
      "cfgj\n",
      "cfgk\n",
      "cfgl\n",
      "cfhj\n",
      "cfhk\n",
      "cfhl\n",
      "cfij\n",
      "cfik\n",
      "cfil\n"
     ]
    }
   ],
   "source": [
    "def keypad(n, hash):\n",
    "    if n == 0:\n",
    "        return [\"\"]\n",
    "    newlist = keypad(n//10, hash)\n",
    "    output = []\n",
    "    for element in newlist:\n",
    "        for val in hash.get(n%10):\n",
    "            output.append(element + val)\n",
    "    return output\n",
    "            \n",
    "        \n",
    "hash = {2:'abc',3:'def',4:'ghi',5:'jkl',6:'mno',7:'pqrs',8:'tuv',9:'wxyz'}\n",
    "n = int(input())\n",
    "ans = keypad(n, hash)\n",
    "for s in ans:\n",
    "    print(s)"
   ]
  },
  {
   "cell_type": "markdown",
   "metadata": {},
   "source": [
    "printing using recursion"
   ]
  },
  {
   "cell_type": "code",
   "execution_count": 9,
   "metadata": {},
   "outputs": [],
   "source": [
    "def fact(n):\n",
    "    if n == 1:\n",
    "        return 1\n",
    "    smallOutput = fact(n-1)\n",
    "    return n*smallOutput\n",
    "        "
   ]
  },
  {
   "cell_type": "code",
   "execution_count": 10,
   "metadata": {},
   "outputs": [
    {
     "data": {
      "text/plain": [
       "40320"
      ]
     },
     "execution_count": 10,
     "metadata": {},
     "output_type": "execute_result"
    }
   ],
   "source": [
    "x = fact(8)\n",
    "x"
   ]
  },
  {
   "cell_type": "code",
   "execution_count": 11,
   "metadata": {},
   "outputs": [],
   "source": [
    "def factHelper(n):\n",
    "    if n == 1:\n",
    "        return 1\n",
    "    smallOutput = factHelper(n-1)\n",
    "    return n*smallOutput\n",
    "def fact(n):\n",
    "    print(factHelper(n))"
   ]
  },
  {
   "cell_type": "code",
   "execution_count": 12,
   "metadata": {},
   "outputs": [
    {
     "name": "stdout",
     "output_type": "stream",
     "text": [
      "6\n"
     ]
    }
   ],
   "source": [
    "fact(3)"
   ]
  },
  {
   "cell_type": "code",
   "execution_count": 22,
   "metadata": {},
   "outputs": [],
   "source": [
    "# don't want my function to return anything\n",
    "# build ans while going down\n",
    "def printfact(n, ans = 1):\n",
    "    if n == 0:\n",
    "        print(ans)\n",
    "        return\n",
    "    ans = ans*n\n",
    "    printfact(n-1, ans)  "
   ]
  },
  {
   "cell_type": "code",
   "execution_count": 23,
   "metadata": {},
   "outputs": [
    {
     "name": "stdout",
     "output_type": "stream",
     "text": [
      "3628800\n"
     ]
    }
   ],
   "source": [
    "printfact(10)"
   ]
  },
  {
   "cell_type": "code",
   "execution_count": 24,
   "metadata": {},
   "outputs": [
    {
     "ename": "SyntaxError",
     "evalue": "invalid syntax (<ipython-input-24-4ef93bd44e1b>, line 3)",
     "output_type": "error",
     "traceback": [
      "\u001b[0;36m  File \u001b[0;32m\"<ipython-input-24-4ef93bd44e1b>\"\u001b[0;36m, line \u001b[0;32m3\u001b[0m\n\u001b[0;31m    if len(arr) == 0\u001b[0m\n\u001b[0m                    ^\u001b[0m\n\u001b[0;31mSyntaxError\u001b[0m\u001b[0;31m:\u001b[0m invalid syntax\n"
     ]
    }
   ],
   "source": [
    "# minimum of array\n",
    "def minarr(arr):\n",
    "    if len(arr) == 0\n",
    "        "
   ]
  },
  {
   "cell_type": "code",
   "execution_count": null,
   "metadata": {},
   "outputs": [],
   "source": []
  },
  {
   "cell_type": "markdown",
   "metadata": {},
   "source": [
    "Print Subsequences\n",
    "\n",
    "Given a string (lets say of length n), print all the subsequences of the given string.<br>\n",
    "Subsequences contain all the strings of length varying from 0 to n. But the order of characters should remain same as in the input string.<br>\n",
    "Note : The order of subsequences are not important. Print every subsequence in new line.\n"
   ]
  },
  {
   "cell_type": "code",
   "execution_count": 30,
   "metadata": {},
   "outputs": [
    {
     "name": "stdout",
     "output_type": "stream",
     "text": [
      "songf\n",
      "\n",
      "f\n",
      "g\n",
      "gf\n",
      "n\n",
      "nf\n",
      "ng\n",
      "ngf\n",
      "o\n",
      "of\n",
      "og\n",
      "ogf\n",
      "on\n",
      "onf\n",
      "ong\n",
      "ongf\n",
      "s\n",
      "sf\n",
      "sg\n",
      "sgf\n",
      "sn\n",
      "snf\n",
      "sng\n",
      "sngf\n",
      "so\n",
      "sof\n",
      "sog\n",
      "sogf\n",
      "son\n",
      "sonf\n",
      "song\n",
      "songf\n"
     ]
    }
   ],
   "source": [
    "def helpersubsequences(string):\n",
    "    if len(string) == 0:\n",
    "        output = []\n",
    "        output.append(string)\n",
    "        return output\n",
    "    \n",
    "    newstring = string[1:]\n",
    "    newlist = helpersubsequences(newstring)\n",
    "    output = newlist[:]\n",
    "\n",
    "    for element in newlist:\n",
    "        output.append(string[0] + element)\n",
    "    return output\n",
    "        \n",
    "\n",
    "\n",
    "def printSubsequences(string):\n",
    "    ans = helpersubsequences(string)\n",
    "    for ele in ans:\n",
    "        print(ele)\n",
    "    \n",
    "\n",
    "string = input()\n",
    "printSubsequences(string)\n",
    "\n",
    "\n",
    "\n",
    "\n"
   ]
  },
  {
   "cell_type": "code",
   "execution_count": 35,
   "metadata": {},
   "outputs": [
    {
     "name": "stdout",
     "output_type": "stream",
     "text": [
      "uv\n",
      "\n",
      "u\n",
      "v\n",
      "uv\n"
     ]
    }
   ],
   "source": [
    "def printSubsequences(string, ans = [\"\"]):\n",
    "    if len(string) == 0:\n",
    "        for ele in ans:\n",
    "            print(ele)\n",
    "        return\n",
    "            \n",
    "    newans = ans[:]\n",
    "    for element in ans:\n",
    "        newans.append(element+string[0])\n",
    "    printSubsequences(string[1:], newans)\n",
    "    \n",
    "    \n",
    "\n",
    "string = input()\n",
    "printSubsequences(string)\n",
    "\n",
    "\n",
    "\n",
    "\n"
   ]
  },
  {
   "cell_type": "markdown",
   "metadata": {},
   "source": [
    "Print Keypad\n",
    "\n",
    "Given an integer n, using phone keypad find out and print all the possible strings that can be made using digits of input n.\n",
    "Note : The order of strings are not important. Just print different strings in new lines."
   ]
  },
  {
   "cell_type": "code",
   "execution_count": 1,
   "metadata": {},
   "outputs": [
    {
     "name": "stdout",
     "output_type": "stream",
     "text": [
      "234\n",
      "adg\n",
      "bdg\n",
      "cdg\n",
      "aeg\n",
      "beg\n",
      "ceg\n",
      "afg\n",
      "bfg\n",
      "cfg\n",
      "adh\n",
      "bdh\n",
      "cdh\n",
      "aeh\n",
      "beh\n",
      "ceh\n",
      "afh\n",
      "bfh\n",
      "cfh\n",
      "adi\n",
      "bdi\n",
      "cdi\n",
      "aei\n",
      "bei\n",
      "cei\n",
      "afi\n",
      "bfi\n",
      "cfi\n"
     ]
    }
   ],
   "source": [
    "def printkeypad(n, hash, ans=[\"\"]):\n",
    "    \n",
    "    if n == 0:\n",
    "        for ele in ans:\n",
    "            print(ele)\n",
    "        return\n",
    "    newlist = []\n",
    "    for element in  ans:\n",
    "        for i in hash.get(n%10):\n",
    "            newlist.append(i+element)\n",
    "    printkeypad(n//10, hash, newlist)\n",
    "    \n",
    "\n",
    "hash = {2:\"abc\", 3:\"def\", 4:\"ghi\", 5:\"jkl\", 6:\"mno\", 7:\"pqrs\", 8:\"tuv\", 9:\"xwyz\"}\n",
    "n = int(input())\n",
    "printkeypad(n,hash)"
   ]
  },
  {
   "cell_type": "code",
   "execution_count": null,
   "metadata": {},
   "outputs": [],
   "source": []
  }
 ],
 "metadata": {
  "kernelspec": {
   "display_name": "Python 3",
   "language": "python",
   "name": "python3"
  },
  "language_info": {
   "codemirror_mode": {
    "name": "ipython",
    "version": 3
   },
   "file_extension": ".py",
   "mimetype": "text/x-python",
   "name": "python",
   "nbconvert_exporter": "python",
   "pygments_lexer": "ipython3",
   "version": "3.6.8"
  }
 },
 "nbformat": 4,
 "nbformat_minor": 2
}
