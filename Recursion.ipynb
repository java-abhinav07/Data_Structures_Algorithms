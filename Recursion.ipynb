{
 "cells": [
  {
   "cell_type": "code",
   "execution_count": 3,
   "metadata": {},
   "outputs": [
    {
     "name": "stdout",
     "output_type": "stream",
     "text": [
      "2 3\n"
     ]
    }
   ],
   "source": [
    "x, y = (input()).split() # input on same line\n"
   ]
  },
  {
   "cell_type": "code",
   "execution_count": null,
   "metadata": {},
   "outputs": [],
   "source": []
  },
  {
   "cell_type": "code",
   "execution_count": 9,
   "metadata": {},
   "outputs": [],
   "source": [
    "def fact(n):\n",
    "    if n == 1:\n",
    "        return n\n",
    "    else:\n",
    "        return n * fact(n-1)"
   ]
  },
  {
   "cell_type": "code",
   "execution_count": 10,
   "metadata": {},
   "outputs": [
    {
     "data": {
      "text/plain": [
       "120"
      ]
     },
     "execution_count": 10,
     "metadata": {},
     "output_type": "execute_result"
    }
   ],
   "source": [
    "fact(5)"
   ]
  },
  {
   "cell_type": "code",
   "execution_count": 11,
   "metadata": {},
   "outputs": [
    {
     "ename": "RecursionError",
     "evalue": "maximum recursion depth exceeded in comparison",
     "output_type": "error",
     "traceback": [
      "\u001b[1;31m---------------------------------------------------------------------------\u001b[0m",
      "\u001b[1;31mRecursionError\u001b[0m                            Traceback (most recent call last)",
      "\u001b[1;32m<ipython-input-11-655006408eed>\u001b[0m in \u001b[0;36m<module>\u001b[1;34m\u001b[0m\n\u001b[1;32m----> 1\u001b[1;33m \u001b[0mfact\u001b[0m\u001b[1;33m(\u001b[0m\u001b[1;36m19999\u001b[0m\u001b[1;33m)\u001b[0m\u001b[1;33m\u001b[0m\u001b[1;33m\u001b[0m\u001b[0m\n\u001b[0m",
      "\u001b[1;32m<ipython-input-9-97c10d18cfd3>\u001b[0m in \u001b[0;36mfact\u001b[1;34m(n)\u001b[0m\n\u001b[0;32m      3\u001b[0m         \u001b[1;32mreturn\u001b[0m \u001b[0mn\u001b[0m\u001b[1;33m\u001b[0m\u001b[1;33m\u001b[0m\u001b[0m\n\u001b[0;32m      4\u001b[0m     \u001b[1;32melse\u001b[0m\u001b[1;33m:\u001b[0m\u001b[1;33m\u001b[0m\u001b[1;33m\u001b[0m\u001b[0m\n\u001b[1;32m----> 5\u001b[1;33m         \u001b[1;32mreturn\u001b[0m \u001b[0mn\u001b[0m \u001b[1;33m*\u001b[0m \u001b[0mfact\u001b[0m\u001b[1;33m(\u001b[0m\u001b[0mn\u001b[0m\u001b[1;33m-\u001b[0m\u001b[1;36m1\u001b[0m\u001b[1;33m)\u001b[0m\u001b[1;33m\u001b[0m\u001b[1;33m\u001b[0m\u001b[0m\n\u001b[0m",
      "... last 1 frames repeated, from the frame below ...\n",
      "\u001b[1;32m<ipython-input-9-97c10d18cfd3>\u001b[0m in \u001b[0;36mfact\u001b[1;34m(n)\u001b[0m\n\u001b[0;32m      3\u001b[0m         \u001b[1;32mreturn\u001b[0m \u001b[0mn\u001b[0m\u001b[1;33m\u001b[0m\u001b[1;33m\u001b[0m\u001b[0m\n\u001b[0;32m      4\u001b[0m     \u001b[1;32melse\u001b[0m\u001b[1;33m:\u001b[0m\u001b[1;33m\u001b[0m\u001b[1;33m\u001b[0m\u001b[0m\n\u001b[1;32m----> 5\u001b[1;33m         \u001b[1;32mreturn\u001b[0m \u001b[0mn\u001b[0m \u001b[1;33m*\u001b[0m \u001b[0mfact\u001b[0m\u001b[1;33m(\u001b[0m\u001b[0mn\u001b[0m\u001b[1;33m-\u001b[0m\u001b[1;36m1\u001b[0m\u001b[1;33m)\u001b[0m\u001b[1;33m\u001b[0m\u001b[1;33m\u001b[0m\u001b[0m\n\u001b[0m",
      "\u001b[1;31mRecursionError\u001b[0m: maximum recursion depth exceeded in comparison"
     ]
    }
   ],
   "source": [
    "fact(19999)"
   ]
  },
  {
   "cell_type": "code",
   "execution_count": 12,
   "metadata": {},
   "outputs": [],
   "source": [
    "# compute factorial of a large number!\n",
    "from sys import setrecursionlimit\n",
    "setrecursionlimit(10000)"
   ]
  },
  {
   "cell_type": "code",
   "execution_count": 13,
   "metadata": {},
   "outputs": [
    {
     "data": {
      "text/plain": [
       "425057077743605036266225965088791647746637953215503757064213154825328810852503468870764437714319013112570049316023583873023055350856332141495255759781880233663165081990789324629625205026991660238927650274140340763452449777455851933585124032610787986161271250823829376774892255535691499733520899178658961487005309422586600272282170113822810489689123566967198343080952867132289277993844061497281141933611419067751955802806188064022901779542629594951045655678863452735759427204592852266338068038497354066156812565578409255576897511148313685175302533223031991076675996191867866471069254072392541231669059882577160178145031303456895250126245573723350683021114208601259768418437121298399803319955726445936144908475017069762685506769765052237999272541031881135885502615955324373272818996038716622623614987195559056607768433115594351644921759979635611518792069560181712850824861190154421067670738598456403316500485841770240097171291071916454032709059075822919327071790022203946581969051367600957074960587745696761352107050729128058094445559041467519425624745141128554080177423798387521960700949808690022207942648877352318746853253158744106366257032976287809011106027766214700769625708947819144200841837484039931063914965460616321126368600893774282863264061775769629517958841593294869917048127145452557680153244609527179845502801151275173030921688486328019871819708570336073001840734645606939545988530668430648603144768897781559118189976540210352472342870627691107707920253921713240942295673667769229322577414808575555011478989065922430638894748897367888795417351633133812777371406822688512912021300505499210851340931922245259750197414109746467846422046524872456398674674519555000784600510141616736439708520148264844284698551425346292857244849485236125536438586793159767637438877254465312744921834151079722688969345390369219268732352831115652692635155916980732481788805508116325734321342167713122476679515736028475879463331229104599629339692078325301045433057312844193424728387527287243704180269736449595716659246736677221808197331392095240737276204739298019531198853577622586581333902637883656336033112142016143047435624572351053787828739996127333674294866086276861069901356426269295177472154026343008005169201367059058876505436646565072660728384567183447949683690125262051559035617523332016108266833615294592603494792028757543343570005134543576790309273600000000000000000000000000000000000000000000000000000000000000000000000000000000000000000000000000000000000000000000000000000000000000000000000000000000000000000000000000000000000000000000000000000000000000000000000000000000000000000000000000000000000"
      ]
     },
     "execution_count": 13,
     "metadata": {},
     "output_type": "execute_result"
    }
   ],
   "source": [
    "fact(1010)"
   ]
  },
  {
   "cell_type": "code",
   "execution_count": 17,
   "metadata": {},
   "outputs": [],
   "source": [
    "# setting recursion limit can be dangerous though, try memoization using a dict\n"
   ]
  },
  {
   "cell_type": "code",
   "execution_count": 21,
   "metadata": {},
   "outputs": [],
   "source": [
    "def issorted(l):\n",
    "    if len(l) == 1 or len(l) == 1:\n",
    "        return True\n",
    "    if l[-1] > l[-2]:\n",
    "        l.pop()\n",
    "        return issorted(l)\n",
    "    else:\n",
    "        return False\n",
    "        \n",
    "        "
   ]
  },
  {
   "cell_type": "code",
   "execution_count": 22,
   "metadata": {},
   "outputs": [
    {
     "data": {
      "text/plain": [
       "False"
      ]
     },
     "execution_count": 22,
     "metadata": {},
     "output_type": "execute_result"
    }
   ],
   "source": [
    "issorted([1,3,2,4,5])"
   ]
  },
  {
   "cell_type": "code",
   "execution_count": 23,
   "metadata": {},
   "outputs": [
    {
     "data": {
      "text/plain": [
       "True"
      ]
     },
     "execution_count": 23,
     "metadata": {},
     "output_type": "execute_result"
    }
   ],
   "source": [
    "issorted([1,2,3,4,5,6])"
   ]
  },
  {
   "cell_type": "code",
   "execution_count": 24,
   "metadata": {},
   "outputs": [
    {
     "data": {
      "text/plain": [
       "False"
      ]
     },
     "execution_count": 24,
     "metadata": {},
     "output_type": "execute_result"
    }
   ],
   "source": [
    "issorted([1,2,4,2,1,3,3,4,4,4,3,2])"
   ]
  },
  {
   "cell_type": "code",
   "execution_count": 31,
   "metadata": {},
   "outputs": [],
   "source": [
    "def issortedbetter(a, si=0):\n",
    "    l = len(a)\n",
    "    if si == l-1 or si == l:\n",
    "        return True\n",
    "    if a[si] > a[si+1]:\n",
    "        return False\n",
    "    issmallerpartsorted = issortedbetter(a, si+1)\n",
    "    return issmallerpartsorted"
   ]
  },
  {
   "cell_type": "code",
   "execution_count": 32,
   "metadata": {},
   "outputs": [
    {
     "data": {
      "text/plain": [
       "False"
      ]
     },
     "execution_count": 32,
     "metadata": {},
     "output_type": "execute_result"
    }
   ],
   "source": [
    "issortedbetter([1,2,4,2,1,3,3,4,4,4,3,2])"
   ]
  },
  {
   "cell_type": "code",
   "execution_count": 33,
   "metadata": {},
   "outputs": [
    {
     "data": {
      "text/plain": [
       "True"
      ]
     },
     "execution_count": 33,
     "metadata": {},
     "output_type": "execute_result"
    }
   ],
   "source": [
    "issortedbetter([1,2,3,4,5,6])"
   ]
  },
  {
   "cell_type": "code",
   "execution_count": 101,
   "metadata": {},
   "outputs": [],
   "source": [
    "def inde(l, x):\n",
    "    if len(l) == 0:\n",
    "        return -1\n",
    "    return 0 if l[0] == x else inde(l[1:], x)+ 1 if inde(l[1:], x) != -1 else -1\n",
    "\n",
    "    "
   ]
  },
  {
   "cell_type": "code",
   "execution_count": 102,
   "metadata": {},
   "outputs": [
    {
     "data": {
      "text/plain": [
       "-1"
      ]
     },
     "execution_count": 102,
     "metadata": {},
     "output_type": "execute_result"
    }
   ],
   "source": [
    "inde([1,2,3,4,5,2], 88)"
   ]
  },
  {
   "cell_type": "code",
   "execution_count": 103,
   "metadata": {},
   "outputs": [],
   "source": [
    "def indebetter(l, x, si = 0):\n",
    "    if si >= len(l):\n",
    "        return -1\n",
    "    elif l[si] == x:\n",
    "        return si\n",
    "    return indebetter(l, x, si + 1)\n",
    "    \n"
   ]
  },
  {
   "cell_type": "code",
   "execution_count": 104,
   "metadata": {},
   "outputs": [
    {
     "data": {
      "text/plain": [
       "-1"
      ]
     },
     "execution_count": 104,
     "metadata": {},
     "output_type": "execute_result"
    }
   ],
   "source": [
    "indebetter([1,2,3,4,4,5,6,4,3,2], 16)"
   ]
  },
  {
   "cell_type": "code",
   "execution_count": 1,
   "metadata": {},
   "outputs": [],
   "source": [
    "def lastindex(l, x, si):\n",
    "    if si < 0:\n",
    "        return -1\n",
    "    elif l[si] == x:\n",
    "        return si\n",
    "    return lastindex(l, x, si - 1)\n",
    "    "
   ]
  },
  {
   "cell_type": "code",
   "execution_count": 2,
   "metadata": {},
   "outputs": [
    {
     "data": {
      "text/plain": [
       "7"
      ]
     },
     "execution_count": 2,
     "metadata": {},
     "output_type": "execute_result"
    }
   ],
   "source": [
    "lastindex([1,2,3,4,4,5,6,4,3,2], 4, 9)"
   ]
  },
  {
   "cell_type": "code",
   "execution_count": 9,
   "metadata": {},
   "outputs": [],
   "source": [
    "def replace(x, y, s):\n",
    "    if len(s) == 0:\n",
    "        return s\n",
    "    if s[0] == x:\n",
    "        return y + str(replace(x, y, s[1:]))\n",
    "    else:\n",
    "        return s[0] + str(replace(x, y, s[1:]))"
   ]
  },
  {
   "cell_type": "code",
   "execution_count": 10,
   "metadata": {},
   "outputs": [
    {
     "data": {
      "text/plain": [
       "'hinhhiihni'"
      ]
     },
     "execution_count": 10,
     "metadata": {},
     "output_type": "execute_result"
    }
   ],
   "source": [
    "replace('g', 'h', 'ginhgiihni')"
   ]
  },
  {
   "cell_type": "code",
   "execution_count": 13,
   "metadata": {},
   "outputs": [],
   "source": [
    "def remove(x, s):\n",
    "    if len(s) == 0:\n",
    "        return s\n",
    "    if s[0] == x:\n",
    "        return remove(x, s[1:])\n",
    "    return s[0] + remove(x, s[1:])"
   ]
  },
  {
   "cell_type": "code",
   "execution_count": 14,
   "metadata": {},
   "outputs": [
    {
     "data": {
      "text/plain": [
       "'inhiihni'"
      ]
     },
     "execution_count": 14,
     "metadata": {},
     "output_type": "execute_result"
    }
   ],
   "source": [
    "remove('g', 'ginhgiihni')"
   ]
  },
  {
   "cell_type": "code",
   "execution_count": 16,
   "metadata": {},
   "outputs": [],
   "source": [
    "def removeX(s): \n",
    "    if len(s) == 0:\n",
    "        return s\n",
    "    if s[0] == 'x':\n",
    "        return removeX(s[1:])\n",
    "    return s[0] + removeX(s[1:])"
   ]
  },
  {
   "cell_type": "code",
   "execution_count": 17,
   "metadata": {},
   "outputs": [
    {
     "data": {
      "text/plain": [
       "'rjnjnrnnn'"
      ]
     },
     "execution_count": 17,
     "metadata": {},
     "output_type": "execute_result"
    }
   ],
   "source": [
    "removeX(\"xrjnjnrxnxxnxnxxxxxx\")"
   ]
  },
  {
   "cell_type": "code",
   "execution_count": 34,
   "metadata": {},
   "outputs": [],
   "source": [
    "def replacepi(s):\n",
    "    if len(s) == 0 or len(s) == 1:\n",
    "        return s\n",
    "    if s[0] == 'p' and s[1] == 'i':\n",
    "        return ('3.14' + replacepi(s[2:]))\n",
    "    else:\n",
    "        return s[0] + replacepi(s[1:])"
   ]
  },
  {
   "cell_type": "code",
   "execution_count": 35,
   "metadata": {},
   "outputs": [
    {
     "data": {
      "text/plain": [
       "'snoanocw3.143.143.143.14p3.143.143.14pjfrn56 645'"
      ]
     },
     "execution_count": 35,
     "metadata": {},
     "output_type": "execute_result"
    }
   ],
   "source": [
    "replacepi('snoanocwpipipipippipipipjfrn56 645')"
   ]
  },
  {
   "cell_type": "code",
   "execution_count": 56,
   "metadata": {},
   "outputs": [],
   "source": [
    "def removeConsecutiveDuplicates(s):\n",
    "    if len(s) == 0 or len(s) == 1:\n",
    "        return s\n",
    "    if s[0] == s[1]:\n",
    "        return removeConsecutiveDuplicates(s[1:])\n",
    "    return s[0] + removeConsecutiveDuplicates(s[1:])"
   ]
  },
  {
   "cell_type": "code",
   "execution_count": 57,
   "metadata": {},
   "outputs": [
    {
     "data": {
      "text/plain": [
       "'abc'"
      ]
     },
     "execution_count": 57,
     "metadata": {},
     "output_type": "execute_result"
    }
   ],
   "source": [
    "removeConsecutiveDuplicates('aabbc')"
   ]
  },
  {
   "cell_type": "code",
   "execution_count": 102,
   "metadata": {},
   "outputs": [],
   "source": [
    "# binary search\n",
    "def binsearch(arr, h, l, k):\n",
    "    if l == h:\n",
    "        return -1\n",
    "    mid = (h + l + 1) // 2\n",
    "    if arr[mid] == k:\n",
    "        return mid\n",
    "    elif arr[mid] > k:\n",
    "        h = mid\n",
    "    elif arr[mid] < k:\n",
    "        l = mid\n",
    "    return binsearch(arr, h, l, k)"
   ]
  },
  {
   "cell_type": "code",
   "execution_count": 104,
   "metadata": {},
   "outputs": [
    {
     "data": {
      "text/plain": [
       "-1"
      ]
     },
     "execution_count": 104,
     "metadata": {},
     "output_type": "execute_result"
    }
   ],
   "source": [
    "binsearch([1,2,3,4,5,8], 5, 0, 88)"
   ]
  },
  {
   "cell_type": "code",
   "execution_count": 114,
   "metadata": {},
   "outputs": [],
   "source": [
    "# merge sort\n",
    "def merger(l1, l2, l):\n",
    "    i = 0\n",
    "    j = 0\n",
    "    k = 0\n",
    "    while i < len(l1) and j < len(l2):\n",
    "        if l1[i] > l2[j]:\n",
    "            l[k] = (l2[j])\n",
    "            j += 1\n",
    "            k += 1\n",
    "        elif l1[i] < l2[j]:\n",
    "            l[k] = (l1[i])\n",
    "            i += 1\n",
    "            k += 1\n",
    "    while i < len(l1):\n",
    "        l[k] = (l1[i])\n",
    "        i += 1\n",
    "        k += 1\n",
    "    while j < len(l2):\n",
    "        l[k] = (l2[j])\n",
    "        j += 1 \n",
    "        k += 1\n",
    "\n",
    "def sort(l):\n",
    "    mid = len(l) // 2\n",
    "    if len(l) == 0 or len(l) == 1:\n",
    "        return l\n",
    "    l1 = l[:mid]\n",
    "    l2 = l[mid:]\n",
    "    sort(l1)\n",
    "    sort(l2)\n",
    "    merger(l1, l2, l)\n",
    "        "
   ]
  },
  {
   "cell_type": "code",
   "execution_count": 115,
   "metadata": {},
   "outputs": [],
   "source": [
    "a = [2,3,6,4,21]\n",
    "sort(a)"
   ]
  },
  {
   "cell_type": "code",
   "execution_count": 116,
   "metadata": {},
   "outputs": [
    {
     "data": {
      "text/plain": [
       "[2, 3, 4, 6, 21]"
      ]
     },
     "execution_count": 116,
     "metadata": {},
     "output_type": "execute_result"
    }
   ],
   "source": [
    "a"
   ]
  },
  {
   "cell_type": "code",
   "execution_count": 123,
   "metadata": {},
   "outputs": [],
   "source": [
    "def mergesort(l, left, right):\n",
    "    if left + 1 < right:\n",
    "        mid = (left + right)//2\n",
    "        mergesort(l, left, mid)\n",
    "        mergesort(l, mid, right)\n",
    "        merge(l, left, mid, right)\n",
    "        \n",
    "def merge(l, left, mid, right):\n",
    "    i = left\n",
    "    j = mid\n",
    "    k = 0\n",
    "    new = [0] * (right-left)\n",
    "    \n",
    "    while i < mid and j < right:\n",
    "        if l[i] < l[j]:\n",
    "            new[k] = (l[i])\n",
    "            i += 1\n",
    "        elif l[j] < l[i]:\n",
    "            new[k] = (l[j])\n",
    "            j += 1\n",
    "        k += 1\n",
    "    while i < mid:\n",
    "        new[k] = (l[i])\n",
    "        i += 1\n",
    "        k += 1\n",
    "    while j < right:\n",
    "        new[k] = (l[j])\n",
    "        j += 1\n",
    "        k += 1\n",
    "    \n",
    "    for m in range(right-left):\n",
    "        l[m+left] = new[m]\n",
    " "
   ]
  },
  {
   "cell_type": "code",
   "execution_count": 124,
   "metadata": {},
   "outputs": [],
   "source": [
    "b = [1,4,2,11,12,10,9,112]\n",
    "mergesort(b, 0, 8)"
   ]
  },
  {
   "cell_type": "code",
   "execution_count": 126,
   "metadata": {},
   "outputs": [
    {
     "data": {
      "text/plain": [
       "[1, 2, 4, 9, 10, 11, 12, 112]"
      ]
     },
     "execution_count": 126,
     "metadata": {},
     "output_type": "execute_result"
    }
   ],
   "source": [
    "b"
   ]
  },
  {
   "cell_type": "code",
   "execution_count": 174,
   "metadata": {},
   "outputs": [],
   "source": [
    "def quicksort(arr, start, end):\n",
    "    if end - start <= 0:\n",
    "        return\n",
    "    partindex = partition(arr, start, end)\n",
    "    quicksort(arr, start, partindex-1)\n",
    "    quicksort(arr, partindex+1, end)\n",
    "\n",
    "def partition(arr, start, end):\n",
    "    target = arr[start]\n",
    "    count = 0\n",
    "    \n",
    "    for l in range(start, end):\n",
    "        if arr[l] < target:\n",
    "            count += 1\n",
    "    arr[start], arr[start+count] = arr[start+count], arr[start]\n",
    "    i = start\n",
    "    j = end\n",
    "    \n",
    "    while i < j:\n",
    "        if arr[i] < target:\n",
    "            i += 1\n",
    "        elif arr[j] >= target:\n",
    "            j -= 1\n",
    "        else:\n",
    "            arr[i], arr[j] = arr[j], arr[i]\n",
    "    return (start + count)"
   ]
  },
  {
   "cell_type": "code",
   "execution_count": 175,
   "metadata": {},
   "outputs": [],
   "source": [
    "c = [4,1,3,44,22,12,42, 99, 101, 100, 43]"
   ]
  },
  {
   "cell_type": "code",
   "execution_count": 176,
   "metadata": {},
   "outputs": [],
   "source": [
    "quicksort(c, 0 , len(c) - 1)"
   ]
  },
  {
   "cell_type": "code",
   "execution_count": 177,
   "metadata": {},
   "outputs": [
    {
     "data": {
      "text/plain": [
       "[1, 3, 4, 22, 12, 42, 43, 44, 100, 99, 101]"
      ]
     },
     "execution_count": 177,
     "metadata": {},
     "output_type": "execute_result"
    }
   ],
   "source": [
    "c"
   ]
  },
  {
   "cell_type": "code",
   "execution_count": 19,
   "metadata": {},
   "outputs": [],
   "source": []
  },
  {
   "cell_type": "code",
   "execution_count": null,
   "metadata": {},
   "outputs": [],
   "source": []
  },
  {
   "cell_type": "code",
   "execution_count": 101,
   "metadata": {},
   "outputs": [],
   "source": []
  },
  {
   "cell_type": "code",
   "execution_count": null,
   "metadata": {},
   "outputs": [],
   "source": []
  },
  {
   "cell_type": "code",
   "execution_count": null,
   "metadata": {},
   "outputs": [],
   "source": []
  },
  {
   "cell_type": "code",
   "execution_count": null,
   "metadata": {},
   "outputs": [],
   "source": []
  },
  {
   "cell_type": "code",
   "execution_count": null,
   "metadata": {},
   "outputs": [],
   "source": []
  },
  {
   "cell_type": "code",
   "execution_count": null,
   "metadata": {},
   "outputs": [],
   "source": []
  }
 ],
 "metadata": {
  "kernelspec": {
   "display_name": "Python 3",
   "language": "python",
   "name": "python3"
  },
  "language_info": {
   "codemirror_mode": {
    "name": "ipython",
    "version": 3
   },
   "file_extension": ".py",
   "mimetype": "text/x-python",
   "name": "python",
   "nbconvert_exporter": "python",
   "pygments_lexer": "ipython3",
   "version": "3.7.3"
  }
 },
 "nbformat": 4,
 "nbformat_minor": 2
}
