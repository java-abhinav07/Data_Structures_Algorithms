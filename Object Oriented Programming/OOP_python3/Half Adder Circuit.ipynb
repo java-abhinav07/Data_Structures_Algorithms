{
 "cells": [
  {
   "cell_type": "markdown",
   "metadata": {},
   "source": [
    "A half adder circuit is a combination of AND and XOR gate to perform binary addition. It has 2 inputs and 2 outputs\n",
    "\n",
    "First output gives AND logic gate result and is the carry part of the binary addition, whereas the second output gives the results for XOR gate logic and is the sum part of the binary addition\n",
    "\n",
    "Binary Addition is simply like normal addition, the only difference is that instead of 10, 2 is carried forward as 1\n",
    "\n",
    "Implementation of Logic Gates is as follows"
   ]
  },
  {
   "cell_type": "code",
   "execution_count": 10,
   "metadata": {},
   "outputs": [],
   "source": [
    "class LogicGate:\n",
    "    \n",
    "    def __init__(self, name):\n",
    "        self.name = name\n",
    "        self.output = None\n",
    "    \n",
    "    def get_name(self):\n",
    "        return self.name\n",
    "    \n",
    "    def get_output(self):\n",
    "        self.output = self.performGateLogic()\n",
    "        return self.output\n",
    "\n",
    "class BinaryGate(LogicGate):\n",
    "    \n",
    "    def __init__(self, name):\n",
    "        LogicGate.__init__(self, name)\n",
    "        \n",
    "        self.pinA = None\n",
    "        self.pinB = None\n",
    "        \n",
    "    def getPinA(self):\n",
    "        if self.pinA == None:\n",
    "            return int(input(\"Enter Pin A input for gate \"+self.get_name()+\"-->\"))\n",
    "        else:\n",
    "            return \"Pin not available\"\n",
    "    def getPinB(self):\n",
    "        if self.pinB == None:\n",
    "            return int(input(\"Enter Pin B input for gate \"+self.get_name()+\"-->\"))\n",
    "        else:\n",
    "            return \"Pin not available\"\n",
    "        \n",
    "    def set_next_pin(self, source):\n",
    "        if self.pinA == None:\n",
    "            pinA = source\n",
    "        elif self.pinB == None:\n",
    "            pinB = source\n",
    "        else:\n",
    "            return \"No pins available\"        \n",
    "        \n",
    "class UnaryGate(LogicGate):\n",
    "    def __init__(self, name):\n",
    "        LogicGate.__init__(self, name)\n",
    "        \n",
    "        self.pin = None\n",
    "    \n",
    "    def getPin(self):\n",
    "        if self.pin == None:\n",
    "            return int(input(\"Enter Pin input for gate \"+self.get_name()+\"-->\"))\n",
    "        else:\n",
    "            return \"Pin not available\"\n",
    "    \n",
    "    def set_next_pin(self, source):\n",
    "        if self.pin == None:\n",
    "            self.pin = source\n",
    "        else:\n",
    "            return \"No available Pins\"\n",
    "\n",
    "class AND(BinaryGate):\n",
    "    \n",
    "    def __init__(self, name):\n",
    "        BinaryGate.__init__(self, name)\n",
    "    \n",
    "    def performGateLogic(self):\n",
    "        a = self.getPinA()\n",
    "        b = self.getPinB()\n",
    "        if a == 1 and b == 1:\n",
    "            return 1\n",
    "        else:\n",
    "            return 0\n",
    "        \n",
    "class OR(BinaryGate):\n",
    "    \n",
    "    def __init__(self, name):\n",
    "        BinaryGate.__init__(self, name)\n",
    "    \n",
    "    def performGateLogic(self):\n",
    "        a = self.getPinA()\n",
    "        b = self.getPinB\n",
    "        if a == 1 or b == 1:\n",
    "            return 1\n",
    "        else:\n",
    "            return 0\n",
    "        \n",
    "class XOR(BinaryGate):\n",
    "    \n",
    "    def __init__(self, name):\n",
    "        BinaryGate.__init__(self, name)\n",
    "    \n",
    "    def performGateLogic(self):\n",
    "        a = self.getPinA()\n",
    "        b = self.getPinB()\n",
    "        if (a == 1 and b == 0) or (a == 0 and b == 1):\n",
    "            return 1\n",
    "        else:\n",
    "            return 0\n",
    "        \n",
    "class NOT(UnaryGate):\n",
    "    \n",
    "    def __init__(self, name):\n",
    "        UnaryGate.__init__(self, name)\n",
    "        \n",
    "    def performGateLogic(self):\n",
    "        if self.getPin():\n",
    "            return 0\n",
    "        else:\n",
    "            return 1\n",
    "    \n",
    "class NAND(AND):\n",
    "    \n",
    "    def __init__(self, name):\n",
    "        AND.__init__(self, name)\n",
    "    \n",
    "    def performgatelogic(self):\n",
    "        if super().performgatelogic == 1:\n",
    "            return 0\n",
    "        else:\n",
    "            return 1\n",
    "    \n",
    "class NOR(OR):\n",
    "    \n",
    "    def __init__(self, name):\n",
    "        OR.__init__(self, name)\n",
    "    \n",
    "    def performgatelogic(self):\n",
    "        if super().performgatelogic == 1:\n",
    "            return 0\n",
    "        else:\n",
    "            return 1\n",
    "    \n",
    "class Connector:\n",
    "    def __init__(self, f, t):\n",
    "        self.f = f\n",
    "        self.t = t\n",
    "    \n",
    "    def connect_from(self):\n",
    "        return self.f\n",
    "    \n",
    "    def connect_to(self):\n",
    "        return self.t\n",
    "\n",
    "class mixgen_Splitter:\n",
    "    \n",
    "    def __init__(self, pin, t1, t2):\n",
    "        self.pin = pin\n",
    "        self.t1 = t1\n",
    "        self.t2 = t2\n",
    "        \n",
    "    def get_pin(self):\n",
    "        return self.pin\n",
    "    \n",
    "    def connect_to1(self):\n",
    "        return self.t1\n",
    "    \n",
    "    def connect_to2(self):\n",
    "        return self.t2\n",
    "    "
   ]
  },
  {
   "cell_type": "code",
   "execution_count": 11,
   "metadata": {},
   "outputs": [],
   "source": [
    "def Half_adder(i1, i2):\n",
    "    o1 = i1 ^ i2\n",
    "    o2 = i1 & i2\n",
    "    return o1, o2"
   ]
  },
  {
   "cell_type": "code",
   "execution_count": 12,
   "metadata": {},
   "outputs": [
    {
     "name": "stdout",
     "output_type": "stream",
     "text": [
      "(1, 0)\n"
     ]
    }
   ],
   "source": [
    "print(Half_adder(0,1))"
   ]
  },
  {
   "cell_type": "markdown",
   "metadata": {},
   "source": [
    "Lets look at our Python classes properly now. The class Connector will provide inputs and outputs for instances of the LC class (and subclasses). Each Connector will belong to an owner and have a name. By convention the name is a string that reflects the variable name we choose for the connector. This will let us monitor outputs during execution. Every connector has a current value, either 0 or 1. This will change as the program executes."
   ]
  },
  {
   "cell_type": "markdown",
   "metadata": {},
   "source": [
    "An output connector will normally be connected to one or more input connectors unless it is a final output, in which case it will probably be monitored. Input connectors will have their “activates” attribute true, so that when their value is changed they wake up their owner (an LC) to reevaluate its output(s)."
   ]
  },
  {
   "cell_type": "code",
   "execution_count": 13,
   "metadata": {},
   "outputs": [],
   "source": [
    "class Connector:\n",
    "    \n",
    "    def __init__(self, owner, name, activates=0, monitor=0):\n",
    "        self.value = None\n",
    "        self.owner = owner\n",
    "        self.name = name\n",
    "        self.monitor = monitor\n",
    "        self.connects = []\n",
    "        self.activates = activates\n",
    "        \n",
    "    def connect(self, inputs):\n",
    "        if not isinstance(inputs, list):\n",
    "            inputs = [inputs]\n",
    "        for input in inputs:\n",
    "            self.connects.append(input)\n",
    "    \n",
    "    def set(self, value):\n",
    "        if self.value == value:\n",
    "            return      # Ignore if no change\n",
    "        self.value = value\n",
    "        if self.activates:\n",
    "            self.owner.evaluate()\n",
    "        if self.monitor:\n",
    "            print(\"Connector {0}-{1} set to {2}\".format(self.owner.name, self.name, self.value))\n",
    "        for con in self.connects:\n",
    "            con.set(value)\n",
    "\n",
    "class LC:\n",
    "    # Logic Circuits have names and an evaluation function defined in child\n",
    "    # classes. They will also contain a set of inputs and outputs.\n",
    "    def __init__(self, name):\n",
    "        self.name = name\n",
    "\n",
    "    def evaluate(self):\n",
    "        return\n",
    "\n",
    "    \n",
    "class Not(LC):         # Inverter. Input A. Output B.\n",
    "    def __init__(self, name):\n",
    "        LC.__init__(self, name)\n",
    "        self.A = Connector(self, 'A', activates=1)\n",
    "        self.B = Connector(self, 'B')\n",
    "\n",
    "    def evaluate(self):\n",
    "        self.B.set(not self.A.value)\n",
    "\n",
    "class Gate2(LC):         # two input gates. Inputs A and B. Output C.\n",
    "    def __init__(self, name):\n",
    "        LC.__init__(self, name)\n",
    "        self.A = Connector(self, 'A', activates=1)\n",
    "        self.B = Connector(self, 'B', activates=1)\n",
    "        self.C = Connector(self, 'C')\n",
    "        \n",
    "class And(Gate2):       # two input AND Gate\n",
    "    def __init__(self, name):\n",
    "        Gate2.__init__(self, name)\n",
    "\n",
    "    def evaluate(self):\n",
    "        self.C.set(self.A.value and self.B.value)\n",
    "\n",
    "\n",
    "class Or(Gate2):         # two input OR gate.\n",
    "    def __init__(self, name):\n",
    "        Gate2.__init__(self, name)\n",
    "\n",
    "    def evaluate(self):\n",
    "        self.C.set(self.A.value or self.B.value)\n",
    "        \n",
    "class Xor(Gate2):\n",
    "    def __init__(self, name):\n",
    "        Gate2.__init__(self, name)\n",
    "        self.A1 = And(\"A1\")  # See circuit drawing to follow connections\n",
    "        self.A2 = And(\"A2\")\n",
    "        self.I1 = Not(\"I1\")\n",
    "        self.I2 = Not(\"I2\")\n",
    "        self.O1 = Or(\"O1\")\n",
    "        self.A.connect([self.A1.A, self.I2.A])\n",
    "        self.B.connect([self.I1.A, self.A2.A])\n",
    "        self.I1.B.connect([self.A1.B])\n",
    "        self.I2.B.connect([self.A2.B])\n",
    "        self.A1.C.connect([self.O1.A])\n",
    "        self.A2.C.connect([self.O1.B])\n",
    "        self.O1.C.connect([self.C])"
   ]
  },
  {
   "cell_type": "code",
   "execution_count": 14,
   "metadata": {},
   "outputs": [],
   "source": [
    "class HalfAdder(LC):         # One bit adder, A,B in. Sum and Carry out\n",
    "    def __init__(self, name):\n",
    "        LC.__init__(self, name)\n",
    "        self.A = Connector(self, 'A', 1)\n",
    "        self.B = Connector(self, 'B', 1)\n",
    "        self.S = Connector(self, 'S')\n",
    "        self.C = Connector(self, 'C')\n",
    "        self.X1 = Xor(\"X1\")\n",
    "        self.A1 = And(\"A1\")\n",
    "        self.A.connect([self.X1.A, self.A1.A])\n",
    "        self.B.connect([self.X1.B, self.A1.B])\n",
    "        self.X1.C.connect([self.S])\n",
    "        self.A1.C.connect([self.C])"
   ]
  },
  {
   "cell_type": "code",
   "execution_count": 15,
   "metadata": {},
   "outputs": [
    {
     "name": "stdout",
     "output_type": "stream",
     "text": [
      "Connector H1-C set to 0\n"
     ]
    }
   ],
   "source": [
    "h1 = HalfAdder(\"H1\")\n",
    "h1.S.monitor=1\n",
    "h1.C.monitor=1\n",
    "h1.A.set(0)"
   ]
  },
  {
   "cell_type": "code",
   "execution_count": 16,
   "metadata": {},
   "outputs": [
    {
     "name": "stdout",
     "output_type": "stream",
     "text": [
      "Connector H1-S set to True\n"
     ]
    }
   ],
   "source": [
    "h1.B.set(1)"
   ]
  },
  {
   "cell_type": "code",
   "execution_count": 17,
   "metadata": {},
   "outputs": [
    {
     "name": "stdout",
     "output_type": "stream",
     "text": [
      "Connector H1-S set to False\n",
      "Connector H1-C set to 1\n"
     ]
    }
   ],
   "source": [
    "h1.A.set(1)"
   ]
  },
  {
   "cell_type": "code",
   "execution_count": null,
   "metadata": {},
   "outputs": [],
   "source": []
  },
  {
   "cell_type": "code",
   "execution_count": null,
   "metadata": {},
   "outputs": [],
   "source": []
  }
 ],
 "metadata": {
  "kernelspec": {
   "display_name": "Python 3",
   "language": "python",
   "name": "python3"
  },
  "language_info": {
   "codemirror_mode": {
    "name": "ipython",
    "version": 3
   },
   "file_extension": ".py",
   "mimetype": "text/x-python",
   "name": "python",
   "nbconvert_exporter": "python",
   "pygments_lexer": "ipython3",
   "version": "3.7.3"
  }
 },
 "nbformat": 4,
 "nbformat_minor": 2
}
