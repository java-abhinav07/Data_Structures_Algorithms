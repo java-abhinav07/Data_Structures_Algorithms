{
 "cells": [
  {
   "cell_type": "code",
   "execution_count": 23,
   "metadata": {},
   "outputs": [
    {
     "name": "stdout",
     "output_type": "stream",
     "text": [
      "2 3\n",
      "9 10\n",
      "2\n",
      "-12 + i47\n"
     ]
    }
   ],
   "source": [
    "class Complex:\n",
    "    \n",
    "    def __init__(self, real = 0, img = 0):\n",
    "        self.real = real\n",
    "        self.img = img\n",
    "    \n",
    "    def __add__(self, c2):\n",
    "        self.real += c2.real\n",
    "        self.img += c2.img\n",
    "        return Complex(self.real, self.img)\n",
    "    def __mul__(self, c2):\n",
    "        x = self.real \n",
    "        self.real = self.real*c2.real - c2.img*self.img\n",
    "        self.img = self.img*c2.real + c2.img*x\n",
    "        \n",
    "        return Complex(self.real, self.img)\n",
    "    def show(self):\n",
    "        print(str(self.real) + ' +' + ' i' + str(self.img))\n",
    "    \n",
    "x, y = input().split()\n",
    "a, b = input().split()\n",
    "num1 = Complex(int(x), int(y))\n",
    "num2 = Complex(int(a), int(b))\n",
    "n = int(input())\n",
    "if n == 1:\n",
    "    num1 = num1 + num2\n",
    "    num1.show()\n",
    "elif n == 2:\n",
    "    num1 = num1 * num2\n",
    "    num1.show()"
   ]
  },
  {
   "cell_type": "code",
   "execution_count": null,
   "metadata": {},
   "outputs": [],
   "source": []
  }
 ],
 "metadata": {
  "kernelspec": {
   "display_name": "Python 3",
   "language": "python",
   "name": "python3"
  },
  "language_info": {
   "codemirror_mode": {
    "name": "ipython",
    "version": 3
   },
   "file_extension": ".py",
   "mimetype": "text/x-python",
   "name": "python",
   "nbconvert_exporter": "python",
   "pygments_lexer": "ipython3",
   "version": "3.7.3"
  }
 },
 "nbformat": 4,
 "nbformat_minor": 2
}
