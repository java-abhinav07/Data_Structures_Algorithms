{
 "cells": [
  {
   "cell_type": "code",
   "execution_count": 1,
   "metadata": {},
   "outputs": [],
   "source": [
    "class card:\n",
    "    \n",
    "    def __init__(self, suit, color, typ, active=0):\n",
    "        self.suit = suit\n",
    "        self.color = color\n",
    "        self.type = typ\n",
    "        self.state = active\n",
    "        \n",
    "    def up_down(self):\n",
    "        if self.state == 0:\n",
    "            return \"Facing down\"\n",
    "        else:\n",
    "            return \"Facing up\"\n",
    "    \n",
    "    def turn(self):\n",
    "        if self.state == 0:\n",
    "            self.state == 1\n",
    "            return [self.suit, self.color, self.type]\n",
    "        else:\n",
    "            self.state == 0\n",
    "            return \"card has been turned upside down, kindly turn it back up to see\""
   ]
  },
  {
   "cell_type": "code",
   "execution_count": null,
   "metadata": {},
   "outputs": [],
   "source": []
  }
 ],
 "metadata": {
  "kernelspec": {
   "display_name": "Python 3",
   "language": "python",
   "name": "python3"
  },
  "language_info": {
   "codemirror_mode": {
    "name": "ipython",
    "version": 3
   },
   "file_extension": ".py",
   "mimetype": "text/x-python",
   "name": "python",
   "nbconvert_exporter": "python",
   "pygments_lexer": "ipython3",
   "version": "3.7.3"
  }
 },
 "nbformat": 4,
 "nbformat_minor": 2
}
