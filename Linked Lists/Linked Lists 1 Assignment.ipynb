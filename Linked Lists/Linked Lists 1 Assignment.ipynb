{
 "cells": [
  {
   "cell_type": "markdown",
   "metadata": {},
   "source": [
    "Problem 1\n",
    "\n",
    "Given a linked list and an integer n you need to find and return index where n is present in the LL. Do this iteratively.\n",
    "Return -1 if n is not present in the LL."
   ]
  },
  {
   "cell_type": "code",
   "execution_count": 6,
   "metadata": {},
   "outputs": [
    {
     "name": "stdout",
     "output_type": "stream",
     "text": [
      "1 2 3 4 -1\n",
      "99\n",
      "-1\n"
     ]
    }
   ],
   "source": [
    "class Node:\n",
    "    def __init__(self, data):\n",
    "        self.data = data\n",
    "        self.next = None\n",
    "\n",
    "        \n",
    "def linearSearch(head, n):\n",
    "    #  Given a linked list and an integer n you need to find and return index\n",
    "    #  where n is present in the LL. Do this iteratively. Return -1 if n is not\n",
    "    #  present in the LL. Indexing of nodes starts from 0. \n",
    "    index = 0    \n",
    "    while head is not None:\n",
    "        if head.data == n:\n",
    "            return index\n",
    "        else:\n",
    "            head = head.next\n",
    "            index += 1\n",
    "    return -1\n",
    "        \n",
    "        \n",
    "\n",
    "def ll(arr):\n",
    "    head = Node(arr[0])\n",
    "    last = head\n",
    "    for data in arr[1:]:\n",
    "        last.next = Node(data)\n",
    "        last = last.next\n",
    "    return head\n",
    "\n",
    "# Main\n",
    "# Read the link list elements including -1\n",
    "arr=list(int(i) for i in input().strip().split(' '))\n",
    "# Create a Linked list after removing -1 from list\n",
    "l = ll(arr[:-1])\n",
    "data=int(input())\n",
    "index = linearSearch(l, data)\n",
    "print(index)\n"
   ]
  },
  {
   "cell_type": "markdown",
   "metadata": {},
   "source": [
    "Problem 2\n",
    "\n",
    "Given a linked list and an integer n, append the last n elements of the LL to front.\n",
    "Indexing starts from 0. You don't need to print the elements, just update the elements and return the head of updated LL.\n",
    "Assume given n will be smaller than length of LL.\n",
    "`"
   ]
  },
  {
   "cell_type": "code",
   "execution_count": 28,
   "metadata": {},
   "outputs": [
    {
     "name": "stdout",
     "output_type": "stream",
     "text": [
      "1 2 3 4 5 -1\n",
      "4\n",
      "2 3 4 5 1 \n"
     ]
    }
   ],
   "source": [
    "class Node:\n",
    "    def __init__(self, data):\n",
    "        self.data = data\n",
    "        self.next = None\n",
    "        \n",
    "def length(head):\n",
    "    count = 0\n",
    "    while head.next is not None:\n",
    "        head = head.next\n",
    "        count += 1\n",
    "    return count\n",
    "\n",
    "def append_LinkedList(ll,n) :\n",
    "    #  Given a linked list and an integer n, append the last n elements of the LL\n",
    "    #  to front. \n",
    "    head = ll[0]\n",
    "    tail = ll[1]\n",
    "    index = length(head) - n # O(n)\n",
    "    tail.next = head\n",
    "    count = 0\n",
    "    while count < index: # O(n)\n",
    "        head = head.next\n",
    "        count += 1\n",
    "    newhead = head.next\n",
    "    head.next = None\n",
    "    return newhead\n",
    "    \n",
    "\n",
    "def ll(arr):\n",
    "    head = Node(arr[0])\n",
    "    last = head\n",
    "    for data in arr[1:]:\n",
    "        last.next = Node(data)\n",
    "        last = last.next\n",
    "    tail = last\n",
    "    return (head, tail)\n",
    "\n",
    "def printll(head):\n",
    "    while head:\n",
    "        print(head.data, end=' ')\n",
    "        head = head.next\n",
    "    print()\n",
    "\n",
    "# Main\n",
    "# Read the link list elements including -1\n",
    "arr=list(int(i) for i in input().strip().split(' '))\n",
    "# Create a Linked list after removing -1 from list\n",
    "l = ll(arr[:-1])\n",
    "i=int(input())\n",
    "l = append_LinkedList(l, i)\n",
    "printll(l)\n"
   ]
  },
  {
   "cell_type": "markdown",
   "metadata": {},
   "source": [
    "Problem 3:\n",
    "Eliminate duplicates from LL\n",
    "\n",
    "Given a sorted linked list (elements are sorted in ascending order). Eliminate duplicates from the given LL, such that output LL contains only unique elements."
   ]
  },
  {
   "cell_type": "code",
   "execution_count": 18,
   "metadata": {},
   "outputs": [
    {
     "name": "stdout",
     "output_type": "stream",
     "text": [
      "1 1 1 1 1 1 1 1 1 1 1 1 1 1 1 1 1 1 1 1 1 1 1 2 2 2 2 2 2 2 2 2 2 2 2 3 3 3 3 4 4 444 444 4444444444 5555555555555555 -1\n",
      "1 2 3 4 444 4444444444 5555555555555555 \n"
     ]
    }
   ],
   "source": [
    "class Node:\n",
    "    def __init__(self, data):\n",
    "        self.data = data\n",
    "        self.next = None\n",
    "\n",
    "def eliminate_duplicate(head):\n",
    "    #  Given a sorted linked list (elements are sorted in ascending order).\n",
    "    #  Eliminate duplicates from the given LL, such that output LL contains only\n",
    "    #  unique elements.\n",
    "    cursor = head\n",
    "    while cursor.next != None:\n",
    "        if cursor.data == cursor.next.data:\n",
    "            cursor.next = cursor.next.next\n",
    "        else:\n",
    "            cursor = cursor.next\n",
    "\n",
    "\n",
    "    return head\n",
    "\n",
    "def ll(arr):\n",
    "    head = Node(arr[0])\n",
    "    last = head\n",
    "    for data in arr[1:]:\n",
    "        last.next = Node(data)\n",
    "        last = last.next\n",
    "    return head\n",
    "\n",
    "def printll(head):\n",
    "    while head:\n",
    "        print(head.data, end=' ')\n",
    "        head = head.next\n",
    "    print()\n",
    "\n",
    "# Main\n",
    "# Read the link list elements including -1\n",
    "arr=list(int(i) for i in input().strip().split(' '))\n",
    "# Create a Linked list after removing -1 from list\n",
    "l = ll(arr[:-1])\n",
    "l = eliminate_duplicate(l)\n",
    "printll(l)\n"
   ]
  },
  {
   "cell_type": "markdown",
   "metadata": {},
   "source": [
    "Problem 4: Print reverse LinkedList\n",
    "\n",
    "Print a given linked list in reverse order. You need to print the tail first and head last. You can’t change any pointer in the linked list, just print it in reverse order."
   ]
  },
  {
   "cell_type": "code",
   "execution_count": 25,
   "metadata": {},
   "outputs": [
    {
     "name": "stdout",
     "output_type": "stream",
     "text": [
      "1 2 3 4 5 -1\n",
      "5 4 3 2 1 "
     ]
    }
   ],
   "source": [
    "class Node:\n",
    "    def __init__(self, data):\n",
    "        self.data = data\n",
    "        self.next = None\n",
    "\n",
    "def print_linkedlist_spl(head):\n",
    "    #  Print a given linked list in reverse order. You need to print the tail\n",
    "    #  first and head last. You can’t change any pointer in the linked list, just\n",
    "    #  print it in reverse order.\n",
    "\n",
    "    if head.next == None:\n",
    "        print(head.data, end = \" \")\n",
    "    else:\n",
    "        print_linkedlist_spl(head.next)\n",
    "        print(head.data, end = \" \")\n",
    "        \n",
    "        \n",
    "\n",
    "def ll(arr):\n",
    "    if len(arr)==0:\n",
    "        return None\n",
    "    head = Node(arr[0])\n",
    "    last = head\n",
    "    for data in arr[1:]:\n",
    "        last.next = Node(data)\n",
    "        last = last.next\n",
    "    \n",
    "    return head\n",
    "\n",
    "# Main\n",
    "# Read the link list elements including -1\n",
    "from sys import setrecursionlimit\n",
    "setrecursionlimit(10000)\n",
    "arr=list(int(i) for i in input().strip().split(' '))\n",
    "# Create a Linked list after removing -1 from list\n",
    "l = ll(arr[:-1])\n",
    "print_linkedlist_spl(l)\n"
   ]
  },
  {
   "cell_type": "code",
   "execution_count": null,
   "metadata": {},
   "outputs": [],
   "source": []
  },
  {
   "cell_type": "markdown",
   "metadata": {},
   "source": [
    "Problem 5: Palindrome LinkedList\n",
    "\n",
    "Check if a given linked list is palindrome or not. Return true or false"
   ]
  },
  {
   "cell_type": "code",
   "execution_count": 11,
   "metadata": {},
   "outputs": [
    {
     "name": "stdout",
     "output_type": "stream",
     "text": [
      "1 2 3 4 \n",
      "false\n"
     ]
    }
   ],
   "source": [
    "class Node:\n",
    "    def __init__(self, data):\n",
    "        self.data = data\n",
    "        self.next = None\n",
    "        \n",
    "def length(head):\n",
    "    count = 1\n",
    "    while head.next is not None:\n",
    "        head = head.next\n",
    "        count += 1\n",
    "    return count\n",
    "\n",
    "# time- O(n) approach and space- O(1) approch\n",
    "def check_palindrome(ll):\n",
    "    head = ll[0]\n",
    "    cursor = head\n",
    "    breakpt = length(head)//2\n",
    "    for i in range(breakpt-1):\n",
    "        cursor = cursor.next\n",
    "    head2 = cursor.next\n",
    "    cursor.next = None\n",
    "    head2 = reverse(head2)\n",
    "    \n",
    "    while head2 != None or head != None:\n",
    "        if head2.data == head.data:\n",
    "            head2 = head2.next\n",
    "            head = head.next\n",
    "        elif head2.data != head.data:\n",
    "            return False\n",
    "    return True\n",
    "        \n",
    "\n",
    "def reverse(head):\n",
    "    prev = None\n",
    "    cursor = head\n",
    "    next = None\n",
    "    while cursor != None:\n",
    "        next = cursor.next\n",
    "        cursor.next = prev\n",
    "        prev= cursor\n",
    "        cursor = next\n",
    "        \n",
    "    return prev\n",
    "        \n",
    "\n",
    "def ll(arr):\n",
    "    head = Node(arr[0])\n",
    "    last = head\n",
    "    for data in arr[1:]:\n",
    "        last.next = Node(data)\n",
    "        last = last.next\n",
    "    tail = last   \n",
    "    return (head, tail)\n",
    "\n",
    "# Main\n",
    "# Read the link list elements including -1\n",
    "arr=list(int(i) for i in input().strip().split(' '))\n",
    "# Create a Linked list after removing -1 from list\n",
    "l = ll(arr[:-1])\n",
    "ans = check_palindrome(l)\n",
    "if ans:\n",
    "    print(\"true\")\n",
    "else:\n",
    "    print(\"false\")\n"
   ]
  },
  {
   "cell_type": "code",
   "execution_count": 2,
   "metadata": {},
   "outputs": [],
   "source": []
  },
  {
   "cell_type": "code",
   "execution_count": null,
   "metadata": {},
   "outputs": [],
   "source": []
  },
  {
   "cell_type": "code",
   "execution_count": null,
   "metadata": {},
   "outputs": [],
   "source": []
  },
  {
   "cell_type": "markdown",
   "metadata": {},
   "source": []
  },
  {
   "cell_type": "code",
   "execution_count": 20,
   "metadata": {},
   "outputs": [],
   "source": []
  },
  {
   "cell_type": "code",
   "execution_count": null,
   "metadata": {},
   "outputs": [],
   "source": [
    "\n"
   ]
  },
  {
   "cell_type": "code",
   "execution_count": null,
   "metadata": {},
   "outputs": [],
   "source": []
  }
 ],
 "metadata": {
  "kernelspec": {
   "display_name": "Python 3",
   "language": "python",
   "name": "python3"
  },
  "language_info": {
   "codemirror_mode": {
    "name": "ipython",
    "version": 3
   },
   "file_extension": ".py",
   "mimetype": "text/x-python",
   "name": "python",
   "nbconvert_exporter": "python",
   "pygments_lexer": "ipython3",
   "version": "3.7.3"
  }
 },
 "nbformat": 4,
 "nbformat_minor": 2
}
