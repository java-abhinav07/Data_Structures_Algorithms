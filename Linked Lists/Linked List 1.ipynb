{
 "cells": [
  {
   "cell_type": "markdown",
   "metadata": {},
   "source": [
    "Linked list is essentially a collection of nodes. Nodes store 2 details namely: 1. Data and 2. Reference/address of the next node"
   ]
  },
  {
   "cell_type": "code",
   "execution_count": 1,
   "metadata": {},
   "outputs": [],
   "source": [
    "class Node:\n",
    "    \n",
    "    def __init__(self, data):\n",
    "        self.data = data\n",
    "        self.next = None\n",
    "        "
   ]
  },
  {
   "cell_type": "code",
   "execution_count": 2,
   "metadata": {},
   "outputs": [],
   "source": [
    "a = Node(13)\n",
    "b = Node(15)"
   ]
  },
  {
   "cell_type": "code",
   "execution_count": 7,
   "metadata": {},
   "outputs": [
    {
     "name": "stdout",
     "output_type": "stream",
     "text": [
      "13\n",
      "15\n",
      "15\n",
      "None\n",
      "<__main__.Node object at 0x000001AA09332080>\n",
      "<__main__.Node object at 0x000001AA09332080>\n"
     ]
    }
   ],
   "source": [
    "a.next = b\n",
    "print(a.data)\n",
    "print(b.data)\n",
    "print(a.next.data)\n",
    "print(b.next)\n",
    "print(a.next)\n",
    "print(b)"
   ]
  },
  {
   "cell_type": "code",
   "execution_count": 8,
   "metadata": {},
   "outputs": [
    {
     "name": "stdout",
     "output_type": "stream",
     "text": [
      "20 10 "
     ]
    }
   ],
   "source": [
    "class Node:\n",
    "    def __init__(self, data):\n",
    "        self.data = data\n",
    "        self.next = None\n",
    "def printLL(head):\n",
    "    while head is not None:\n",
    "        print(head.data,end=' ')\n",
    "        head = head.next\n",
    "\n",
    "\n",
    "\n",
    "node1 = Node(10)\n",
    "node2 = Node(20)\n",
    "node2.next = node1\n",
    "printLL(node2)"
   ]
  },
  {
   "cell_type": "markdown",
   "metadata": {},
   "source": [
    "# Taking Linked List Input"
   ]
  },
  {
   "cell_type": "code",
   "execution_count": 3,
   "metadata": {},
   "outputs": [],
   "source": [
    "class Node:\n",
    "    def __init__(self, data):\n",
    "        self.data = data\n",
    "        self.next = None\n",
    "    "
   ]
  },
  {
   "cell_type": "code",
   "execution_count": 9,
   "metadata": {},
   "outputs": [],
   "source": [
    "# poor time complexity\n",
    "# O(n^2)\n",
    "def takeInput():\n",
    "    inputlist = list(int(elem) for elem in input().split())\n",
    "    head = None\n",
    "    for currData in inputlist:\n",
    "        if currData == -1:\n",
    "            break\n",
    "        newNode = Node(currData)\n",
    "        cursor = newNode\n",
    "\n",
    "        if head is None:\n",
    "            head = newNode\n",
    "        else:\n",
    "            cursor = head\n",
    "            while cursor.next is not None:\n",
    "                cursor = cursor.next\n",
    "            cursor.next = newNode\n",
    "            \n",
    "    return head"
   ]
  },
  {
   "cell_type": "code",
   "execution_count": 10,
   "metadata": {},
   "outputs": [
    {
     "name": "stdout",
     "output_type": "stream",
     "text": [
      "1 2 3 4 5\n"
     ]
    },
    {
     "data": {
      "text/plain": [
       "<__main__.Node at 0x1befc284400>"
      ]
     },
     "execution_count": 10,
     "metadata": {},
     "output_type": "execute_result"
    }
   ],
   "source": [
    "takeInput() "
   ]
  },
  {
   "cell_type": "markdown",
   "metadata": {},
   "source": [
    "# Printing Linked Lists"
   ]
  },
  {
   "cell_type": "code",
   "execution_count": 11,
   "metadata": {},
   "outputs": [],
   "source": [
    "def printll(head):\n",
    "    while head is not None:\n",
    "        print(str(head.data), '->', end=\"\")\n",
    "        head = head.next\n",
    "    print(None)"
   ]
  },
  {
   "cell_type": "code",
   "execution_count": 12,
   "metadata": {},
   "outputs": [
    {
     "name": "stdout",
     "output_type": "stream",
     "text": [
      "1 2 3 4 5\n"
     ]
    }
   ],
   "source": [
    "head = takeInput()"
   ]
  },
  {
   "cell_type": "code",
   "execution_count": 13,
   "metadata": {},
   "outputs": [
    {
     "name": "stdout",
     "output_type": "stream",
     "text": [
      "1 ->2 ->3 ->4 ->5 ->None\n"
     ]
    }
   ],
   "source": [
    "printll(head)"
   ]
  },
  {
   "cell_type": "code",
   "execution_count": 22,
   "metadata": {},
   "outputs": [],
   "source": [
    "\n",
    "def takeInput():\n",
    "    inputlist = list(int(elem) for elem in input().split())\n",
    "    head = tail = None\n",
    "    for currData in inputlist:\n",
    "        if currData == -1:\n",
    "            break\n",
    "        newNode = Node(currData)\n",
    "\n",
    "        if head is None:\n",
    "            head = newNode\n",
    "            tail = newNode\n",
    "        else:\n",
    "            tail.next = newNode\n",
    "            tail = tail.next\n",
    "            \n",
    "    return head"
   ]
  },
  {
   "cell_type": "code",
   "execution_count": 23,
   "metadata": {},
   "outputs": [
    {
     "name": "stdout",
     "output_type": "stream",
     "text": [
      "1 23 4 34 2 23 2321\n"
     ]
    }
   ],
   "source": [
    "ll = takeInput()"
   ]
  },
  {
   "cell_type": "code",
   "execution_count": 24,
   "metadata": {},
   "outputs": [
    {
     "name": "stdout",
     "output_type": "stream",
     "text": [
      "1 ->23 ->4 ->34 ->2 ->23 ->2321 ->None\n"
     ]
    }
   ],
   "source": [
    "printll(ll)"
   ]
  },
  {
   "cell_type": "code",
   "execution_count": 25,
   "metadata": {},
   "outputs": [
    {
     "name": "stdout",
     "output_type": "stream",
     "text": [
      "11 21 "
     ]
    }
   ],
   "source": [
    "class Node:\n",
    "    def __init__(self, data):\n",
    "        self.data = data\n",
    "        self.next = None\n",
    "\n",
    "def printLL(head):\n",
    "    while head is not None:\n",
    "        print(head.data,end=\" \")\n",
    "        head = head.next\n",
    "\n",
    "def increment(head):\n",
    "     temp = head\n",
    "     while temp is not None:\n",
    "        temp.data +=1\n",
    "        temp = temp.next\n",
    "\n",
    "\n",
    "\n",
    "node1 = Node(10)\n",
    "node2 = Node(20)\n",
    "node1.next = node2\n",
    "increment(node1)\n",
    "printLL(node1)"
   ]
  },
  {
   "cell_type": "code",
   "execution_count": 34,
   "metadata": {},
   "outputs": [
    {
     "name": "stdout",
     "output_type": "stream",
     "text": [
      "3 4 5 2 6 1 9 -1\n",
      "7\n"
     ]
    }
   ],
   "source": [
    "class Node:\n",
    "    def __init__(self, data):\n",
    "        self.data = data\n",
    "        self.next = None\n",
    "\n",
    "def length(head):\n",
    "    count = 1\n",
    "    while head.next != None:\n",
    "        count += 1\n",
    "        head = head.next\n",
    "    return count\n",
    "\n",
    "def ll(arr):\n",
    "    head = Node(arr[0])\n",
    "    last = head\n",
    "    for data in arr[1:]:\n",
    "        last.next = Node(data)\n",
    "        last = last.next\n",
    "    return head\n",
    "\n",
    "# Main\n",
    "# Read the link list elements including -1\n",
    "arr=list(int(i) for i in input().strip().split(' '))\n",
    "# Create a Linked list after removing -1 from list\n",
    "l = ll(arr[:-1])\n",
    "ln=length(l)\n",
    "print(ln)\n"
   ]
  },
  {
   "cell_type": "code",
   "execution_count": 36,
   "metadata": {},
   "outputs": [
    {
     "name": "stdout",
     "output_type": "stream",
     "text": [
      "1 23 234 23423234234 34432212111 112234\n",
      "4\n",
      "34432212111\n"
     ]
    }
   ],
   "source": [
    "# print ith node\n",
    "class Node:\n",
    "    def __init__(self, data):\n",
    "        self.data = data\n",
    "        self.next = None\n",
    "\n",
    "def ithNode(head, i):\n",
    "    j = 0\n",
    "    while j != i:\n",
    "        head = head.next\n",
    "        j += 1\n",
    "    return head\n",
    "\n",
    "def ll(arr):\n",
    "    head = Node(arr[0])\n",
    "    last = head\n",
    "    for data in arr[1:]:\n",
    "        last.next = Node(data)\n",
    "        last = last.next\n",
    "    return head\n",
    "\n",
    "# Main\n",
    "# Read the link list elements including -1\n",
    "arr=list(int(i) for i in input().strip().split(' '))\n",
    "# Create a Linked list after removing -1 from list\n",
    "l = ll(arr[:-1])\n",
    "i=int(input())\n",
    "node = ithNode(l, i)\n",
    "if node:\n",
    "    print(node.data)\n",
    "\n",
    "\n"
   ]
  },
  {
   "cell_type": "markdown",
   "metadata": {},
   "source": [
    "# insert at ith position iteratively"
   ]
  },
  {
   "cell_type": "code",
   "execution_count": 292,
   "metadata": {},
   "outputs": [],
   "source": [
    "# insert at ith position iteratively\n",
    "\n",
    "class Node:\n",
    "    def __init__(self, data):\n",
    "        self.data = data\n",
    "        self.next = None\n",
    "        \n",
    "def ithNode(head, i):\n",
    "    j = 0\n",
    "    while j != i:\n",
    "        head = head.next\n",
    "        j += 1\n",
    "    return head\n",
    "\n",
    "def length(head):\n",
    "    count = 1\n",
    "    while head.next != None:\n",
    "        count += 1\n",
    "        head = head.next\n",
    "    return count\n",
    "\n",
    "\n",
    "def createll(arr):\n",
    "    head = Node(arr[0])\n",
    "    last = head\n",
    "    for data in arr[1:]:\n",
    "        last.next = Node(data)\n",
    "        last = last.next\n",
    "    return head\n",
    "\n",
    "def printll(head):\n",
    "    while head is not None:\n",
    "        print(str(head.data), '->', end=\"\")\n",
    "        head = head.next\n",
    "    print(None)\n",
    "\n",
    "def insert(head, i, x):\n",
    "    \n",
    "    if i < 0 or i > length(head):\n",
    "        return head\n",
    "    cursor = head\n",
    "    \n",
    "    if i > 0:\n",
    "        for j in range(i-1):\n",
    "            cursor = head.next\n",
    "            head = cursor\n",
    "    \n",
    "        newNode = Node(x)\n",
    "        newNode.next = cursor.next\n",
    "        head.next = newNode\n",
    "        \n",
    "    else:\n",
    "        newNode = Node(x)\n",
    "        head = newNode\n",
    "        newNode.next = cursor\n",
    "        \n",
    "    return head\n"
   ]
  },
  {
   "cell_type": "code",
   "execution_count": 293,
   "metadata": {},
   "outputs": [],
   "source": [
    "ll1 = createll([1,2,3,4,5])"
   ]
  },
  {
   "cell_type": "code",
   "execution_count": 294,
   "metadata": {},
   "outputs": [
    {
     "name": "stdout",
     "output_type": "stream",
     "text": [
      "1 ->2 ->3 ->4 ->5 ->None\n"
     ]
    }
   ],
   "source": [
    "printll(ll1)"
   ]
  },
  {
   "cell_type": "code",
   "execution_count": 295,
   "metadata": {},
   "outputs": [
    {
     "data": {
      "text/plain": [
       "<__main__.Node at 0x1befd26e2b0>"
      ]
     },
     "execution_count": 295,
     "metadata": {},
     "output_type": "execute_result"
    }
   ],
   "source": [
    "insert(ll1, 1, 7)"
   ]
  },
  {
   "cell_type": "code",
   "execution_count": 296,
   "metadata": {},
   "outputs": [
    {
     "name": "stdout",
     "output_type": "stream",
     "text": [
      "1 ->7 ->2 ->3 ->4 ->5 ->None\n"
     ]
    }
   ],
   "source": [
    "printll(ll1)"
   ]
  },
  {
   "cell_type": "code",
   "execution_count": 297,
   "metadata": {},
   "outputs": [],
   "source": [
    "ll1 = (insert(ll1, 0, 0))"
   ]
  },
  {
   "cell_type": "code",
   "execution_count": 298,
   "metadata": {},
   "outputs": [
    {
     "name": "stdout",
     "output_type": "stream",
     "text": [
      "0 ->1 ->7 ->2 ->3 ->4 ->5 ->None\n"
     ]
    }
   ],
   "source": [
    "printll(ll1)"
   ]
  },
  {
   "cell_type": "markdown",
   "metadata": {},
   "source": [
    "# Delete Node"
   ]
  },
  {
   "cell_type": "code",
   "execution_count": 342,
   "metadata": {},
   "outputs": [],
   "source": [
    "def delete(head, i):\n",
    "    # A linked list and a position i, delete the node of ith position from\n",
    "    # Linked List iteratively. If position i is greater than length of LL, then\n",
    "    # you should return the same LL without any change. Indexing starts from 0.\n",
    "    # You don't need to print the elements, just delete the node and return the\n",
    "    # head of updated LL.\n",
    "    if i >=length(head) or i < 0:\n",
    "        return head\n",
    "    \n",
    "    cursor = head\n",
    "    prev = None\n",
    "    count = 0\n",
    "    while count < i:\n",
    "        prev = cursor\n",
    "        cursor = cursor.next\n",
    "        count += 1\n",
    "        \n",
    "    if prev != None:\n",
    "        prev.next = cursor.next\n",
    "    else:\n",
    "        head = head.next\n",
    "    return head   \n",
    "    "
   ]
  },
  {
   "cell_type": "code",
   "execution_count": 343,
   "metadata": {},
   "outputs": [],
   "source": [
    "ll1 = createll([1,2,2,3,4,4,3,5,6])"
   ]
  },
  {
   "cell_type": "code",
   "execution_count": 344,
   "metadata": {},
   "outputs": [],
   "source": [
    "ll1 = delete(ll1, 8)"
   ]
  },
  {
   "cell_type": "code",
   "execution_count": 345,
   "metadata": {},
   "outputs": [
    {
     "name": "stdout",
     "output_type": "stream",
     "text": [
      "1 ->2 ->2 ->3 ->4 ->4 ->3 ->5 ->None\n"
     ]
    }
   ],
   "source": [
    "printll(ll1)"
   ]
  },
  {
   "cell_type": "code",
   "execution_count": 346,
   "metadata": {},
   "outputs": [],
   "source": [
    "ll1 = delete(ll1, 6)"
   ]
  },
  {
   "cell_type": "code",
   "execution_count": 347,
   "metadata": {},
   "outputs": [
    {
     "name": "stdout",
     "output_type": "stream",
     "text": [
      "1 ->2 ->2 ->3 ->4 ->4 ->5 ->None\n"
     ]
    }
   ],
   "source": [
    "printll(ll1)"
   ]
  },
  {
   "cell_type": "code",
   "execution_count": 348,
   "metadata": {},
   "outputs": [],
   "source": [
    "ll2 = createll([1,2])"
   ]
  },
  {
   "cell_type": "code",
   "execution_count": 349,
   "metadata": {},
   "outputs": [],
   "source": [
    "ll2 = delete(ll2, 0)"
   ]
  },
  {
   "cell_type": "code",
   "execution_count": 350,
   "metadata": {},
   "outputs": [
    {
     "name": "stdout",
     "output_type": "stream",
     "text": [
      "2 ->None\n"
     ]
    }
   ],
   "source": [
    "printll(ll2)"
   ]
  },
  {
   "cell_type": "code",
   "execution_count": 364,
   "metadata": {},
   "outputs": [
    {
     "name": "stdout",
     "output_type": "stream",
     "text": [
      "1 2 3 4 45 5 -1\n",
      "7\n"
     ]
    }
   ],
   "source": [
    "class Node:\n",
    "    def __init__(self, data):\n",
    "        self.data = data\n",
    "        self.next = None\n",
    "\n",
    "def lengthRecursive(head):\n",
    "    # A linked list, find and return the length of input LL recursively.\n",
    "    if head.next == None:\n",
    "        return 1\n",
    "    return lengthRecursive(head.next) + 1\n",
    "\n",
    "def ll(arr):\n",
    "    head = Node(arr[0])\n",
    "    last = head\n",
    "    for data in arr[1:]:\n",
    "        last.next = Node(data)\n",
    "        last = last.next\n",
    "    return head\n",
    "\n",
    "# Main\n",
    "from sys import setrecursionlimit\n",
    "setrecursionlimit(11000)\n",
    "# Read the link list elements including -1\n",
    "arr=list(int(i) for i in input().strip().split(' '))\n",
    "# Create a Linked list after removing -1 from list\n",
    "l = ll(arr[:-1])\n",
    "len=lengthRecursive(l)\n",
    "print(len)\n"
   ]
  },
  {
   "cell_type": "code",
   "execution_count": 24,
   "metadata": {},
   "outputs": [],
   "source": [
    "# recursive insertion of node at ith position\n",
    "class Node:\n",
    "    def __init__(self, data):\n",
    "        self.data = data\n",
    "        self.next = None\n",
    "\n",
    "def createll(l):\n",
    "    head = Node(l[0])\n",
    "    cursor = head\n",
    "    for data in l[1:]:\n",
    "        cursor.next = Node(data)\n",
    "        cursor = cursor.next\n",
    "    return head\n",
    "\n",
    "def insertnode(head, i, data):\n",
    "    if i < 0:\n",
    "        return head\n",
    "    if i == 0:\n",
    "        newhead = Node(data)\n",
    "        newhead.next = head\n",
    "        return newhead\n",
    "    if head is None:\n",
    "        return None\n",
    "    else:\n",
    "        head.next = insertnode(head.next, i-1, data)   \n",
    "        return head\n",
    "\n",
    "def printll(head):\n",
    "    while head is not None:\n",
    "        print(str(head.data), '->', end=\"\")\n",
    "        head = head.next\n",
    "    print(None)\n",
    "    \n",
    "        "
   ]
  },
  {
   "cell_type": "code",
   "execution_count": 25,
   "metadata": {},
   "outputs": [],
   "source": [
    "ll1 = createll([1,2,3,4,5,6,8])"
   ]
  },
  {
   "cell_type": "code",
   "execution_count": 26,
   "metadata": {},
   "outputs": [
    {
     "name": "stdout",
     "output_type": "stream",
     "text": [
      "1 ->2 ->3 ->4 ->5 ->6 ->8 ->None\n"
     ]
    }
   ],
   "source": [
    "printll(ll1)"
   ]
  },
  {
   "cell_type": "code",
   "execution_count": 29,
   "metadata": {},
   "outputs": [],
   "source": [
    "ll1 = insertnode(ll1, 0, 0)"
   ]
  },
  {
   "cell_type": "code",
   "execution_count": 30,
   "metadata": {},
   "outputs": [
    {
     "name": "stdout",
     "output_type": "stream",
     "text": [
      "0 ->1 ->2 ->3 ->4 ->5 ->6 ->7 ->8 ->None\n"
     ]
    }
   ],
   "source": [
    "printll(ll1)"
   ]
  },
  {
   "cell_type": "code",
   "execution_count": 45,
   "metadata": {},
   "outputs": [
    {
     "name": "stdout",
     "output_type": "stream",
     "text": [
      "1 2 4 55 3 2 12 34 -1\n",
      "3\n",
      "1 2 4 3 2 12 34 \n"
     ]
    }
   ],
   "source": [
    "class Node:\n",
    "    def __init__(self, data):\n",
    "        self.data = data\n",
    "        self.next = None\n",
    "\n",
    "def deleteRec(head, i):\n",
    "    #  a linked list and a position i, delete the node of ith position from\n",
    "    # Linked List recursively. If position i is greater than length of LL,\n",
    "    # then:\n",
    "    # you should return the same LL without any change.\n",
    "    if i == 0:\n",
    "        head = head.next\n",
    "        return head\n",
    "    if head is None:\n",
    "        return None\n",
    "    elif i > 0:\n",
    "        if head.next is not None:\n",
    "            head.next = deleteRec(head.next, i-1)\n",
    "        return head\n",
    "    return head\n",
    "\n",
    "\n",
    "def ll(arr):\n",
    "    head = Node(arr[0])\n",
    "    last = head\n",
    "    for data in arr[1:]:\n",
    "        last.next = Node(data)\n",
    "        last = last.next\n",
    "    return head\n",
    "\n",
    "def printll(head):\n",
    "    while head:\n",
    "        print(head.data, end=' ')\n",
    "        head = head.next\n",
    "    print()\n",
    "\n",
    "# Main\n",
    "from sys import setrecursionlimit\n",
    "setrecursionlimit(11000)\n",
    "# Read the link list elements including -1\n",
    "arr=list(int(i) for i in input().strip().split(' '))\n",
    "# Create a Linked list after removing -1 from list\n",
    "l = ll(arr[:-1])\n",
    "i=int(input())\n",
    "l = deleteRec(l, i)\n",
    "printll(l)\n"
   ]
  },
  {
   "cell_type": "code",
   "execution_count": null,
   "metadata": {},
   "outputs": [],
   "source": []
  },
  {
   "cell_type": "code",
   "execution_count": null,
   "metadata": {},
   "outputs": [],
   "source": []
  },
  {
   "cell_type": "code",
   "execution_count": 57,
   "metadata": {},
   "outputs": [],
   "source": []
  },
  {
   "cell_type": "code",
   "execution_count": null,
   "metadata": {},
   "outputs": [],
   "source": []
  },
  {
   "cell_type": "code",
   "execution_count": 61,
   "metadata": {},
   "outputs": [],
   "source": []
  },
  {
   "cell_type": "code",
   "execution_count": null,
   "metadata": {},
   "outputs": [],
   "source": []
  },
  {
   "cell_type": "code",
   "execution_count": null,
   "metadata": {},
   "outputs": [],
   "source": []
  }
 ],
 "metadata": {
  "kernelspec": {
   "display_name": "Python 3",
   "language": "python",
   "name": "python3"
  },
  "language_info": {
   "codemirror_mode": {
    "name": "ipython",
    "version": 3
   },
   "file_extension": ".py",
   "mimetype": "text/x-python",
   "name": "python",
   "nbconvert_exporter": "python",
   "pygments_lexer": "ipython3",
   "version": "3.7.3"
  }
 },
 "nbformat": 4,
 "nbformat_minor": 2
}
