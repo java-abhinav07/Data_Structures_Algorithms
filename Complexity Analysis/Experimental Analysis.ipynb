{
 "cells": [
  {
   "cell_type": "code",
   "execution_count": 22,
   "metadata": {},
   "outputs": [],
   "source": [
    "def merge(a1, a2, a):\n",
    "    i = j = k = 0\n",
    "    while i < len(a1) and j < len(a2):\n",
    "        if a1[i] < a2[j]:\n",
    "            a[k] = a1[i]\n",
    "            k += 1\n",
    "            i += 1\n",
    "        else:\n",
    "            a[k] = a2[j]\n",
    "            k += 1\n",
    "            j += 1\n",
    "    while i < len(a1):\n",
    "        a[k] = a1[i]\n",
    "        k += 1\n",
    "        i += 1\n",
    "    while j < len(a2):\n",
    "        a[k] = a2[j]\n",
    "        k += 1\n",
    "        j += 1\n",
    "def merge_sort(a):\n",
    "    if len(a) == 0 or len(a) == 1:\n",
    "        return \n",
    "    mid = len(a) // 2\n",
    "    a1 = a[:mid]\n",
    "    a2 = a[mid:]\n",
    "    merge_sort(a1)\n",
    "    merge_sort(a2)\n",
    "    \n",
    "    merge(a1, a2, a)"
   ]
  },
  {
   "cell_type": "code",
   "execution_count": 35,
   "metadata": {},
   "outputs": [],
   "source": [
    "def selection_sort(a):\n",
    "    for i in range(len(a)):\n",
    "        min_idx = i\n",
    "        for j in range(i+1, len(a)):\n",
    "            if a[min_idx]>a[j]:\n",
    "                min_idx = j\n",
    "        a[i], a[min_idx] = a[min_idx], a[i]\n",
    "            "
   ]
  },
  {
   "cell_type": "code",
   "execution_count": 36,
   "metadata": {},
   "outputs": [],
   "source": [
    "def create_rev_array(n):\n",
    "    a = []\n",
    "    for i in range(n, 0, -1):\n",
    "        a.append(i)\n",
    "    return a"
   ]
  },
  {
   "cell_type": "code",
   "execution_count": 37,
   "metadata": {},
   "outputs": [
    {
     "data": {
      "text/plain": [
       "[10, 9, 8, 7, 6, 5, 4, 3, 2, 1]"
      ]
     },
     "execution_count": 37,
     "metadata": {},
     "output_type": "execute_result"
    }
   ],
   "source": [
    "n = 10\n",
    "a = create_rev_array(10)\n",
    "a"
   ]
  },
  {
   "cell_type": "code",
   "execution_count": 38,
   "metadata": {},
   "outputs": [
    {
     "data": {
      "text/plain": [
       "[1, 2, 3, 4, 5, 6, 7, 8, 9, 10]"
      ]
     },
     "execution_count": 38,
     "metadata": {},
     "output_type": "execute_result"
    }
   ],
   "source": [
    "merge_sort(a)\n",
    "a"
   ]
  },
  {
   "cell_type": "code",
   "execution_count": 39,
   "metadata": {},
   "outputs": [],
   "source": [
    "import time"
   ]
  },
  {
   "cell_type": "code",
   "execution_count": 40,
   "metadata": {},
   "outputs": [
    {
     "data": {
      "text/plain": [
       "1563742608.3038573"
      ]
     },
     "execution_count": 40,
     "metadata": {},
     "output_type": "execute_result"
    }
   ],
   "source": [
    "time.time()"
   ]
  },
  {
   "cell_type": "code",
   "execution_count": 41,
   "metadata": {},
   "outputs": [
    {
     "name": "stdout",
     "output_type": "stream",
     "text": [
      "10 0.0009965896606445312\n",
      "100 0.0\n",
      "1000 0.002992391586303711\n",
      "10000 0.04790616035461426\n",
      "100000 0.5147080421447754\n"
     ]
    }
   ],
   "source": [
    "# time depends on computer environment as well\n",
    "for n in range(1, 6):\n",
    "    a = create_rev_array(10**n)\n",
    "    start = time.time()\n",
    "    merge_sort(a)\n",
    "    end = time.time()\n",
    "    print(10**n, end-start)"
   ]
  },
  {
   "cell_type": "code",
   "execution_count": 42,
   "metadata": {},
   "outputs": [
    {
     "name": "stdout",
     "output_type": "stream",
     "text": [
      "10 0.000995635986328125\n",
      "100 0.0\n",
      "1000 0.0339353084564209\n",
      "10000 3.0298967361450195\n",
      "100000 324.8158459663391\n"
     ]
    }
   ],
   "source": [
    "# time depends on computer environment as well\n",
    "for n in range(1, 6):\n",
    "    a = create_rev_array(10**n)\n",
    "    start = time.time()\n",
    "    selection_sort(a)\n",
    "    end = time.time()\n",
    "    print(10**n, end-start)"
   ]
  },
  {
   "cell_type": "code",
   "execution_count": 43,
   "metadata": {},
   "outputs": [],
   "source": [
    "import matplotlib.pyplot as plt"
   ]
  },
  {
   "cell_type": "code",
   "execution_count": 44,
   "metadata": {},
   "outputs": [],
   "source": [
    "# to graph time vs n\n"
   ]
  },
  {
   "cell_type": "code",
   "execution_count": null,
   "metadata": {},
   "outputs": [],
   "source": []
  }
 ],
 "metadata": {
  "kernelspec": {
   "display_name": "Python 3",
   "language": "python",
   "name": "python3"
  },
  "language_info": {
   "codemirror_mode": {
    "name": "ipython",
    "version": 3
   },
   "file_extension": ".py",
   "mimetype": "text/x-python",
   "name": "python",
   "nbconvert_exporter": "python",
   "pygments_lexer": "ipython3",
   "version": "3.7.3"
  }
 },
 "nbformat": 4,
 "nbformat_minor": 2
}
