{
 "cells": [
  {
   "cell_type": "code",
   "execution_count": 1,
   "metadata": {},
   "outputs": [],
   "source": [
    "import time\n",
    "\n",
    "def sumofN2(n):\n",
    "    start = time.time()\n",
    "    \n",
    "    theSum = 0\n",
    "    for i in range(1, n+1):\n",
    "        theSum += i\n",
    "    end = time.time()\n",
    "    return theSum, end-start"
   ]
  },
  {
   "cell_type": "code",
   "execution_count": 3,
   "metadata": {},
   "outputs": [
    {
     "data": {
      "text/plain": [
       "(5000000050000000, 4.88463568687439)"
      ]
     },
     "execution_count": 3,
     "metadata": {},
     "output_type": "execute_result"
    }
   ],
   "source": [
    "sumofN2(100000000)"
   ]
  },
  {
   "cell_type": "code",
   "execution_count": 4,
   "metadata": {},
   "outputs": [
    {
     "name": "stdout",
     "output_type": "stream",
     "text": [
      "55.0\n"
     ]
    }
   ],
   "source": [
    "def sumOfN3(n):\n",
    "    return (n*(n+1))/2\n",
    "\n",
    "\n",
    "print(sumOfN3(10))\n"
   ]
  },
  {
   "cell_type": "code",
   "execution_count": 6,
   "metadata": {},
   "outputs": [],
   "source": [
    "def f(n):\n",
    "    a = 5\n",
    "    b = 6\n",
    "    c = 10\n",
    "    for i in range(n):\n",
    "        for j in range(n):\n",
    "            x = i * i\n",
    "            y = j * j\n",
    "            z = i * j\n",
    "    for k in range(n):\n",
    "        w - a * k + 45\n",
    "        v = b*b\n",
    "    d = 33"
   ]
  },
  {
   "cell_type": "markdown",
   "metadata": {},
   "source": [
    "The number of assignment operations is the sum of four terms. The first term is the constant 3, representing the three assignment statements at the start of the fragment. The second term is 3n2, since there are three statements that are performed n2 times due to the nested iteration. The third term is 2n, two statements iterated n times. Finally, the fourth term is the constant 1, representing the final assignment statement. This gives us T(n)=3+3n2+2n+1=3n2+2n+4. By looking at the exponents, we can easily see that the n2 term will be dominant and therefore this fragment of code is O(n2). Note that all of the other terms as well as the coefficient on the dominant term can be ignored as n grows large"
   ]
  },
  {
   "cell_type": "markdown",
   "metadata": {},
   "source": [
    "Question.\n",
    "\n",
    "\n",
    "Write two Python functions to find the minimum number in a list. The first function should compare each number to every other number on the list. O(n2). The second function should be linear O(n)."
   ]
  },
  {
   "cell_type": "code",
   "execution_count": 35,
   "metadata": {},
   "outputs": [],
   "source": [
    "def mini_1(l):\n",
    "    min = l[0]\n",
    "    for i in range(len(l)):\n",
    "        if min > l[i]:\n",
    "            min = l[i]\n",
    "    return min\n",
    "\n",
    "# O(n)  algorithm\n",
    "        "
   ]
  },
  {
   "cell_type": "code",
   "execution_count": 43,
   "metadata": {},
   "outputs": [],
   "source": [
    "import time\n",
    "from random import randrange\n",
    "\n",
    "def mini_2(l):\n",
    "    min = l[0]\n",
    "    for i in l:\n",
    "        issmallest = True\n",
    "        for j in l:\n",
    "            if i > j:\n",
    "                issmallest = False\n",
    "        if issmallest:\n",
    "            min = i\n",
    "    return min\n",
    "# O(n^2)"
   ]
  },
  {
   "cell_type": "code",
   "execution_count": 44,
   "metadata": {},
   "outputs": [
    {
     "data": {
      "text/plain": [
       "-90"
      ]
     },
     "execution_count": 44,
     "metadata": {},
     "output_type": "execute_result"
    }
   ],
   "source": [
    "mini_1([2,1,0.5,22,11,-1,111,2,2,21,-90])"
   ]
  },
  {
   "cell_type": "markdown",
   "metadata": {},
   "source": [
    "O(n*n)"
   ]
  },
  {
   "cell_type": "code",
   "execution_count": 45,
   "metadata": {},
   "outputs": [
    {
     "data": {
      "text/plain": [
       "0"
      ]
     },
     "execution_count": 45,
     "metadata": {},
     "output_type": "execute_result"
    }
   ],
   "source": [
    "mini_2([5,4,3,2,1,2,3,2,4,3,2,5,64,65,0])"
   ]
  },
  {
   "cell_type": "code",
   "execution_count": 46,
   "metadata": {},
   "outputs": [
    {
     "name": "stdout",
     "output_type": "stream",
     "text": [
      "51\n",
      "size : 1000 time: 0.030764\n",
      "76\n",
      "size : 2000 time: 0.112554\n",
      "23\n",
      "size : 3000 time: 0.252921\n",
      "27\n",
      "size : 4000 time: 0.448421\n",
      "4\n",
      "size : 5000 time: 0.700351\n",
      "31\n",
      "size : 6000 time: 1.004405\n",
      "11\n",
      "size : 7000 time: 1.368463\n",
      "15\n",
      "size : 8000 time: 1.792680\n",
      "18\n",
      "size : 9000 time: 2.372831\n",
      "8\n",
      "size : 10000 time: 3.091104\n"
     ]
    }
   ],
   "source": [
    "# testing\n",
    "\n",
    "for listSize in range(1000, 10001, 1000):\n",
    "    qlist = [randrange(100000) for x in range(listSize)]\n",
    "    start = time.time()\n",
    "    print(mini_2(qlist))\n",
    "    end = time.time()\n",
    "    print(\"size : %d time: %f\"%(listSize, end-start))"
   ]
  },
  {
   "cell_type": "code",
   "execution_count": 47,
   "metadata": {},
   "outputs": [
    {
     "name": "stdout",
     "output_type": "stream",
     "text": [
      "97\n",
      "size : 1000 time: 0.000000\n",
      "6\n",
      "size : 2000 time: 0.000000\n",
      "32\n",
      "size : 3000 time: 0.000000\n",
      "13\n",
      "size : 4000 time: 0.000000\n",
      "4\n",
      "size : 5000 time: 0.000496\n",
      "34\n",
      "size : 6000 time: 0.000000\n",
      "27\n",
      "size : 7000 time: 0.000495\n",
      "15\n",
      "size : 8000 time: 0.000496\n",
      "14\n",
      "size : 9000 time: 0.001487\n",
      "5\n",
      "size : 10000 time: 0.000499\n"
     ]
    }
   ],
   "source": [
    "# testing pt2\n",
    "\n",
    "for listSize in range(1000, 10001, 1000):\n",
    "    qlist = [randrange(100000) for x in range(listSize)]\n",
    "    start = time.time()\n",
    "    print(mini_1(qlist))\n",
    "    end = time.time()\n",
    "    print(\"size : %d time: %f\"%(listSize, end-start))"
   ]
  },
  {
   "cell_type": "code",
   "execution_count": null,
   "metadata": {},
   "outputs": [],
   "source": []
  }
 ],
 "metadata": {
  "kernelspec": {
   "display_name": "Python 3",
   "language": "python",
   "name": "python3"
  },
  "language_info": {
   "codemirror_mode": {
    "name": "ipython",
    "version": 3
   },
   "file_extension": ".py",
   "mimetype": "text/x-python",
   "name": "python",
   "nbconvert_exporter": "python",
   "pygments_lexer": "ipython3",
   "version": "3.7.3"
  }
 },
 "nbformat": 4,
 "nbformat_minor": 2
}
