{
 "cells": [
  {
   "cell_type": "markdown",
   "metadata": {},
   "source": [
    "Array Intersection Problem"
   ]
  },
  {
   "cell_type": "code",
   "execution_count": 2,
   "metadata": {},
   "outputs": [
    {
     "name": "stdout",
     "output_type": "stream",
     "text": [
      "4\n",
      "1 2 3 4\n",
      "3\n",
      "45 4 2\n",
      "2\n",
      "4\n"
     ]
    }
   ],
   "source": [
    "# much more efficient than O(n) / linear approach\n",
    "\n",
    "def intersection(arr1, arr2):\n",
    "    arr1.sort()\n",
    "    arr2.sort()\n",
    "    i = j = 0\n",
    "    while i < len(arr1) and j < len(arr2):\n",
    "        if arr1[i] == arr2[j]:\n",
    "            print(arr1[i])\n",
    "            j += 1\n",
    "            i += 1\n",
    "        elif arr1[i] > arr2[j]:\n",
    "            j += 1\n",
    "        else:\n",
    "            i += 1\n",
    "    return\n",
    "    \n",
    "\n",
    "# Main\n",
    "n1=int(input())\n",
    "arr1=list(int(i) for i in input().strip().split(' '))\n",
    "n2=int(input())\n",
    "arr2=list(int(i) for i in input().strip().split(' '))\n",
    "intersection(arr1, arr2) \n"
   ]
  },
  {
   "cell_type": "markdown",
   "metadata": {},
   "source": [
    "Equilibrium Index Problem"
   ]
  },
  {
   "cell_type": "code",
   "execution_count": 11,
   "metadata": {},
   "outputs": [],
   "source": [
    "def equi(l):\n",
    "    left = l[0]\n",
    "    right = sum(l[2:])\n",
    "    if left == right:\n",
    "        return 1\n",
    "    for i in range(2, len(l)-1):\n",
    "        left += l[i-1]\n",
    "        right -= l[i]\n",
    "        if left == right:\n",
    "            return i\n",
    "    return -1\n",
    "    "
   ]
  },
  {
   "cell_type": "code",
   "execution_count": 12,
   "metadata": {},
   "outputs": [
    {
     "data": {
      "text/plain": [
       "2"
      ]
     },
     "execution_count": 12,
     "metadata": {},
     "output_type": "execute_result"
    }
   ],
   "source": [
    "equi([3,4,1,5,2])"
   ]
  },
  {
   "cell_type": "code",
   "execution_count": 13,
   "metadata": {},
   "outputs": [
    {
     "name": "stdout",
     "output_type": "stream",
     "text": [
      "3\n",
      "1 2 1\n",
      "2\n"
     ]
    }
   ],
   "source": [
    "# O(s^2)\n",
    "def FindUnique(arr):\n",
    "    temp = []\n",
    "    i = 0\n",
    "    while i < (len(arr)):\n",
    "        if arr[i] in temp:\n",
    "            i += 1\n",
    "        if arr.count(arr[i]) > 1:\n",
    "            temp.append(arr[i])\n",
    "        else:\n",
    "            return arr[i]\n",
    "        i += 1\n",
    "\n",
    "# Main\n",
    "n=int(input())\n",
    "arr=list(int(i) for i in input().strip().split(' '))\n",
    "unique=FindUnique(arr)\n",
    "print(unique)"
   ]
  },
  {
   "cell_type": "code",
   "execution_count": 42,
   "metadata": {},
   "outputs": [],
   "source": [
    "# O(slog(s)) solution\n",
    "def FindUnique(arr):\n",
    "    arr.sort()\n",
    "    print(arr)\n",
    "    i = 0\n",
    "    while i < len(arr) - 1:\n",
    "        if arr[i] != arr[i+1]:\n",
    "            return arr[i]\n",
    "        i += 2\n",
    "    return arr[len(arr) - 1]"
   ]
  },
  {
   "cell_type": "code",
   "execution_count": 43,
   "metadata": {},
   "outputs": [
    {
     "name": "stdout",
     "output_type": "stream",
     "text": [
      "[1, 1, 2, 2, 2, 2, 6, 7, 7]\n"
     ]
    },
    {
     "data": {
      "text/plain": [
       "6"
      ]
     },
     "execution_count": 43,
     "metadata": {},
     "output_type": "execute_result"
    }
   ],
   "source": [
    "FindUnique([1, 2, 2, 1, 2, 7, 7, 2, 6])"
   ]
  },
  {
   "cell_type": "code",
   "execution_count": 44,
   "metadata": {},
   "outputs": [],
   "source": [
    "# O(s) approach\n",
    "def FindUnique(arr):\n",
    "    for i in range(len(arr) - 1):\n",
    "        arr[i+1] = arr[i]^arr[i+1]\n",
    "    return arr[len(arr) - 1]\n",
    "        "
   ]
  },
  {
   "cell_type": "code",
   "execution_count": 45,
   "metadata": {},
   "outputs": [
    {
     "data": {
      "text/plain": [
       "6"
      ]
     },
     "execution_count": 45,
     "metadata": {},
     "output_type": "execute_result"
    }
   ],
   "source": [
    "FindUnique([1, 2, 2, 1, 2, 7, 7, 2, 6])"
   ]
  },
  {
   "cell_type": "markdown",
   "metadata": {},
   "source": [
    "given an array of integers of size n which contains numbers from 0 to n - 2. Each number is present at least once. That is, if n = 5, numbers from 0 to 3 is present in the given array at least once and one number is present twice. You need to find and return that duplicate number present in the array.\n",
    "\n"
   ]
  },
  {
   "cell_type": "code",
   "execution_count": 1,
   "metadata": {},
   "outputs": [
    {
     "name": "stdout",
     "output_type": "stream",
     "text": [
      "7\n",
      "0 1 2 3 4 4\n",
      "4\n"
     ]
    }
   ],
   "source": [
    "# O(nlogn) approach\n",
    "def MissingNumber(arr):\n",
    "    arr.sort()\n",
    "    for i in range(len(arr) - 1):\n",
    "        if arr[i] == arr[i+1]:\n",
    "            return arr[i]        \n",
    "\n",
    "# Main\n",
    "n=int(input())\n",
    "arr=list(int(i) for i in input().strip().split(' '))\n",
    "ans=MissingNumber(arr)\n",
    "print(ans)\n"
   ]
  },
  {
   "cell_type": "code",
   "execution_count": 9,
   "metadata": {},
   "outputs": [
    {
     "name": "stdout",
     "output_type": "stream",
     "text": [
      "9\n",
      "0 7 2 5 4 7 1 3 6\n",
      "35\n",
      "7\n"
     ]
    }
   ],
   "source": [
    "# O(n) approach\n",
    "def MissingNumber(arr):\n",
    "\n",
    "    return (sum(arr) - ((n-2)*(n-1)//2))\n",
    "\n",
    "# Main\n",
    "n=int(input())\n",
    "arr=list(int(i) for i in input().strip().split(' '))\n",
    "ans=MissingNumber(arr)\n",
    "print(ans)\n"
   ]
  },
  {
   "cell_type": "code",
   "execution_count": 56,
   "metadata": {},
   "outputs": [],
   "source": [
    "#O(nlogn)\n",
    "def pairSum(arr, x):\n",
    "    arr.sort()\n",
    "    i = 0\n",
    "    j = len(arr) - 1\n",
    "    while j >= i:\n",
    "        s = arr[i] + arr[j]\n",
    "        if s == x:\n",
    "            if arr[i] == arr[j]:\n",
    "                p = (arr.count(arr[i])-1)*(arr.count(arr[i]))//2\n",
    "            else:\n",
    "                p = (arr.count(arr[i]))*(arr.count(arr[j]))\n",
    "            for t in range(p):\n",
    "                print(arr[i], arr[j])\n",
    "            i += arr.count(arr[i])\n",
    "            j -= arr.count(arr[j])\n",
    "        elif s > x:\n",
    "            j -= 1\n",
    "        elif s < x:\n",
    "            i += 1\n",
    "        "
   ]
  },
  {
   "cell_type": "code",
   "execution_count": 57,
   "metadata": {},
   "outputs": [
    {
     "name": "stdout",
     "output_type": "stream",
     "text": [
      "1 6\n",
      "2 5\n",
      "2 5\n",
      "3 4\n",
      "3 4\n",
      "3 4\n",
      "3 4\n"
     ]
    }
   ],
   "source": [
    "pairSum([1, 3, 6, 2, 5, 4, 3, 2, 4],7)"
   ]
  },
  {
   "cell_type": "code",
   "execution_count": 25,
   "metadata": {},
   "outputs": [
    {
     "data": {
      "text/plain": [
       "2"
      ]
     },
     "execution_count": 25,
     "metadata": {},
     "output_type": "execute_result"
    }
   ],
   "source": [
    "[1,2,3,1].count(1)"
   ]
  },
  {
   "cell_type": "code",
   "execution_count": 58,
   "metadata": {},
   "outputs": [
    {
     "name": "stdout",
     "output_type": "stream",
     "text": [
      "6\n",
      "1 2 1 3 1 3\n",
      "7\n",
      "1 3 3\n",
      "1 3 3\n",
      "1 3 3\n"
     ]
    }
   ],
   "source": [
    "def pairSum(arr, x):\n",
    "    result = []\n",
    "    i = 0\n",
    "    j = len(arr) - 1\n",
    "    while j >= i:\n",
    "        s = arr[i] + arr[j]\n",
    "        if s == x:\n",
    "            if arr[i] == arr[j]:\n",
    "                p = (arr.count(arr[i])-1)*(arr.count(arr[i]))//2\n",
    "            else:\n",
    "                p = (arr.count(arr[i]))*(arr.count(arr[j]))\n",
    "            for t in range(p):\n",
    "                result.append((arr[i], arr[j]))\n",
    "            i += arr.count(arr[i])\n",
    "            j -= arr.count(arr[j])\n",
    "        elif s > x:\n",
    "            j -= 1\n",
    "        elif s < x:\n",
    "            i += 1\n",
    "    return result\n",
    "\n",
    "        \n",
    "        \n",
    "def tripletSum(l, x):\n",
    "    l.sort() \n",
    "    for i in range(len(l) - 1):\n",
    "        pair = pairSum(l[i+1:],x-l[i])\n",
    "        if pair:\n",
    "            for p in pair:\n",
    "                print(l[i], p[0], p[1])\n",
    "\n",
    "\n",
    "\n",
    "# Main\n",
    "n=int(input())\n",
    "arr=list(int(i) for i in input().strip().split(' '))\n",
    "sum=int(input())\n",
    "tripletSum(arr, sum)\n"
   ]
  },
  {
   "cell_type": "code",
   "execution_count": 74,
   "metadata": {},
   "outputs": [
    {
     "name": "stdout",
     "output_type": "stream",
     "text": [
      "5\n",
      "1 2 3 4 5\n",
      "2\n",
      "[1, 2, 3] [4, 5]\n",
      "4 5 1 2 3\n"
     ]
    }
   ],
   "source": [
    "def Rotate(l, d):\n",
    "    right = l[:d+1]\n",
    "    left = l[d+1:]\n",
    "    print(right, left)\n",
    "    i = 0\n",
    "    while i < len(l) - d - 1:\n",
    "        l[i] = left[i]\n",
    "        i+=1\n",
    "    i = 0\n",
    "    while i < d + 1:\n",
    "        l[i+len(l)-d-1] = right[i]\n",
    "        i+=1\n",
    "        \n",
    "# Main\n",
    "n=int(input())\n",
    "arr=list(int(i) for i in input().strip().split(' '))\n",
    "d=int(input())\n",
    "Rotate(arr, d)\n",
    "print(*arr)"
   ]
  },
  {
   "cell_type": "markdown",
   "metadata": {},
   "source": []
  },
  {
   "cell_type": "code",
   "execution_count": 81,
   "metadata": {},
   "outputs": [],
   "source": [
    "def Rotate(l, d):\n",
    "    l.reverse()\n",
    "    x = l[:d]\n",
    "    y = l[d:]\n",
    "    x.reverse()\n",
    "    y.reverse()\n",
    "    for i in range(len(l)):\n",
    "        if i < d:\n",
    "            l[i] = x[i]\n",
    "        else:\n",
    "            l[i] = y[i-d]"
   ]
  },
  {
   "cell_type": "code",
   "execution_count": 83,
   "metadata": {},
   "outputs": [],
   "source": [
    "l = [1,2,3,4,5]\n",
    "Rotate(l, 2)"
   ]
  },
  {
   "cell_type": "code",
   "execution_count": 84,
   "metadata": {},
   "outputs": [
    {
     "data": {
      "text/plain": [
       "[4, 5, 1, 2, 3]"
      ]
     },
     "execution_count": 84,
     "metadata": {},
     "output_type": "execute_result"
    }
   ],
   "source": [
    "l"
   ]
  },
  {
   "cell_type": "code",
   "execution_count": 2,
   "metadata": {},
   "outputs": [],
   "source": [
    "# Python3 program to find a triplet using Hashing \n",
    "# returns true if there is triplet with sum equal \n",
    "# to 'sum' present in A[]. Also, prints the triplet \n",
    "def find3Numbers(A, arr_size, sum): \n",
    "    for i in range(0, arr_size-1): \n",
    "        # Find pair in subarray A[i + 1..n-1]  \n",
    "        # with sum equal to sum - A[i] \n",
    "        s = set() \n",
    "        curr_sum = sum - A[i] \n",
    "        for j in range(i + 1, arr_size): \n",
    "            if (curr_sum - A[j]) in s: \n",
    "                print(\"Triplet is\", A[i],  \n",
    "                        \", \", A[j], \", \", curr_sum-A[j]) \n",
    "                return True\n",
    "            s.add(A[j]) \n",
    "      \n",
    "    return False"
   ]
  },
  {
   "cell_type": "code",
   "execution_count": null,
   "metadata": {},
   "outputs": [],
   "source": []
  }
 ],
 "metadata": {
  "kernelspec": {
   "display_name": "Python 3",
   "language": "python",
   "name": "python3"
  },
  "language_info": {
   "codemirror_mode": {
    "name": "ipython",
    "version": 3
   },
   "file_extension": ".py",
   "mimetype": "text/x-python",
   "name": "python",
   "nbconvert_exporter": "python",
   "pygments_lexer": "ipython3",
   "version": "3.7.3"
  }
 },
 "nbformat": 4,
 "nbformat_minor": 2
}
