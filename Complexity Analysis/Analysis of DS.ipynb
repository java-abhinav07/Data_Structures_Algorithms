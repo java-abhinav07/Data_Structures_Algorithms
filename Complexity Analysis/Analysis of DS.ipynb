{
 "cells": [
  {
   "cell_type": "code",
   "execution_count": 1,
   "metadata": {},
   "outputs": [],
   "source": [
    "def test1():\n",
    "    l = []\n",
    "    for i in range(1000):\n",
    "        l = l + [i]\n",
    "\n",
    "def test2():\n",
    "    l = []\n",
    "    for i in range(1000):\n",
    "        l.append(i)\n",
    "\n",
    "def test3():\n",
    "    l = [i for i in range(1000)]\n",
    "\n",
    "def test4():\n",
    "    l = list(range(1000))"
   ]
  },
  {
   "cell_type": "markdown",
   "metadata": {},
   "source": [
    "To capture the time it takes for each of our functions to execute we will use Python’s timeit module. The timeit module is designed to allow Python developers to make cross-platform timing measurements by running functions in a consistent environment and using timing mechanisms that are as similar as possible across operating systems.\n",
    "\n",
    "To use timeit you create a Timer object whose parameters are two Python statements. The first parameter is a Python statement that you want to time; the second parameter is a statement that will run once to set up the test. The timeit module will then time how long it takes to execute the statement some number of times. By default timeit will try to run the statement one million times. When its done it returns the time as a floating point value representing the total number of seconds. However, since it executes the statement a million times you can read the result as the number of microseconds to execute the test one time. You can also pass timeit a named parameter called number that allows you to specify how many times the test statement is executed. The following session shows how long it takes to run each of our test functions 1000 times.`"
   ]
  },
  {
   "cell_type": "code",
   "execution_count": 8,
   "metadata": {},
   "outputs": [
    {
     "name": "stdout",
     "output_type": "stream",
     "text": [
      "concat  1.5606526059999624 milliseconds\n",
      "append  0.07339456900001551 milliseconds\n",
      "comprehension  0.04062318299997969 milliseconds\n",
      "list range  0.01640730999997686 milliseconds\n"
     ]
    }
   ],
   "source": [
    "from timeit import Timer\n",
    "t1 = Timer(\"test1()\", \"from __main__ import test1\")\n",
    "print(\"concat \",t1.timeit(number=1000), \"milliseconds\")\n",
    "t2 = Timer(\"test2()\", \"from __main__ import test2\")\n",
    "print(\"append \",t2.timeit(number=1000), \"milliseconds\")\n",
    "t3 = Timer(\"test3()\", \"from __main__ import test3\")\n",
    "print(\"comprehension \",t3.timeit(number=1000), \"milliseconds\")\n",
    "t4 = Timer(\"test4()\", \"from __main__ import test4\")\n",
    "print(\"list range \",t4.timeit(number=1000), \"milliseconds\")"
   ]
  },
  {
   "cell_type": "markdown",
   "metadata": {},
   "source": [
    "Operation\tBig-O Efficiency\n",
    "\n",
    "index []\t       O(1)\n",
    "\n",
    "index assignment\tO(1)\n",
    "\n",
    "append\t            O(1)\n",
    "\n",
    "pop()\t            O(1)\n",
    "\n",
    "pop(i)\t            O(n)\n",
    "\n",
    "insert(i,item)\tO(n)\n",
    "\n",
    "del operator\tO(n)\n",
    "\n",
    "iteration\tO(n)\n",
    "\n",
    "contains (in)\tO(n)\n",
    "\n",
    "get slice [x:y]\tO(k)\n",
    "\n",
    "del slice\tO(n)\n",
    "\n",
    "set slice\tO(n+k)\n",
    "\n",
    "reverse\tO(n)\n",
    "\n",
    "concatenate\tO(k)\n",
    "\n",
    "sort\tO(n log n)\n",
    "\n",
    "multiply\tO(nk)\n",
    "\n",
    "As a way of demonstrating this difference in performance let’s do another experiment using the timeit module. Our goal is to be able to verify the performance of the pop operation on a list of a known size when the program pops from the end of the list, and again when the program pops from the beginning of the list. We will also want to measure this time for lists of different sizes. What we would expect to see is that the time required to pop from the end of the list will stay constant even as the list grows in size, while the time to pop from the beginning of the list will continue to increase as the list grows.\n",
    "\n",
    "Listing 4 shows one attempt to measure the difference between the two uses of pop. As you can see from this first example, popping from the end takes 0.0003 milliseconds, whereas popping from the beginning takes 4.82 milliseconds. For a list of two million elements this is a factor of 16,000.\n",
    "\n",
    "There are a couple of things to notice about Listing 4. The first is the statement from __main__ import x. Although we did not define a function we do want to be able to use the list object x in our test. This approach allows us to time just the single pop statement and get the most accurate measure of the time for that single operation. Because the timer repeats 1000 times it is also important to point out that the list is decreasing in size by 1 each time through the loop. But since the initial list is two million elements in size we only reduce the overall size by 0.05%\n"
   ]
  },
  {
   "cell_type": "code",
   "execution_count": 9,
   "metadata": {},
   "outputs": [
    {
     "data": {
      "text/plain": [
       "0.0003161430358886719"
      ]
     },
     "execution_count": 9,
     "metadata": {},
     "output_type": "execute_result"
    }
   ],
   "source": [
    "popzero = timeit.Timer(\"x.pop(0)\",\n",
    "                       \"from __main__ import x\")\n",
    "popend = timeit.Timer(\"x.pop()\",\n",
    "                      \"from __main__ import x\")\n",
    "\n",
    "x = list(range(2000000))\n",
    "popzero.timeit(number=1000)\n",
    "4.8213560581207275\n",
    "\n",
    "x = list(range(2000000))\n",
    "popend.timeit(number=1000)\n",
    "0.0003161430358886719"
   ]
  },
  {
   "cell_type": "code",
   "execution_count": null,
   "metadata": {},
   "outputs": [
    {
     "name": "stdout",
     "output_type": "stream",
     "text": [
      "pop(0)   pop()\n",
      "        0.56878,         0.00011\n",
      "        2.16872,         0.00007\n",
      "        3.59148,         0.00008\n",
      "        6.19605,         0.00007\n",
      "        5.17812,         0.00007\n",
      "        6.77456,         0.00009\n",
      "        8.28402,         0.00008\n",
      "       10.20833,         0.00008\n",
      "       10.52550,         0.00008\n",
      "       11.56166,         0.00007\n",
      "       12.03520,         0.00008\n",
      "       14.72317,         0.00026\n",
      "       15.04311,         0.00008\n",
      "       16.32631,         0.00008\n"
     ]
    }
   ],
   "source": [
    "popzero = Timer(\"x.pop(0)\",\n",
    "                \"from __main__ import x\")\n",
    "popend = Timer(\"x.pop()\",\n",
    "               \"from __main__ import x\")\n",
    "print(\"pop(0)   pop()\")\n",
    "for i in range(1000000,100000001,1000000):\n",
    "    x = list(range(i))\n",
    "    pt = popend.timeit(number=1000)\n",
    "    x = list(range(i))\n",
    "    pz = popzero.timeit(number=1000)\n",
    "    print(\"%15.5f, %15.5f\" %(pz,pt))"
   ]
  },
  {
   "cell_type": "code",
   "execution_count": 1,
   "metadata": {},
   "outputs": [
    {
     "name": "stdout",
     "output_type": "stream",
     "text": [
      "10000,     0.080,     0.001\n",
      "30000,     0.151,     0.001\n",
      "50000,     0.265,     0.001\n",
      "70000,     0.373,     0.001\n",
      "90000,     0.484,     0.001\n",
      "110000,     0.593,     0.001\n",
      "130000,     0.910,     0.001\n",
      "150000,     1.071,     0.001\n",
      "170000,     0.949,     0.001\n",
      "190000,     1.009,     0.001\n",
      "210000,     1.068,     0.001\n",
      "230000,     1.198,     0.001\n",
      "250000,     1.322,     0.001\n",
      "270000,     1.665,     0.001\n",
      "290000,     2.224,     0.001\n",
      "310000,     2.322,     0.001\n",
      "330000,     2.133,     0.001\n",
      "350000,     2.254,     0.002\n",
      "370000,     2.067,     0.001\n",
      "390000,     1.954,     0.001\n",
      "410000,     2.220,     0.001\n",
      "430000,     2.309,     0.001\n",
      "450000,     2.446,     0.001\n",
      "470000,     2.607,     0.001\n",
      "490000,     2.602,     0.001\n",
      "510000,     2.764,     0.001\n",
      "530000,     3.108,     0.001\n",
      "550000,     2.954,     0.001\n",
      "570000,     3.043,     0.001\n",
      "590000,     3.559,     0.003\n",
      "610000,     5.146,     0.002\n",
      "630000,     4.940,     0.002\n",
      "650000,     4.989,     0.001\n",
      "670000,     5.137,     0.001\n",
      "690000,     6.045,     0.001\n",
      "710000,     5.546,     0.001\n",
      "730000,     5.533,     0.001\n",
      "750000,     5.685,     0.001\n",
      "770000,     5.782,     0.002\n",
      "790000,     6.204,     0.002\n",
      "810000,     6.413,     0.001\n",
      "830000,     6.489,     0.002\n",
      "850000,     7.350,     0.002\n",
      "870000,     6.850,     0.002\n",
      "890000,     7.427,     0.002\n",
      "910000,     7.772,     0.001\n",
      "930000,     7.071,     0.002\n",
      "950000,     7.170,     0.002\n",
      "970000,     7.316,     0.002\n",
      "990000,     7.492,     0.001\n"
     ]
    }
   ],
   "source": [
    "import timeit\n",
    "import random\n",
    "\n",
    "for i in range(10000,1000001,20000):\n",
    "    t = timeit.Timer(\"random.randrange(%d) in x\"%i,\n",
    "                     \"from __main__ import random,x\")\n",
    "    x = list(range(i))\n",
    "    lst_time = t.timeit(number=1000)\n",
    "    x = {j:None for j in range(i)}\n",
    "    d_time = t.timeit(number=1000)\n",
    "    print(\"%d,%10.3f,%10.3f\" % (i, lst_time, d_time))\n"
   ]
  },
  {
   "cell_type": "code",
   "execution_count": 12,
   "metadata": {},
   "outputs": [],
   "source": [
    "# verify that list index operator is O(1)\n",
    "import timeit\n",
    "import random\n",
    "testList = list(range(10000))\n",
    "k = 10000\n",
    "def verifyListIndexOrderOne(testList, n):\n",
    "    # testList = list(range(n))\n",
    "    # n = len(testList)\n",
    "    for i in range(k):\n",
    "        index = random.randint(0, k-1)\n",
    "        testList[index]"
   ]
  },
  {
   "cell_type": "code",
   "execution_count": 15,
   "metadata": {},
   "outputs": [
    {
     "name": "stdout",
     "output_type": "stream",
     "text": [
      "TOTAL TIME for 10000 index access in 1000000 list ofnumbers :    0.014194334 seconds\n",
      "TOTAL TIME for 10000 index access in 2000000 list ofnumbers :    0.012683367 seconds\n",
      "TOTAL TIME for 10000 index access in 3000000 list ofnumbers :    0.012287990 seconds\n",
      "TOTAL TIME for 10000 index access in 4000000 list ofnumbers :    0.012617375 seconds\n",
      "TOTAL TIME for 10000 index access in 5000000 list ofnumbers :    0.012339759 seconds\n",
      "TOTAL TIME for 10000 index access in 6000000 list ofnumbers :    0.012403473 seconds\n",
      "TOTAL TIME for 10000 index access in 7000000 list ofnumbers :    0.012659474 seconds\n",
      "TOTAL TIME for 10000 index access in 8000000 list ofnumbers :    0.012466620 seconds\n",
      "TOTAL TIME for 10000 index access in 9000000 list ofnumbers :    0.012403474 seconds\n",
      "TOTAL TIME for 10000 index access in 10000000 list ofnumbers :    0.014630672 seconds\n"
     ]
    }
   ],
   "source": [
    "for n in range(1000000, 10000001, 1000000):\n",
    "        testList = list(range(n))\n",
    "        indexTime = timeit.Timer(\"verifyListIndexOrderOne(testList,\"+str(n)+\")\",\n",
    "                                 \"from __main__ import testList,\\\n",
    "                                 verifyListIndexOrderOne\")\n",
    "        it = indexTime.timeit(number=1)\n",
    "        print (\"TOTAL TIME for %d index access in %d list of\"\\\n",
    "               \"numbers :%15.9f seconds\" % (k, n, it))"
   ]
  },
  {
   "cell_type": "code",
   "execution_count": null,
   "metadata": {},
   "outputs": [],
   "source": []
  },
  {
   "cell_type": "code",
   "execution_count": null,
   "metadata": {},
   "outputs": [],
   "source": []
  }
 ],
 "metadata": {
  "kernelspec": {
   "display_name": "Python 3",
   "language": "python",
   "name": "python3"
  },
  "language_info": {
   "codemirror_mode": {
    "name": "ipython",
    "version": 3
   },
   "file_extension": ".py",
   "mimetype": "text/x-python",
   "name": "python",
   "nbconvert_exporter": "python",
   "pygments_lexer": "ipython3",
   "version": "3.7.3"
  }
 },
 "nbformat": 4,
 "nbformat_minor": 2
}
