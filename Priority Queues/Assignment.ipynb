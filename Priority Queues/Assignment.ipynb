{
 "cells": [
  {
   "cell_type": "markdown",
   "metadata": {},
   "source": [
    "Check Max-Heap\n",
    "\n",
    "Given an array of integers, check whether it represents max-heap or not.\n",
    "Return true or false."
   ]
  },
  {
   "cell_type": "code",
   "execution_count": 21,
   "metadata": {},
   "outputs": [
    {
     "name": "stdout",
     "output_type": "stream",
     "text": [
      "10\n",
      "98404 77913 46653 55811 70118 44019 9465 18138 11969 90209 \n",
      "false\n"
     ]
    }
   ],
   "source": [
    "import heapq\n",
    "def checkMaxHeap(lst, n):\n",
    "    temp = list(lst[:])\n",
    "    heapq._heapify_max(lst)\n",
    "    if temp == lst:\n",
    "        return True\n",
    "    return False\n",
    "    \n",
    "    \n",
    "\n",
    "# Main Code\n",
    "n=int(input())\n",
    "lst=list(int(i) for i in input().strip().split(' '))\n",
    "print('true') if checkMaxHeap(lst, n) else print('false')\n"
   ]
  },
  {
   "cell_type": "code",
   "execution_count": 23,
   "metadata": {},
   "outputs": [
    {
     "name": "stdout",
     "output_type": "stream",
     "text": [
      "10\n",
      "98404 77913 46653 55811 70118 44019 9465 18138 11969 90209 \n",
      "false\n"
     ]
    }
   ],
   "source": [
    "# without using library\n",
    "import heapq\n",
    "def checkMaxHeap(arr):\n",
    "    # compete binary tree and heap order prop\n",
    "    for i in range(n):\n",
    "        lchild = 2*i+1\n",
    "        rchild = 2*i+2\n",
    "        if lchild < n:\n",
    "            if arr[i] < arr[lchild]:\n",
    "                return False\n",
    "        if rchild < n:\n",
    "            if arr[i] < arr[rchild]:\n",
    "                return False\n",
    "    return True\n",
    "            \n",
    "\n",
    "# Main Code\n",
    "n=int(input())\n",
    "lst=list(int(i) for i in input().strip().split(' '))\n",
    "print('true') if checkMaxHeap(lst) else print('false')\n"
   ]
  },
  {
   "cell_type": "markdown",
   "metadata": {},
   "source": [
    "Kth largest element\n",
    "\n",
    "Given an array A of random integers and an integer k, find and return the kth largest element in the array.\n",
    "Try to do this question in less than O(nlogn) time."
   ]
  },
  {
   "cell_type": "code",
   "execution_count": 24,
   "metadata": {},
   "outputs": [
    {
     "name": "stdout",
     "output_type": "stream",
     "text": [
      "20\n",
      "29921 19199 58569 71409 58780 3314 85469 85479 23024 45862 20286 48496 86991 73309 99681 10591 78674 44369 77601 67913\n",
      "8\n",
      "71409\n"
     ]
    }
   ],
   "source": [
    "# using sorting\n",
    "import heapq\n",
    "def kthLargest(lst, k):\n",
    "    lst.sort()\n",
    "    return lst[-k]\n",
    "\n",
    "# Main Code\n",
    "n=int(input())\n",
    "lst=list(int(i) for i in input().strip().split(' '))\n",
    "k=int(input())\n",
    "ans=kthLargest(lst, k)\n",
    "print(ans)\n"
   ]
  },
  {
   "cell_type": "code",
   "execution_count": 30,
   "metadata": {},
   "outputs": [
    {
     "name": "stdout",
     "output_type": "stream",
     "text": [
      "20\n",
      "29921 19199 58569 71409 58780 3314 85469 85479 23024 45862 20286 48496 86991 73309 99681 10591 78674 44369 77601 67913 \n",
      "8\n",
      "71409\n"
     ]
    }
   ],
   "source": [
    "import heapq\n",
    "def kthLargest(lst, k):\n",
    "    result_arr = lst[:k]\n",
    "    heapq.heapify(result_arr)\n",
    "    for i in range(k, n):\n",
    "        if lst[i] > result_arr[0]:\n",
    "            heapq.heapreplace(result_arr, lst[i])\n",
    "    return result_arr[0]\n",
    "\n",
    "# Main Code\n",
    "n=int(input())\n",
    "lst=list(int(i) for i in input().strip().split(' '))\n",
    "k=int(input())\n",
    "ans=kthLargest(lst, k)\n",
    "print(ans)\n"
   ]
  },
  {
   "cell_type": "markdown",
   "metadata": {},
   "source": [
    "Buy the ticket\n",
    "\n",
    "You want to buy a ticket for a well-known concert which is happening in your city. But the number of tickets available is limited. Hence the sponsors of the concert decided to sell tickets to customers based on some priority.\n",
    "A queue is maintained for buying the tickets and every person has attached with a priority (an integer, 1 being the lowest priority). The tickets are sold in the following manner -\n",
    "1. The first person (pi) in the queue asked to comes out.\n",
    "2. If there is another person present in the queue who has higher priority than pi, then ask pi to move at end of the queue without giving him the ticket.\n",
    "3. Otherwise, give him the ticket (and don't make him stand in queue again)."
   ]
  },
  {
   "cell_type": "code",
   "execution_count": 31,
   "metadata": {},
   "outputs": [
    {
     "name": "stdout",
     "output_type": "stream",
     "text": [
      "5\n",
      "10101 565 4921 60 1\n",
      "3\n",
      "4\n"
     ]
    }
   ],
   "source": [
    "import heapq\n",
    "\n",
    "class PriorityQueueNode:\n",
    "    def __init__(self, element, priority):\n",
    "        self.element = element\n",
    "        self.priority = priority\n",
    "\n",
    "\n",
    "def timetaken(lst, n, m):\n",
    "    temp = []\n",
    "    for i in range(n):\n",
    "        x = PriorityQueueNode(i, lst[i])\n",
    "        temp.append(x)\n",
    "    \n",
    "    heapq._heapify_max(lst)\n",
    "    count = 0\n",
    "    while True:\n",
    "        y = heapq._heappop_max(lst)\n",
    "        count += 1\n",
    "        if y == temp[m].priority:\n",
    "            return count\n",
    "        \n",
    "    \n",
    "\n",
    "n = int(input())\n",
    "lst = list(int(i) for i in input().split())\n",
    "k = int(input())\n",
    "\n",
    "print(timetaken(lst, n, k))\n",
    "    \n"
   ]
  },
  {
   "cell_type": "code",
   "execution_count": null,
   "metadata": {},
   "outputs": [],
   "source": []
  },
  {
   "cell_type": "code",
   "execution_count": null,
   "metadata": {},
   "outputs": [],
   "source": []
  }
 ],
 "metadata": {
  "kernelspec": {
   "display_name": "Python 3",
   "language": "python",
   "name": "python3"
  },
  "language_info": {
   "codemirror_mode": {
    "name": "ipython",
    "version": 3
   },
   "file_extension": ".py",
   "mimetype": "text/x-python",
   "name": "python",
   "nbconvert_exporter": "python",
   "pygments_lexer": "ipython3",
   "version": "3.6.8"
  }
 },
 "nbformat": 4,
 "nbformat_minor": 2
}
