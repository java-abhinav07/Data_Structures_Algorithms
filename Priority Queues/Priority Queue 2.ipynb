{
 "cells": [
  {
   "cell_type": "markdown",
   "metadata": {},
   "source": [
    "# Heap Sort"
   ]
  },
  {
   "cell_type": "markdown",
   "metadata": {},
   "source": [
    "Put all elements in min heap and then pop elements one by one and insert in array <br>\n",
    "Can be implemented in nlogn time complexity and n space complexity if this strategy is used"
   ]
  },
  {
   "cell_type": "markdown",
   "metadata": {},
   "source": [
    "To improve space complexity we can use another method called <b>inplace heap</b>. This will used O(1) complexity. Here we use the initial array as the heap since the heap is essentially element storage in an array."
   ]
  },
  {
   "cell_type": "code",
   "execution_count": 5,
   "metadata": {},
   "outputs": [
    {
     "name": "stdout",
     "output_type": "stream",
     "text": [
      "0\n",
      "1\n",
      "2\n",
      "11\n",
      "23\n",
      "34\n"
     ]
    }
   ],
   "source": [
    "# unoptimized heapsort using heapq python3 library\n",
    "# space complexity = O(n), time complexity O(nlong)\n",
    "\n",
    "import heapq\n",
    "\n",
    "def heapsort0(arr, n):\n",
    "    heap = []\n",
    "    for element in arr:\n",
    "        heapq.heappush(heap, element)\n",
    "    for i in range(n):\n",
    "        print(heapq.heappop(heap))\n",
    "\n",
    "heapsort0([2,34,1,23,11,0], 6)\n",
    "        \n",
    "        \n",
    "        \n",
    "    "
   ]
  },
  {
   "cell_type": "code",
   "execution_count": 11,
   "metadata": {},
   "outputs": [
    {
     "name": "stdout",
     "output_type": "stream",
     "text": [
      "0\n",
      "1\n",
      "2\n",
      "11\n",
      "23\n",
      "34\n"
     ]
    }
   ],
   "source": [
    "# unoptimized heapsort without using library\n",
    "# space complexity = O(n), time complexity O(nlong)\n",
    "class PriorityQueueNode:\n",
    "    def __init__(self,ele,priority):\n",
    "        self.ele = ele\n",
    "        self.priority = priority\n",
    "        \n",
    "class PriorityQueue:\n",
    "    def __init__(self):\n",
    "        self.pq = []\n",
    "    \n",
    "    def isEmpty(self):\n",
    "        return self.getSize() == 0\n",
    "    \n",
    "    def getSize(self):\n",
    "        return len(self.pq)\n",
    "\n",
    "    def getMin(self):\n",
    "        if self.isEmpty():\n",
    "            return None\n",
    "        return self.pq[0].ele\n",
    "    \n",
    "    def __percolateUp(self):\n",
    "        childIndex = self.getSize() - 1\n",
    "        while childIndex > 0:\n",
    "            parentIndex = (childIndex-1)//2\n",
    "            \n",
    "            if self.pq[parentIndex].priority > self.pq[childIndex].priority:\n",
    "                self.pq[parentIndex],self.pq[childIndex] = self.pq[childIndex],self.pq[parentIndex]\n",
    "                childIndex = parentIndex\n",
    "            else:\n",
    "                break\n",
    "            \n",
    "    def insert(self,ele,priority):\n",
    "        pqNode = PriorityQueueNode(ele,priority)\n",
    "        self.pq.append(pqNode)\n",
    "        self.__percolateUp()\n",
    "        \n",
    "    def removeMin(self):\n",
    "        temp = self.pq[0].ele\n",
    "        self.pq[0], self.pq[-1] = self.pq[-1], self.pq[0]\n",
    "        self.pq.pop()\n",
    "        parent = 0\n",
    "        self.__percolateDown()\n",
    "        return temp\n",
    "    \n",
    "    def __percolateDown(self):\n",
    "        parent = 0\n",
    "        maxsize = self.getSize()\n",
    "        min = parent\n",
    "        while parent < maxsize:\n",
    "            leftchild = 2*min + 1\n",
    "            rightchild = 2*min + 2\n",
    "            \n",
    "            if leftchild < maxsize:\n",
    "                if self.pq[min].priority > self.pq[leftchild].priority:\n",
    "                    min = leftchild\n",
    "                \n",
    "            if rightchild < maxsize:\n",
    "                if self.pq[min].priority > self.pq[rightchild].priority:\n",
    "                    min = rightchild\n",
    "            if min == parent:\n",
    "                break\n",
    "            \n",
    "            self.pq[parent], self.pq[min] = self.pq[min], self.pq[parent] \n",
    "            parent = min\n",
    "            \n",
    "\n",
    "    \n",
    "def heapsort1(arr, n):\n",
    "    pq = PriorityQueue()\n",
    "    for element in arr:\n",
    "        pq.insert(element, element)\n",
    "    for i in range(n):\n",
    "        print(pq.removeMin())\n",
    "        \n",
    "        \n",
    "heapsort1([2,34,1,23,11,0], 6)\n"
   ]
  },
  {
   "cell_type": "code",
   "execution_count": 19,
   "metadata": {},
   "outputs": [
    {
     "name": "stdout",
     "output_type": "stream",
     "text": [
      "-8\n",
      "0\n",
      "1\n",
      "2\n",
      "11\n",
      "23\n",
      "34\n",
      "99\n",
      "232\n"
     ]
    }
   ],
   "source": [
    "# space complexity = O(1), time complexity O(n)\n",
    "# using library\n",
    "import heapq\n",
    "\n",
    "def heapsort2(arr, n):\n",
    "    heapq.heapify(arr) # heapify in place\n",
    "    for i in range(n):\n",
    "        print(heapq.heappop(arr))\n",
    "\n",
    "heapsort2([2,34,1,23,11,0, -8, 99, 232], 9)\n"
   ]
  },
  {
   "cell_type": "code",
   "execution_count": 89,
   "metadata": {},
   "outputs": [
    {
     "name": "stdout",
     "output_type": "stream",
     "text": [
      "[-8, 11, 0, 34, 23, 2, 1, 99, 232]\n",
      "sorted arr:  [232, 99, 34, 23, 11, 2, 1, 0, -8]\n"
     ]
    }
   ],
   "source": [
    "# space complexity O(1), time complexity O(nlogn)\n",
    "# without using library\n",
    "import heapq\n",
    "def makeheap(arr, n):\n",
    "    for i in range(1, n):\n",
    "        while i > 0:\n",
    "            parent = (i-1)//2\n",
    "            if arr[i] < arr[parent]:\n",
    "                arr[i], arr[parent] = arr[parent], arr[i]\n",
    "                i = parent\n",
    "            else:\n",
    "                break\n",
    "    return arr    \n",
    "        \n",
    "            \n",
    "def heapsort3(arr, n):\n",
    "    arr = makeheap(arr, n)\n",
    "    # get min element\n",
    "    si = 0\n",
    "    ei = n - 1\n",
    "    while si < ei:\n",
    "        parent = si\n",
    "        arr[si], arr[ei] = arr[ei], arr[si]\n",
    "        mn = parent\n",
    "        while parent < ei-si-1:\n",
    "            lchild = 2*mn + 1\n",
    "            rchild = 2*mn + 2\n",
    "\n",
    "            if lchild < ei:\n",
    "                if arr[mn] > arr[lchild]:\n",
    "                    mn = lchild\n",
    "            if lchild < ei and rchild < ei:\n",
    "                if arr[mn] > arr[rchild]:\n",
    "                    mn = rchild\n",
    "            if mn == parent:\n",
    "                break\n",
    "\n",
    "            arr[mn], arr[parent] = arr[parent], arr[mn]\n",
    "            parent = mn\n",
    "        ei -= 1\n",
    "        \n",
    "    print(\"sorted arr: \", arr)\n",
    "    \n",
    "\n",
    "print(makeheap([2,34,1,23,11,0, -8, 99, 232], 9))\n",
    "\n",
    "heapsort3([2,34,1,23,11,0, -8, 99, 232], 9)\n",
    "\n",
    "    "
   ]
  },
  {
   "cell_type": "code",
   "execution_count": 101,
   "metadata": {},
   "outputs": [
    {
     "name": "stdout",
     "output_type": "stream",
     "text": [
      "[-8, 0, 1, 2, 11, 23, 34, 99, 232]\n"
     ]
    }
   ],
   "source": [
    "#space complexity O(1), time complexity O(n)\n",
    "#without using library\n",
    "\n",
    "# using recursion\n",
    "def buildheap(arr, n, i):\n",
    "    largest = i\n",
    "    l = 2*i+1\n",
    "    r = 2*i+2\n",
    "    \n",
    "    if l < n and arr[largest] < arr[l]:\n",
    "        largest = l\n",
    "    if r < n and arr[largest] < arr[r]:\n",
    "        largest = r\n",
    "    if largest != i:\n",
    "        arr[i], arr[largest] = arr[largest], arr[i]\n",
    "        buildheap(arr, n, largest)\n",
    "\n",
    "def heapsort4(arr, n):\n",
    "    # build heap\n",
    "    for i in range(n, -1, -1):\n",
    "         buildheap(arr, n, i)\n",
    "\n",
    "    # get min element\n",
    "    for i in range(n-1, 0, -1):\n",
    "        arr[i], arr[0] = arr[0], arr[i] # swap \n",
    "        buildheap(arr, i, 0) \n",
    "        \n",
    "\n",
    "x = [2,34,1,23,11,0, -8, 99, 232]  \n",
    "heapsort4(x, 9)\n",
    "print(x)"
   ]
  },
  {
   "cell_type": "markdown",
   "metadata": {},
   "source": [
    "Inplace Heap Sort\n",
    "\n",
    "Given an integer array of size n. Sort this array (in decreasing order) using heap sort.\n",
    "Space complexity should be O(1)."
   ]
  },
  {
   "cell_type": "code",
   "execution_count": 94,
   "metadata": {},
   "outputs": [
    {
     "name": "stdout",
     "output_type": "stream",
     "text": [
      "6\n",
      "2 6 8 5 4 3\n",
      "8 6 5 4 3 2 "
     ]
    }
   ],
   "source": [
    "\n",
    "# space complexity O(1), time complexity O(nlogn)\n",
    "# without using library\n",
    "\n",
    "def makeheap(arr, n):\n",
    "    for i in range(1, n):\n",
    "        while i > 0:\n",
    "            parent = (i-1)//2\n",
    "            if arr[i] < arr[parent]:\n",
    "                arr[i], arr[parent] = arr[parent], arr[i]\n",
    "                i = parent\n",
    "            else:\n",
    "                break\n",
    "    return arr    \n",
    "        \n",
    "            \n",
    "def heapsort3(arr, n):\n",
    "    arr = makeheap(arr, n)\n",
    "    # get min element\n",
    "    si = 0\n",
    "    ei = n - 1\n",
    "    while si < ei:\n",
    "        parent = si\n",
    "        arr[si], arr[ei] = arr[ei], arr[si]\n",
    "        mn = parent\n",
    "        while parent < ei-si-1:\n",
    "            lchild = 2*mn + 1\n",
    "            rchild = 2*mn + 2\n",
    "\n",
    "            if lchild < ei:\n",
    "                if arr[mn] > arr[lchild]:\n",
    "                    mn = lchild\n",
    "            if lchild < ei and rchild < ei:\n",
    "                if arr[mn] > arr[rchild]:\n",
    "                    mn = rchild\n",
    "            if mn == parent:\n",
    "                break\n",
    "\n",
    "            arr[mn], arr[parent] = arr[parent], arr[mn]\n",
    "            parent = mn\n",
    "        ei -= 1\n",
    "        \n",
    "    for i in arr:\n",
    "        print(i, end = \" \")\n",
    "    \n",
    "\n",
    "\n",
    "n = int(input())\n",
    "arr = list(int(i) for i in input().split())\n",
    "heapsort3(arr, n)\n",
    "\n"
   ]
  },
  {
   "cell_type": "code",
   "execution_count": 108,
   "metadata": {},
   "outputs": [
    {
     "name": "stdout",
     "output_type": "stream",
     "text": [
      "[232, 99, 34, 23, 11, 1, 2, 0, -8]\n"
     ]
    }
   ],
   "source": [
    "# final code INPLACE HEAP SORT\n",
    "# ignoring leaf nodes, down heapify only on non leaf nodes\n",
    "def downheapify(arr, i, n):\n",
    "    parentIndex = i\n",
    "    leftChildIndex = 2*parentIndex+1\n",
    "    rightChildIndex = 2*parentIndex+2\n",
    "    \n",
    "    while leftChildIndex < n:\n",
    "        minIndex = parentIndex\n",
    "        if arr[minIndex] > arr[leftChildIndex]:\n",
    "            minIndex = leftChildIndex\n",
    "        if rightChildIndex < n and arr[minIndex] > arr[rightChildIndex]:\n",
    "            minIndex = rightChildIndex\n",
    "        if minIndex == parentIndex:\n",
    "            return\n",
    "        arr[minIndex], arr[parentIndex] = arr[parentIndex], arr[minIndex]\n",
    "        parentIndex = minIndex\n",
    "        leftChildIndex = 2*parentIndex+1\n",
    "        righChildIndex = 2*parentIndex+2\n",
    "    return \n",
    "\n",
    "def heapSort(arr):\n",
    "    n = len(arr)\n",
    "    # Build Heap\n",
    "    for i in range(n//2 -1, -1, -1):\n",
    "        downheapify(arr, i, n)\n",
    "    # Remove n elements and put them in correct position\n",
    "    for i in range(n-1, 0, -1):\n",
    "        arr[0], arr[i] = arr[i], arr[0]\n",
    "        downheapify(arr, 0, i)\n",
    "        \n",
    "    return\n",
    "\n",
    "x = [2,34,1,23,11,0, -8, 99, 232]  \n",
    "heapSort(x)\n",
    "print(x)\n"
   ]
  },
  {
   "cell_type": "markdown",
   "metadata": {},
   "source": [
    "Inbuilt Priority Queues and heapq"
   ]
  },
  {
   "cell_type": "code",
   "execution_count": 109,
   "metadata": {},
   "outputs": [],
   "source": [
    "import heapq\n",
    "li = [1,5,4,8,7,9,11]\n",
    "heapq.heapify(li)"
   ]
  },
  {
   "cell_type": "code",
   "execution_count": 110,
   "metadata": {},
   "outputs": [
    {
     "name": "stdout",
     "output_type": "stream",
     "text": [
      "[1, 5, 4, 8, 7, 9, 11]\n"
     ]
    }
   ],
   "source": [
    "print(li)"
   ]
  },
  {
   "cell_type": "code",
   "execution_count": 111,
   "metadata": {},
   "outputs": [],
   "source": [
    "heapq.heappush(li, 2)"
   ]
  },
  {
   "cell_type": "code",
   "execution_count": 112,
   "metadata": {},
   "outputs": [
    {
     "name": "stdout",
     "output_type": "stream",
     "text": [
      "[1, 2, 4, 5, 7, 9, 11, 8]\n"
     ]
    }
   ],
   "source": [
    "print(li)"
   ]
  },
  {
   "cell_type": "code",
   "execution_count": 113,
   "metadata": {},
   "outputs": [
    {
     "data": {
      "text/plain": [
       "1"
      ]
     },
     "execution_count": 113,
     "metadata": {},
     "output_type": "execute_result"
    }
   ],
   "source": [
    "heapq.heappop(li)"
   ]
  },
  {
   "cell_type": "code",
   "execution_count": 114,
   "metadata": {},
   "outputs": [
    {
     "name": "stdout",
     "output_type": "stream",
     "text": [
      "[2, 5, 4, 8, 7, 9, 11]\n"
     ]
    }
   ],
   "source": [
    "print(li)"
   ]
  },
  {
   "cell_type": "code",
   "execution_count": 115,
   "metadata": {},
   "outputs": [
    {
     "data": {
      "text/plain": [
       "2"
      ]
     },
     "execution_count": 115,
     "metadata": {},
     "output_type": "execute_result"
    }
   ],
   "source": [
    "heapq.heapreplace(li, 6) # pop and replace"
   ]
  },
  {
   "cell_type": "code",
   "execution_count": 116,
   "metadata": {},
   "outputs": [
    {
     "name": "stdout",
     "output_type": "stream",
     "text": [
      "[4, 5, 6, 8, 7, 9, 11]\n"
     ]
    }
   ],
   "source": [
    "print(li)"
   ]
  },
  {
   "cell_type": "markdown",
   "metadata": {},
   "source": [
    "Inbuilt Maxheap"
   ]
  },
  {
   "cell_type": "code",
   "execution_count": 117,
   "metadata": {},
   "outputs": [],
   "source": [
    "import heapq\n",
    "li = [1,2,4,6,5,7,93,21,11]\n",
    "heapq._heapify_max(li)29921 19199 58569 71409 58780 3314 85469 85479 23024 45862 20286 48496 86991 73309 99681 10591 78674 44369 77601 67913"
   ]
  },
  {
   "cell_type": "code",
   "execution_count": 118,
   "metadata": {},
   "outputs": [
    {
     "name": "stdout",
     "output_type": "stream",
     "text": [
      "[93, 21, 7, 11, 5, 1, 4, 6, 2]\n"
     ]
    }
   ],
   "source": [
    "print(li)"
   ]
  },
  {
   "cell_type": "code",
   "execution_count": 120,
   "metadata": {},
   "outputs": [
    {
     "data": {
      "text/plain": [
       "93"
      ]
     },
     "execution_count": 120,
     "metadata": {},
     "output_type": "execute_result"
    }
   ],
   "source": [
    "heapq._heappop_max(li)"
   ]
  },
  {
   "cell_type": "code",
   "execution_count": 121,
   "metadata": {},
   "outputs": [
    {
     "name": "stdout",
     "output_type": "stream",
     "text": [
      "[21, 11, 7, 6, 5, 1, 4, 2]\n"
     ]
    }
   ],
   "source": [
    "print(li)"
   ]
  },
  {
   "cell_type": "code",
   "execution_count": 124,
   "metadata": {},
   "outputs": [
    {
     "data": {
      "text/plain": [
       "11"
      ]
     },
     "execution_count": 124,
     "metadata": {},
     "output_type": "execute_result"
    }
   ],
   "source": [
    "heapq._heapreplace_max(li, 222)"
   ]
  },
  {
   "cell_type": "code",
   "execution_count": 125,
   "metadata": {},
   "outputs": [
    {
     "name": "stdout",
     "output_type": "stream",
     "text": [
      "[222, 6, 7, 5, 5, 1, 4, 2]\n"
     ]
    }
   ],
   "source": [
    "print(li)"
   ]
  },
  {
   "cell_type": "code",
   "execution_count": 126,
   "metadata": {},
   "outputs": [
    {
     "name": "stdout",
     "output_type": "stream",
     "text": [
      "[289, 222, 7, 6, 5, 1, 4, 2, 5]\n"
     ]
    }
   ],
   "source": [
    "# pushing an element ---> _shiftdown_max(pos, lastindexcomparision)\n",
    "li.append(289)\n",
    "heapq._siftdown_max(li, 0, len(li)-1)\n",
    "print(li)"
   ]
  },
  {
   "cell_type": "markdown",
   "metadata": {},
   "source": [
    "K Smallest Elements\n",
    "\n",
    "You are given with an integer k and an array of integers that contain numbers in random order. Write a program to find k smallest numbers from given array. You need to save them in an array and return it.\n",
    "Time complexity should be O(nlogk) and space complexity should be not more than O(k)."
   ]
  },
  {
   "cell_type": "code",
   "execution_count": 3,
   "metadata": {},
   "outputs": [
    {
     "name": "stdout",
     "output_type": "stream",
     "text": [
      "13\n",
      "2 12 9 16 10 5 3 20 25 11 1 8 6 \n",
      "4\n",
      "5 2 3 1\n"
     ]
    }
   ],
   "source": [
    "import heapq\n",
    "def kSmallest(lst, k, n):\n",
    "    result_arr = lst[:k+1]\n",
    "    heapq._heapify_max(result_arr)\n",
    "    for i in range(k+1, n):\n",
    "        if lst[i] < result_arr[0]:\n",
    "            heapq._heapreplace_max(result_arr, lst[i])\n",
    "    return result_arr\n",
    "    \n",
    "\n",
    "# Main\n",
    "n=int(input())\n",
    "lst=list(int(i) for i in input().strip().split(' '))\n",
    "k=int(input())\n",
    "ans=kSmallest(lst, k-1, n)\n",
    "for anss in ans:\n",
    "    print(anss)\n"
   ]
  },
  {
   "cell_type": "markdown",
   "metadata": {},
   "source": [
    "K Largest Elements\n",
    "\n",
    "You are given with an integer k and an array of integers that contain numbers in random order. Write a program to find k largest numbers from given array. You need to save them in an array and return it.\n",
    "Time complexity should be O(nlogk) and space complexity should be not more than O(k)."
   ]
  },
  {
   "cell_type": "code",
   "execution_count": 5,
   "metadata": {},
   "outputs": [
    {
     "name": "stdout",
     "output_type": "stream",
     "text": [
      "13\n",
      "2 12 9 16 10 5 3 20 25 11 1 8 6 \n",
      "4\n",
      "12\n",
      "16\n",
      "20\n",
      "25\n"
     ]
    }
   ],
   "source": [
    "import heapq\n",
    "def kLargest(lst, k):\n",
    "    result_arr = lst[:k+1]\n",
    "    heapq.heapify(result_arr)\n",
    "    for i in range(k+1, n):\n",
    "        if lst[i] > result_arr[0]:\n",
    "            heapq.heapreplace(result_arr, lst[i])\n",
    "    return result_arr\n",
    "            \n",
    "\n",
    "# Main Code\n",
    "n=int(input())\n",
    "lst=list(int(i) for i in input().strip().split(' '))\n",
    "k=int(input())\n",
    "ans=kLargest(lst, k-1)\n",
    "print(*ans, sep='\\n')\n"
   ]
  },
  {
   "cell_type": "code",
   "execution_count": null,
   "metadata": {},
   "outputs": [],
   "source": []
  }
 ],
 "metadata": {
  "kernelspec": {
   "display_name": "Python 3",
   "language": "python",
   "name": "python3"
  },
  "language_info": {
   "codemirror_mode": {
    "name": "ipython",
    "version": 3
   },
   "file_extension": ".py",
   "mimetype": "text/x-python",
   "name": "python",
   "nbconvert_exporter": "python",
   "pygments_lexer": "ipython3",
   "version": "3.6.8"
  }
 },
 "nbformat": 4,
 "nbformat_minor": 2
}
