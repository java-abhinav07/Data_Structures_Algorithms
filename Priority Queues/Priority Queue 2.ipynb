{
 "cells": [
  {
   "cell_type": "markdown",
   "metadata": {},
   "source": [
    "# Heap Sort"
   ]
  },
  {
   "cell_type": "markdown",
   "metadata": {},
   "source": [
    "Put all elements in min heap and then pop elements one by one and insert in array <br>\n",
    "Can be implemented in nlogn time complexity and n space complexity if this strategy is used"
   ]
  },
  {
   "cell_type": "markdown",
   "metadata": {},
   "source": [
    "To improve space complexity we can use another method called <b>inplace heap</b>. This will used O(1) complexity. Here we use the initial array as the heap since the heap is essentially element storage in an array."
   ]
  },
  {
   "cell_type": "code",
   "execution_count": 5,
   "metadata": {},
   "outputs": [
    {
     "name": "stdout",
     "output_type": "stream",
     "text": [
      "0\n",
      "1\n",
      "2\n",
      "11\n",
      "23\n",
      "34\n"
     ]
    }
   ],
   "source": [
    "# unoptimized heapsort using heapq python3 library\n",
    "# space complexity = O(n), time complexity O(nlong)\n",
    "\n",
    "import heapq\n",
    "\n",
    "def heapsort0(arr, n):\n",
    "    heap = []\n",
    "    for element in arr:\n",
    "        heapq.heappush(heap, element)\n",
    "    for i in range(n):\n",
    "        print(heapq.heappop(heap))\n",
    "\n",
    "heapsort0([2,34,1,23,11,0], 6)\n",
    "        \n",
    "        \n",
    "        \n",
    "    "
   ]
  },
  {
   "cell_type": "code",
   "execution_count": 11,
   "metadata": {},
   "outputs": [
    {
     "name": "stdout",
     "output_type": "stream",
     "text": [
      "0\n",
      "1\n",
      "2\n",
      "11\n",
      "23\n",
      "34\n"
     ]
    }
   ],
   "source": [
    "# unoptimized heapsort without using library\n",
    "# space complexity = O(n), time complexity O(nlong)\n",
    "class PriorityQueueNode:\n",
    "    def __init__(self,ele,priority):\n",
    "        self.ele = ele\n",
    "        self.priority = priority\n",
    "        \n",
    "class PriorityQueue:\n",
    "    def __init__(self):\n",
    "        self.pq = []\n",
    "    \n",
    "    def isEmpty(self):\n",
    "        return self.getSize() == 0\n",
    "    \n",
    "    def getSize(self):\n",
    "        return len(self.pq)\n",
    "\n",
    "    def getMin(self):\n",
    "        if self.isEmpty():\n",
    "            return None\n",
    "        return self.pq[0].ele\n",
    "    \n",
    "    def __percolateUp(self):\n",
    "        childIndex = self.getSize() - 1\n",
    "        while childIndex > 0:\n",
    "            parentIndex = (childIndex-1)//2\n",
    "            \n",
    "            if self.pq[parentIndex].priority > self.pq[childIndex].priority:\n",
    "                self.pq[parentIndex],self.pq[childIndex] = self.pq[childIndex],self.pq[parentIndex]\n",
    "                childIndex = parentIndex\n",
    "            else:\n",
    "                break\n",
    "            \n",
    "    def insert(self,ele,priority):\n",
    "        pqNode = PriorityQueueNode(ele,priority)\n",
    "        self.pq.append(pqNode)\n",
    "        self.__percolateUp()\n",
    "        \n",
    "    def removeMin(self):\n",
    "        temp = self.pq[0].ele\n",
    "        self.pq[0], self.pq[-1] = self.pq[-1], self.pq[0]\n",
    "        self.pq.pop()\n",
    "        parent = 0\n",
    "        self.__percolateDown()\n",
    "        return temp\n",
    "    \n",
    "    def __percolateDown(self):\n",
    "        parent = 0\n",
    "        maxsize = self.getSize()\n",
    "        min = parent\n",
    "        while parent < maxsize:\n",
    "            leftchild = 2*min + 1\n",
    "            rightchild = 2*min + 2\n",
    "            \n",
    "            if leftchild < maxsize:\n",
    "                if self.pq[min].priority > self.pq[leftchild].priority:\n",
    "                    min = leftchild\n",
    "                \n",
    "            if rightchild < maxsize:\n",
    "                if self.pq[min].priority > self.pq[rightchild].priority:\n",
    "                    min = rightchild\n",
    "            if min == parent:\n",
    "                break\n",
    "            \n",
    "            self.pq[parent], self.pq[min] = self.pq[min], self.pq[parent] \n",
    "            parent = min\n",
    "            \n",
    "\n",
    "    \n",
    "def heapsort1(arr, n):\n",
    "    pq = PriorityQueue()\n",
    "    for element in arr:\n",
    "        pq.insert(element, element)\n",
    "    for i in range(n):\n",
    "        print(pq.removeMin())\n",
    "        \n",
    "        \n",
    "heapsort1([2,34,1,23,11,0], 6)\n"
   ]
  },
  {
   "cell_type": "code",
   "execution_count": 19,
   "metadata": {},
   "outputs": [
    {
     "name": "stdout",
     "output_type": "stream",
     "text": [
      "-8\n",
      "0\n",
      "1\n",
      "2\n",
      "11\n",
      "23\n",
      "34\n",
      "99\n",
      "232\n"
     ]
    }
   ],
   "source": [
    "# space complexity = O(1), time complexity O(n)\n",
    "# using library\n",
    "import heapq\n",
    "\n",
    "def heapsort2(arr, n):\n",
    "    heapq.heapify(arr) # heapify in place\n",
    "    for i in range(n):\n",
    "        print(heapq.heappop(arr))\n",
    "\n",
    "heapsort2([2,34,1,23,11,0, -8, 99, 232], 9)\n"
   ]
  },
  {
   "cell_type": "code",
   "execution_count": 27,
   "metadata": {},
   "outputs": [
    {
     "data": {
      "text/plain": [
       "[1, 11, -8, 34, 23, 2, 0, 99, 232]"
      ]
     },
     "execution_count": 27,
     "metadata": {},
     "output_type": "execute_result"
    }
   ],
   "source": [
    "# space complexity O(1), time complexity O(nlogn)\n",
    "# without using library\n",
    "import heapq\n",
    "def makeheap(arr, n):\n",
    "    for i in range(1, n):\n",
    "        parent = (i-1)//2\n",
    "        while parent >= 0:\n",
    "            if arr[parent] > arr[i]:\n",
    "                arr[parent], arr[i] = arr[i], arr[parent]\n",
    "                parent = i\n",
    "            else:\n",
    "                break\n",
    "    return arr\n",
    "     \n",
    "def removeMin(pq, n):\n",
    "        temp = pq[0]\n",
    "        pq[0], pq[-1] = pq[-1], pq[0]\n",
    "        pq.pop()\n",
    "        parent = 0\n",
    "        maxsize = n\n",
    "        min = parent\n",
    "        while parent < maxsize:\n",
    "            leftchild = 2*min + 1\n",
    "            rightchild = 2*min + 2\n",
    "            \n",
    "            if leftchild < maxsize:\n",
    "                if pq[min] > pq[leftchild]:\n",
    "                    min = leftchild\n",
    "                \n",
    "            if rightchild < maxsize:\n",
    "                if pq[min] > pq[rightchild]:\n",
    "                    min = rightchild\n",
    "            if min == parent:\n",
    "                break\n",
    "            \n",
    "            pq[parent], pq[min] = pq[min], pq[parent] \n",
    "            parent = min\n",
    "\n",
    "def heapsort3(arr, n):\n",
    "    arr = makeheap(arr, n)\n",
    "    \n",
    "    \n",
    "    \n",
    "    \n",
    "    \n",
    "    \n",
    "    \n",
    "\n",
    "#heapsort3([2,34,1,23,11,0, -8, 99, 232], 9)\n",
    "    "
   ]
  },
  {
   "cell_type": "code",
   "execution_count": null,
   "metadata": {},
   "outputs": [],
   "source": []
  }
 ],
 "metadata": {
  "kernelspec": {
   "display_name": "Python 3",
   "language": "python",
   "name": "python3"
  },
  "language_info": {
   "codemirror_mode": {
    "name": "ipython",
    "version": 3
   },
   "file_extension": ".py",
   "mimetype": "text/x-python",
   "name": "python",
   "nbconvert_exporter": "python",
   "pygments_lexer": "ipython3",
   "version": "3.6.8"
  }
 },
 "nbformat": 4,
 "nbformat_minor": 2
}
