{
 "cells": [
  {
   "cell_type": "code",
   "execution_count": 1,
   "metadata": {},
   "outputs": [
    {
     "data": {
      "text/plain": [
       "dict"
      ]
     },
     "execution_count": 1,
     "metadata": {},
     "output_type": "execute_result"
    }
   ],
   "source": [
    "a = {}\n",
    "type(a)"
   ]
  },
  {
   "cell_type": "code",
   "execution_count": 2,
   "metadata": {},
   "outputs": [],
   "source": [
    "b = a.copy()"
   ]
  },
  {
   "cell_type": "code",
   "execution_count": 3,
   "metadata": {},
   "outputs": [
    {
     "data": {
      "text/plain": [
       "{}"
      ]
     },
     "execution_count": 3,
     "metadata": {},
     "output_type": "execute_result"
    }
   ],
   "source": [
    "b"
   ]
  },
  {
   "cell_type": "code",
   "execution_count": 4,
   "metadata": {},
   "outputs": [],
   "source": [
    "a[\"the\"] = 1"
   ]
  },
  {
   "cell_type": "code",
   "execution_count": 5,
   "metadata": {},
   "outputs": [
    {
     "data": {
      "text/plain": [
       "{}"
      ]
     },
     "execution_count": 5,
     "metadata": {},
     "output_type": "execute_result"
    }
   ],
   "source": [
    "b"
   ]
  },
  {
   "cell_type": "code",
   "execution_count": 6,
   "metadata": {},
   "outputs": [],
   "source": [
    "c = a"
   ]
  },
  {
   "cell_type": "code",
   "execution_count": 7,
   "metadata": {},
   "outputs": [
    {
     "data": {
      "text/plain": [
       "{'the': 1}"
      ]
     },
     "execution_count": 7,
     "metadata": {},
     "output_type": "execute_result"
    }
   ],
   "source": [
    "c"
   ]
  },
  {
   "cell_type": "code",
   "execution_count": 8,
   "metadata": {},
   "outputs": [],
   "source": [
    "a[\"f\"] = 9"
   ]
  },
  {
   "cell_type": "code",
   "execution_count": 9,
   "metadata": {},
   "outputs": [
    {
     "data": {
      "text/plain": [
       "{'the': 1, 'f': 9}"
      ]
     },
     "execution_count": 9,
     "metadata": {},
     "output_type": "execute_result"
    }
   ],
   "source": [
    "c"
   ]
  },
  {
   "cell_type": "code",
   "execution_count": 10,
   "metadata": {},
   "outputs": [],
   "source": [
    "d = dict.fromkeys([\"abc\", 32, 4], 10)"
   ]
  },
  {
   "cell_type": "code",
   "execution_count": 11,
   "metadata": {},
   "outputs": [
    {
     "data": {
      "text/plain": [
       "{'abc': 10, 32: 10, 4: 10}"
      ]
     },
     "execution_count": 11,
     "metadata": {},
     "output_type": "execute_result"
    }
   ],
   "source": [
    "d"
   ]
  },
  {
   "cell_type": "code",
   "execution_count": 12,
   "metadata": {},
   "outputs": [
    {
     "data": {
      "text/plain": [
       "3"
      ]
     },
     "execution_count": 12,
     "metadata": {},
     "output_type": "execute_result"
    }
   ],
   "source": [
    "len(d)"
   ]
  },
  {
   "cell_type": "code",
   "execution_count": 13,
   "metadata": {},
   "outputs": [],
   "source": [
    "# dictionaries are mutable types"
   ]
  },
  {
   "cell_type": "code",
   "execution_count": 15,
   "metadata": {},
   "outputs": [],
   "source": [
    "d2 = {1:2, '3':4, 'list':[1,2,3], 'dict':{1:2, '3':3}}"
   ]
  },
  {
   "cell_type": "code",
   "execution_count": 17,
   "metadata": {},
   "outputs": [
    {
     "data": {
      "text/plain": [
       "2"
      ]
     },
     "execution_count": 17,
     "metadata": {},
     "output_type": "execute_result"
    }
   ],
   "source": [
    "d2[1]"
   ]
  },
  {
   "cell_type": "code",
   "execution_count": 18,
   "metadata": {},
   "outputs": [
    {
     "data": {
      "text/plain": [
       "[1, 2, 3]"
      ]
     },
     "execution_count": 18,
     "metadata": {},
     "output_type": "execute_result"
    }
   ],
   "source": [
    "d2[\"list\"]"
   ]
  },
  {
   "cell_type": "code",
   "execution_count": 20,
   "metadata": {},
   "outputs": [
    {
     "data": {
      "text/plain": [
       "2"
      ]
     },
     "execution_count": 20,
     "metadata": {},
     "output_type": "execute_result"
    }
   ],
   "source": [
    "d2[\"dict\"][1]"
   ]
  },
  {
   "cell_type": "code",
   "execution_count": 21,
   "metadata": {},
   "outputs": [
    {
     "data": {
      "text/plain": [
       "[1, 2, 3]"
      ]
     },
     "execution_count": 21,
     "metadata": {},
     "output_type": "execute_result"
    }
   ],
   "source": [
    "d2.get(\"list\", 0)"
   ]
  },
  {
   "cell_type": "code",
   "execution_count": 22,
   "metadata": {},
   "outputs": [
    {
     "data": {
      "text/plain": [
       "0"
      ]
     },
     "execution_count": 22,
     "metadata": {},
     "output_type": "execute_result"
    }
   ],
   "source": [
    "d2.get(\"ff\", 0)"
   ]
  },
  {
   "cell_type": "code",
   "execution_count": 23,
   "metadata": {},
   "outputs": [
    {
     "data": {
      "text/plain": [
       "dict_keys([1, '3', 'list', 'dict'])"
      ]
     },
     "execution_count": 23,
     "metadata": {},
     "output_type": "execute_result"
    }
   ],
   "source": [
    "d2.keys()"
   ]
  },
  {
   "cell_type": "code",
   "execution_count": 24,
   "metadata": {},
   "outputs": [
    {
     "data": {
      "text/plain": [
       "dict_values([2, 4, [1, 2, 3], {1: 2, '3': 3}])"
      ]
     },
     "execution_count": 24,
     "metadata": {},
     "output_type": "execute_result"
    }
   ],
   "source": [
    "d2.values()"
   ]
  },
  {
   "cell_type": "code",
   "execution_count": 25,
   "metadata": {},
   "outputs": [],
   "source": [
    "d3 = {\"1\":1, \"2\":2, \"3\":3}"
   ]
  },
  {
   "cell_type": "code",
   "execution_count": 26,
   "metadata": {},
   "outputs": [
    {
     "data": {
      "text/plain": [
       "dict_items([('1', 1), ('2', 2), ('3', 3)])"
      ]
     },
     "execution_count": 26,
     "metadata": {},
     "output_type": "execute_result"
    }
   ],
   "source": [
    "d3.items()"
   ]
  },
  {
   "cell_type": "code",
   "execution_count": 27,
   "metadata": {},
   "outputs": [
    {
     "data": {
      "text/plain": [
       "6"
      ]
     },
     "execution_count": 27,
     "metadata": {},
     "output_type": "execute_result"
    }
   ],
   "source": [
    "sum(d3.values())"
   ]
  },
  {
   "cell_type": "code",
   "execution_count": 29,
   "metadata": {},
   "outputs": [
    {
     "name": "stdout",
     "output_type": "stream",
     "text": [
      "1\n",
      "2\n",
      "3\n"
     ]
    }
   ],
   "source": [
    "for i in d3.values():\n",
    "    print(i)"
   ]
  },
  {
   "cell_type": "markdown",
   "metadata": {},
   "source": [
    "Maximum Frequency\n",
    "\n",
    "You are given with an array of integers that contain numbers in random order. Write a program to find and return the number which occurs maximum times in the given input.\n",
    "If more than one element occurs same number of times in the input, return the element which is present in the input first."
   ]
  },
  {
   "cell_type": "code",
   "execution_count": 1,
   "metadata": {},
   "outputs": [
    {
     "name": "stdout",
     "output_type": "stream",
     "text": [
      "13\n",
      "2 12 2 11 12 2 1 2 2 11 12 2 6 \n",
      "2\n"
     ]
    }
   ],
   "source": [
    "def maxFreq(l):\n",
    "    d = {}\n",
    "    max_count = 0\n",
    "    ans = l[0]\n",
    "    for element in l:\n",
    "        x = d.get(element, 0)\n",
    "        if max_count < x:\n",
    "            max_count = d[element]\n",
    "            ans = element\n",
    "        d[element] = x + 1\n",
    "        \n",
    "    return ans\n",
    "        \n",
    "       \n",
    "# Main\n",
    "n=int(input())\n",
    "l=list(int(i) for i in input().strip().split(' '))\n",
    "print(maxFreq(l))\n"
   ]
  },
  {
   "cell_type": "markdown",
   "metadata": {},
   "source": [
    "Pair Sum To 0\n",
    "\n",
    "Given a random integer array A of size N. Find and print the pair of elements in the array which sum to 0.\n",
    "Array A can contain duplicate elements.\n",
    "While printing a pair, print the smaller element first.\n",
    "That is, if a valid pair is (6, -6) print \"-6 6\". There is no constraint that out of 5 pairs which have to be printed in 1st line. You can print pairs in any order, just be careful about the order of elements in a pair."
   ]
  },
  {
   "cell_type": "code",
   "execution_count": 4,
   "metadata": {},
   "outputs": [
    {
     "name": "stdout",
     "output_type": "stream",
     "text": [
      "5\n",
      "2 1 -2 2 3\n",
      "-2 2\n",
      "-2 2\n"
     ]
    }
   ],
   "source": [
    "def pairSum0(l):\n",
    "    d={}\n",
    "    for element in l:\n",
    "        x = d.get(element, 0)\n",
    "        d[element] = x + 1\n",
    "        \n",
    "    for keys in d:\n",
    "        y = d.get(-keys, 0)\n",
    "        if y > 0:\n",
    "            latter = max(keys, -keys)\n",
    "            former = min(keys, -keys)\n",
    "            print(former, latter)\n",
    "            d[-keys] -= 1\n",
    "\n",
    "n=int(input())\n",
    "l=list(int(i) for i in input().strip().split(' '))\n",
    "pairSum0(l)"
   ]
  },
  {
   "cell_type": "code",
   "execution_count": 8,
   "metadata": {},
   "outputs": [],
   "source": [
    "d = {3 : 1, 1 : 3, -1: 9}"
   ]
  },
  {
   "cell_type": "code",
   "execution_count": 10,
   "metadata": {},
   "outputs": [],
   "source": [
    "for key in d:\n",
    "    if d.get(-key, 0) > 0:\n",
    "        d[-key] -= 1"
   ]
  },
  {
   "cell_type": "code",
   "execution_count": 11,
   "metadata": {},
   "outputs": [
    {
     "name": "stdout",
     "output_type": "stream",
     "text": [
      "{3: 1, 1: 2, -1: 8}\n"
     ]
    }
   ],
   "source": [
    "print(d)"
   ]
  },
  {
   "cell_type": "code",
   "execution_count": null,
   "metadata": {},
   "outputs": [],
   "source": []
  },
  {
   "cell_type": "code",
   "execution_count": 13,
   "metadata": {},
   "outputs": [
    {
     "name": "stdout",
     "output_type": "stream",
     "text": [
      "10\n",
      "48 111 -48 62 -82 55 -78 82 -26 -38 \n",
      "-48 48\n",
      "-82 82\n"
     ]
    }
   ],
   "source": [
    "def pairSum0(l):\n",
    "    d={}\n",
    "    for element in l:\n",
    "        x = d.get(element, 0)\n",
    "        d[element] = x + 1\n",
    "        \n",
    "    for keys in d:\n",
    "        if keys > 0:\n",
    "            if d.get(-keys, 0) > 0:\n",
    "                latter = max(keys, -keys)\n",
    "                former = min(keys, -keys)\n",
    "                print(former, latter)\n",
    "                d[-keys] -= 1\n",
    "\n",
    "n=int(input())\n",
    "l=list(int(i) for i in input().strip().split(' '))\n",
    "pairSum0(l)"
   ]
  },
  {
   "cell_type": "markdown",
   "metadata": {},
   "source": [
    "# User Defined Hashmap "
   ]
  },
  {
   "cell_type": "code",
   "execution_count": 1,
   "metadata": {},
   "outputs": [],
   "source": [
    "class Map:\n",
    "    \n",
    "    def __init__(self):\n",
    "        self.bucket_size = 10\n",
    "        self.buckets = [None for i in range(self.bucket_size)]\n",
    "        self.count = 0\n",
    "    \n",
    "    def insert(self, key, value):\n",
    "        index = hash(key)\n",
    "        index = abs(index) % self.bucket_size\n",
    "        head = self.buckets[index]\n",
    "        while head is not None:\n",
    "            if head.key == key:\n",
    "                head.value = value\n",
    "                return\n",
    "            head = head.next\n",
    "        head = self.buckets[index]\n",
    "        newNode = MapNode(key, value)\n",
    "        newNode.next = head\n",
    "        self.buckets[index] = newNode\n",
    "        self.count += 1\n",
    "            \n",
    "    def remove(self, key):\n",
    "        hc = hash(key)\n",
    "        index = abs(hc) % self.bucket_size\n",
    "        head = self.buckets[index]\n",
    "        prev = None\n",
    "        while head:\n",
    "            if head.key == key:\n",
    "                if not prev:\n",
    "                    self.buckets[index] = head.next\n",
    "                else:\n",
    "                    prev.next = head.next\n",
    "                    head.next = None\n",
    "                self.count -= 1\n",
    "                return head.value\n",
    "            head = head.next\n",
    "            prev = head\n",
    "        return None\n",
    "        \n",
    "    def search(self, key):\n",
    "        hc = hash(key)\n",
    "        index = abs(hc) % self.bucket_size\n",
    "        head = self.buckets[index]\n",
    "        while head is not None:\n",
    "            if head.key == key:\n",
    "                return head.value\n",
    "            head = head.next\n",
    "            \n",
    "        \n",
    "    def size(self):\n",
    "        return self.count\n",
    "        \n",
    "        \n",
    "        \n",
    "class MapNode:\n",
    "    \n",
    "    def __init__(self, key, value):\n",
    "        self.next = None\n",
    "        self.key = key\n",
    "        self.value = value\n",
    "        \n",
    "        "
   ]
  },
  {
   "cell_type": "code",
   "execution_count": 42,
   "metadata": {},
   "outputs": [
    {
     "name": "stdout",
     "output_type": "stream",
     "text": [
      "1\n",
      "2\n",
      "4\n",
      "7\n",
      "None\n",
      "4\n",
      "None\n"
     ]
    }
   ],
   "source": [
    "m = Map()\n",
    "m.insert('Abhinav', 2)\n",
    "print(m.size())\n",
    "m.insert('ginshi', 7)\n",
    "m.insert('Abhinav', 4)\n",
    "print(m.size())\n",
    "print(m.search(\"Abhinav\"))\n",
    "print(m.search('ginshi'))\n",
    "print(m.search('boo'))\n",
    "print(m.remove('Abhinav'))\n",
    "print(m.search('Abhinav'))"
   ]
  },
  {
   "cell_type": "markdown",
   "metadata": {},
   "source": [
    "# Rehashing for Efficient Maps"
   ]
  },
  {
   "cell_type": "code",
   "execution_count": 2,
   "metadata": {},
   "outputs": [],
   "source": [
    "# n/b < 0.7 (load factor), whenever n/b becomes == 0.7 we need to rehash\n",
    "# b --> 2*b and elements copied to size 2*b sized bucket list\n",
    "# Use a temp var for copying. Make sure you insert each element because compression function\n",
    "# works as mod bucket size which changes and distort things\n",
    "# Go to each value of linked list and insert\n",
    "# All are order 1"
   ]
  },
  {
   "cell_type": "code",
   "execution_count": 7,
   "metadata": {},
   "outputs": [],
   "source": [
    "class MapNode:\n",
    "    \n",
    "    def __init__(self, key, value):\n",
    "        self.next = None\n",
    "        self.key = key\n",
    "        self.value = value\n",
    "        \n",
    "class Map:\n",
    "    \n",
    "    def __init__(self, size):\n",
    "        self.bucket_size = size\n",
    "        self.buckets = [None for i in range(size)]\n",
    "        self.count = 0\n",
    "        \n",
    "    def rehash(self):\n",
    "        temp = self.buckets\n",
    "        self.buckets = [None for i in range(2*self.bucket_size)]\n",
    "        self.bucket_size *= 2\n",
    "        self.count = 0 \n",
    "        for head in temp:\n",
    "            while head:\n",
    "                self.insert(head.key, head.value)\n",
    "                head = head.next\n",
    "        \n",
    "    def insert(self, key, value):\n",
    "        hc = hash(key)\n",
    "        index = abs(hc) % self.bucket_size\n",
    "        head = self.buckets[index]\n",
    "        while head is not None:\n",
    "            if head.key == key:\n",
    "                head.value = value\n",
    "                return\n",
    "            head = head.next\n",
    "        head = self.buckets[index]\n",
    "        newNode = MapNode(key, value)\n",
    "        newNode.next = head\n",
    "        self.buckets[index] = newNode\n",
    "        self.count += 1\n",
    "        loadFactor = self.count/self.bucket_size\n",
    "        if loadFactor >= 0.7:\n",
    "            self.rehash()\n",
    "        \n",
    "    def remove(self, key):\n",
    "        hc = hah(key)\n",
    "        index = abs(hc) % self.bucket_size\n",
    "        head = self.buckets[index]\n",
    "        prev = None\n",
    "        while head is not None:\n",
    "            if head.key == key:\n",
    "                if not prev:\n",
    "                    self.buckets[index] = head.next\n",
    "                else:\n",
    "                    prev.next = head.next\n",
    "                self.count -= 1\n",
    "                return head.value\n",
    "            prev = head\n",
    "            head = head.next\n",
    "        return None\n",
    "    \n",
    "    def loadFactor(self):\n",
    "        return self.count / self.bucket_size\n",
    "    \n",
    "    def search(self, key):\n",
    "        hc = hash(key)\n",
    "        index = abs(hc) % self.bucket_size\n",
    "        head = self.buckets[index]\n",
    "        while head is not None:\n",
    "            if head.key == key:\n",
    "                return head.value\n",
    "            head = head.next\n",
    "    "
   ]
  },
  {
   "cell_type": "code",
   "execution_count": 8,
   "metadata": {},
   "outputs": [
    {
     "name": "stdout",
     "output_type": "stream",
     "text": [
      "0.2\n",
      "0.4\n",
      "0.6\n",
      "0.4\n",
      "0.5\n",
      "0.6\n",
      "0.35\n",
      "0.4\n",
      "0.45\n",
      "0.5\n",
      "abc0: 1\n",
      "abc1: 2\n",
      "abc2: 3\n",
      "abc3: 4\n",
      "abc4: 5\n",
      "abc5: 6\n",
      "abc6: 7\n",
      "abc7: 8\n",
      "abc8: 9\n",
      "abc9: 10\n"
     ]
    }
   ],
   "source": [
    "m = Map(5)\n",
    "\n",
    "for i in range(10):\n",
    "    m.insert('abc' + str(i), i+1)\n",
    "    print(m.loadFactor())\n",
    "for i in range(10):\n",
    "    print('abc' + str(i)+ ':', m.search('abc' + str(i)))"
   ]
  },
  {
   "cell_type": "code",
   "execution_count": null,
   "metadata": {},
   "outputs": [],
   "source": []
  }
 ],
 "metadata": {
  "kernelspec": {
   "display_name": "Python 3",
   "language": "python",
   "name": "python3"
  },
  "language_info": {
   "codemirror_mode": {
    "name": "ipython",
    "version": 3
   },
   "file_extension": ".py",
   "mimetype": "text/x-python",
   "name": "python",
   "nbconvert_exporter": "python",
   "pygments_lexer": "ipython3",
   "version": "3.7.3"
  }
 },
 "nbformat": 4,
 "nbformat_minor": 2
}
