{
 "cells": [
  {
   "cell_type": "markdown",
   "metadata": {},
   "source": [
    "Problem 1: Extract Unique characters\n",
    "\n",
    "Given a string, you need to remove all the duplicates. That means, the output string should contain each character only once. The respective order of characters should remain same."
   ]
  },
  {
   "cell_type": "code",
   "execution_count": 11,
   "metadata": {},
   "outputs": [
    {
     "name": "stdout",
     "output_type": "stream",
     "text": [
      "Bcr$gw)TcE5S@DHTFw76\n",
      "Bcr$gw)TE5S@DHF76\n"
     ]
    }
   ],
   "source": [
    "def uniqueChars(string):\n",
    "    d = dict()\n",
    "    l = []\n",
    "    for character in string:\n",
    "        d[character] = d.get(character, 0) + 1\n",
    "    for character in d.keys():\n",
    "        l.append(character)\n",
    "    return ''.join(l)\n",
    "\n",
    "# Main\n",
    "string = input()\n",
    "print(uniqueChars(string))\n"
   ]
  },
  {
   "cell_type": "code",
   "execution_count": 12,
   "metadata": {},
   "outputs": [
    {
     "name": "stdout",
     "output_type": "stream",
     "text": [
      "abcde\n",
      "abcde\n"
     ]
    }
   ],
   "source": [
    "def uniqueChars(string):\n",
    "    d = dict()\n",
    "    l = []\n",
    "    for character in string:\n",
    "        if d.get(character, 0) == 0:\n",
    "            l.append(character)\n",
    "        d[character] = d.get(character, 0) + 1\n",
    "        \n",
    "    return ''.join(l)\n",
    "        \n",
    "\n",
    "# Main\n",
    "string = input()\n",
    "print(uniqueChars(string))\n"
   ]
  },
  {
   "cell_type": "markdown",
   "metadata": {},
   "source": [
    "Problem 2: Longest Increasing Subsequence\n",
    "\n",
    "You are given with an array of integers that contain numbers in random order. Write a program to find the longest possible sub sequence of consecutive numbers using the numbers from given array.\n",
    "You need to return the output array which contains consecutive elements. Order of elements in the output is not important.\n",
    "Best solution takes O(n) time.\n",
    "If two arrays are of equal length return the array whose index of smallest element comes first."
   ]
  },
  {
   "cell_type": "code",
   "execution_count": 117,
   "metadata": {},
   "outputs": [
    {
     "name": "stdout",
     "output_type": "stream",
     "text": [
      "10\n",
      "1 2 3 4 5 56 6 4 3 2 1\n",
      "1\n",
      "2\n",
      "3\n",
      "4\n",
      "5\n",
      "6\n"
     ]
    }
   ],
   "source": [
    "\n",
    "def longestConsecutiveSubsequence(l):\n",
    "    d = dict()\n",
    "    maxl = dict()\n",
    "    result = []\n",
    "    for element in l:\n",
    "        d[element] = True\n",
    "    \n",
    "    for element in l:\n",
    "        if d[element]:\n",
    "            start = element\n",
    "            end = element\n",
    "            while start-1 in d:\n",
    "                d[start] = False\n",
    "                start -= 1\n",
    "        \n",
    "            while end+1 in d:\n",
    "                d[end] = False\n",
    "                end += 1\n",
    "            if maxl.get(end-start, 0) == 0:\n",
    "                maxl[end-start] = start\n",
    "\n",
    "    x = max(maxl.keys())\n",
    "    start = maxl[x]\n",
    "    for i in range(start, start+x+1):\n",
    "        result.append(i)\n",
    "    return result\n",
    "        \n",
    "    \n",
    "    \n",
    "n=int(input())\n",
    "l=list(int(i) for i in input().strip().split(' '))\n",
    "final = longestConsecutiveSubsequence(l)\n",
    "for num in final:\n",
    "    print(num)"
   ]
  },
  {
   "cell_type": "markdown",
   "metadata": {},
   "source": [
    "Problem 3: "
   ]
  },
  {
   "cell_type": "code",
   "execution_count": 58,
   "metadata": {},
   "outputs": [
    {
     "name": "stdout",
     "output_type": "stream",
     "text": [
      "5\n",
      "12 23 112 12 -1\n",
      "13\n",
      "-1 12\n",
      "-1 12\n"
     ]
    }
   ],
   "source": [
    "def printPairDiffK(l, k):\n",
    "    d = dict()\n",
    "    # insert elements in hashmap\n",
    "    if not l:\n",
    "        return\n",
    "    for element in l:\n",
    "        d[element] = 1 + d.get(element, 0)\n",
    "\n",
    "    for element in l:\n",
    "        if d.get(element-k, 0) > 0:\n",
    "            d[element] = d.get(element, 0) - 1\n",
    "            for i in range(d.get(element-k, 0)):\n",
    "                x = min(element-k, element)\n",
    "                y = max(element-k, element)\n",
    "                print(x, y)\n",
    "                \n",
    "        if d.get((element+k, 0) > 0:\n",
    "            d[element] = d.get(element, 0) - 1\n",
    "            for i in range(d.get((element+k), 0)):\n",
    "                x = min((element+k), element)\n",
    "                y = max((element+k), element)\n",
    "                print(x, y)\n",
    "            \n",
    "\n",
    "n=int(input())\n",
    "l=list(int(i) for i in input().strip().split(' '))\n",
    "k=int(input())\n",
    "printPairDiffK(l, k)"
   ]
  },
  {
   "cell_type": "markdown",
   "metadata": {},
   "source": [
    "Problem 4: Longest subset zero sum\n",
    "\n",
    "Given an array consisting of positive and negative integers, find the length of the longest continuous subset whose sum is zero.\n",
    "NOTE: You have to return the length of longest subset ."
   ]
  },
  {
   "cell_type": "code",
   "execution_count": 91,
   "metadata": {},
   "outputs": [
    {
     "name": "stdout",
     "output_type": "stream",
     "text": [
      "10\n",
      " 95 -97 -387 -435 -5 -70 897 127 23 284\n",
      "5\n"
     ]
    }
   ],
   "source": [
    "\n",
    "def subsetSum(l, n):\n",
    "    maxl = 0\n",
    "    sum = 0\n",
    "    d = dict()\n",
    "    for i in range(n):\n",
    "        sum += l[i]\n",
    "        if d.get(sum) == None:\n",
    "            d[sum] = i\n",
    "        else:\n",
    "            x = i - d.get(sum)\n",
    "            if x > maxl:\n",
    "                maxl = x\n",
    "    return maxl   \n",
    "\n",
    "\n",
    "n=int(input())\n",
    "l=list(int(i) for i in input().strip().split(' '))\n",
    "finalLen= subsetSum(l, n)\n",
    "print(finalLen)"
   ]
  },
  {
   "cell_type": "code",
   "execution_count": null,
   "metadata": {},
   "outputs": [],
   "source": []
  }
 ],
 "metadata": {
  "kernelspec": {
   "display_name": "Python 3",
   "language": "python",
   "name": "python3"
  },
  "language_info": {
   "codemirror_mode": {
    "name": "ipython",
    "version": 3
   },
   "file_extension": ".py",
   "mimetype": "text/x-python",
   "name": "python",
   "nbconvert_exporter": "python",
   "pygments_lexer": "ipython3",
   "version": "3.7.3"
  }
 },
 "nbformat": 4,
 "nbformat_minor": 2
}
