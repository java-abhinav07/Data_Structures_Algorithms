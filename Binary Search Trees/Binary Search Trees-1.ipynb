{
 "cells": [
  {
   "cell_type": "markdown",
   "metadata": {},
   "source": [
    "# Search in BST"
   ]
  },
  {
   "cell_type": "markdown",
   "metadata": {},
   "source": [
    "\n",
    "Given a BST and an integer k. Find if the integer k is present in given BST or not. Return the node with data k if it is present, return null otherwise.\n",
    "Assume that BST contains all unique elements."
   ]
  },
  {
   "cell_type": "code",
   "execution_count": 1,
   "metadata": {},
   "outputs": [
    {
     "name": "stdout",
     "output_type": "stream",
     "text": [
      "8 5 10 2 6 -1 -1 -1 -1 -1 7 -1 -1\n",
      "10\n",
      "10\n"
     ]
    }
   ],
   "source": [
    "import queue\n",
    "class BinaryTreeNode:\n",
    "    def __init__(self, data):\n",
    "        self.data = data\n",
    "        self.left = None\n",
    "        self.right = None\n",
    "\n",
    "def searchInBST(root, k):\n",
    "    if not root:\n",
    "        return \n",
    "    if root.data == k:\n",
    "        return root\n",
    "    elif root.data > k:\n",
    "        return searchInBST(root.left, k)\n",
    "    elif root.data < k:\n",
    "        return searchInBST(root.right, k)\n",
    "    \n",
    "\n",
    "def buildLevelTree(levelorder):\n",
    "    index = 0\n",
    "    length = len(levelorder)\n",
    "    if length<=0 or levelorder[0]==-1:\n",
    "        return None\n",
    "    root = BinaryTreeNode(levelorder[index])\n",
    "    index += 1\n",
    "    q = queue.Queue()\n",
    "    q.put(root)\n",
    "    while not q.empty():\n",
    "        currentNode = q.get()\n",
    "        leftChild = levelorder[index]\n",
    "        index += 1\n",
    "        if leftChild != -1:\n",
    "            leftNode = BinaryTreeNode(leftChild)\n",
    "            currentNode.left =leftNode\n",
    "            q.put(leftNode)\n",
    "        rightChild = levelorder[index]\n",
    "        index += 1\n",
    "        if rightChild != -1:\n",
    "            rightNode = BinaryTreeNode(rightChild)\n",
    "            currentNode.right =rightNode\n",
    "            q.put(rightNode)\n",
    "    return root\n",
    "\n",
    "# Main\n",
    "levelOrder = [int(i) for i in input().strip().split()]\n",
    "root = buildLevelTree(levelOrder)\n",
    "k=int(input())\n",
    "node=searchInBST(root, k)\n",
    "if node:\n",
    "    print(node.data)\n"
   ]
  },
  {
   "cell_type": "markdown",
   "metadata": {},
   "source": [
    "# Elements between K1 and K2"
   ]
  },
  {
   "cell_type": "markdown",
   "metadata": {},
   "source": [
    "Elements Between K1 and K2\n",
    "\n",
    "Given a Binary Search Tree and two integers k1 and k2, find and print the elements which are in range k1 and k2 (both inclusive).\n",
    "Print the elements in increasing order."
   ]
  },
  {
   "cell_type": "code",
   "execution_count": 2,
   "metadata": {},
   "outputs": [
    {
     "name": "stdout",
     "output_type": "stream",
     "text": [
      "8 5 10 2 6 -1 -1 -1 -1 -1 7 -1 -1 \n",
      "6 10\n",
      "6 7 8 10 "
     ]
    }
   ],
   "source": [
    "import queue\n",
    "class BinaryTreeNode:\n",
    "    def __init__(self, data):\n",
    "        self.data = data\n",
    "        self.left = None\n",
    "        self.right = None\n",
    "\n",
    "def elementsInRangeK1K2(root, k1, k2):\n",
    "    # Given a Binary Search Tree and two integers k1 and k2, find and print the\n",
    "    # elements which are in range k1 and k2 (both inclusive). Print the elements\n",
    "    # in increasing order.\n",
    "    if not root:\n",
    "        return\n",
    "    if root.data > k2:\n",
    "        elementsInRangeK1K2(root.left, k1, k2)\n",
    "    elif k1 <= root.data <= k2:\n",
    "        elementsInRangeK1K2(root.left, k1, k2)\n",
    "        print(root.data, end=\" \")\n",
    "        elementsInRangeK1K2(root.right, k1, k2)\n",
    "    elif root.data < k1:\n",
    "        elementsInRangeK1K2(root.right, k1, k2)\n",
    "\n",
    "def buildLevelTree(levelorder):\n",
    "    index = 0\n",
    "    length = len(levelorder)\n",
    "    if length<=0 or levelorder[0]==-1:\n",
    "        return None\n",
    "    root = BinaryTreeNode(levelorder[index])\n",
    "    index += 1\n",
    "    q = queue.Queue()\n",
    "    q.put(root)\n",
    "    while not q.empty():\n",
    "        currentNode = q.get()\n",
    "        leftChild = levelorder[index]\n",
    "        index += 1\n",
    "        if leftChild != -1:\n",
    "            leftNode = BinaryTreeNode(leftChild)\n",
    "            currentNode.left =leftNode\n",
    "            q.put(leftNode)\n",
    "        rightChild = levelorder[index]\n",
    "        index += 1\n",
    "        if rightChild != -1:\n",
    "            rightNode = BinaryTreeNode(rightChild)\n",
    "            currentNode.right =rightNode\n",
    "            q.put(rightNode)\n",
    "    return root\n",
    "\n",
    "# Main\n",
    "levelOrder = [int(i) for i in input().strip().split()]\n",
    "root = buildLevelTree(levelOrder)\n",
    "k1, k2 = (int(i) for i in input().strip().split())\n",
    "elementsInRangeK1K2(root, k1, k2)\n"
   ]
  },
  {
   "cell_type": "markdown",
   "metadata": {},
   "source": [
    "# Construct BST"
   ]
  },
  {
   "cell_type": "markdown",
   "metadata": {},
   "source": [
    "Construct BST\n",
    "\n",
    "Given a sorted integer array A of size n which contains all unique elements. You need to construct a balanced BST from this input array. Return the root of constructed BST.\n",
    "Note : If array size is even, take first mid as root."
   ]
  },
  {
   "cell_type": "code",
   "execution_count": 4,
   "metadata": {},
   "outputs": [
    {
     "name": "stdout",
     "output_type": "stream",
     "text": [
      "7\n",
      "1 2 3 4 5 6 7\n",
      "4 2 1 3 6 5 7 "
     ]
    }
   ],
   "source": [
    "import queue\n",
    "class BinaryTreeNode:\n",
    "    def __init__(self, data):\n",
    "        self.data = data\n",
    "        self.left = None\n",
    "        self.right = None\n",
    "\n",
    "def constructBST(lst, n):\n",
    "    # Given a sorted integer array A of size n which contains all unique\n",
    "    # elements. You need to construct a balanced BST from this input array.\n",
    "    # Return the root of constructed BST. If array size is even, take first mid\n",
    "    # as root.\n",
    "    if not lst:\n",
    "        return \n",
    "    if n % 2 != 0:\n",
    "        root = BinaryTreeNode(lst[n//2])\n",
    "        root.left = constructBST(lst[:n//2], n//2)\n",
    "        root.right = constructBST(lst[n//2+1:], n - n//2 - 1)\n",
    "    else:\n",
    "        root = BinaryTreeNode(lst[n//2-1])\n",
    "        root.left = constructBST(lst[:n//2-1], n//2-1)\n",
    "        root.right = constructBST(lst[n//2:], n//2)\n",
    " \n",
    "    return root\n",
    "    \n",
    "\n",
    "def preOrder(root):\n",
    "    # Given a binary tree, print the preorder traversal of given tree. Pre-order\n",
    "    # traversal is: Root LeftChild RightChild\n",
    "    if root==None:\n",
    "        return\n",
    "    print(root.data, end=' ')\n",
    "    preOrder(root.left)\n",
    "    preOrder(root.right)\n",
    "\n",
    "# Main\n",
    "n=int(input())\n",
    "lst=[int(i) for i in input().strip().split()]\n",
    "root=constructBST(lst, n)\n",
    "preOrder(root)\n"
   ]
  },
  {
   "cell_type": "markdown",
   "metadata": {},
   "source": [
    "# Check is BST"
   ]
  },
  {
   "cell_type": "code",
   "execution_count": 15,
   "metadata": {},
   "outputs": [
    {
     "name": "stdout",
     "output_type": "stream",
     "text": [
      "8 2 19 4 1 15 21 -1 -1 -1 -1 -1 -1 -1 -1\n",
      "(21, 1)\n",
      "False\n"
     ]
    }
   ],
   "source": [
    "import queue\n",
    "class BinaryTreeNode:\n",
    "    def __init__(self, data):\n",
    "        self.data = data\n",
    "        self.left = None\n",
    "        self.right = None\n",
    "\n",
    "\n",
    "def maxmin(root):\n",
    "    if not root:\n",
    "        return 0, 0\n",
    "    if not root.left and not root.right:\n",
    "        return root.data, root.data\n",
    "    maxleft, minleft = maxmin(root.left)\n",
    "    maxright, minright = maxmin(root.right)\n",
    "    return (max(maxleft, maxright, root.data), min(minleft, minright, root.data))\n",
    "\n",
    "\n",
    "def checkBST(root):\n",
    "    if not root or not root.left and not root.right:\n",
    "        return True\n",
    "    maxleft, minlwft = maxmin(root.left)\n",
    "    maxrifht, minright = maxmin(root.right)\n",
    "    if root.data > maxleft and root.data <= minright:\n",
    "        return checkBST(root.left) and checkBST(root.right)\n",
    "    return False\n",
    "\n",
    "def buildLevelTree(levelorder):\n",
    "    index = 0\n",
    "    length = len(levelorder)\n",
    "    if length<=0 or levelorder[0]==-1:\n",
    "        return None\n",
    "    root = BinaryTreeNode(levelorder[index])\n",
    "    index += 1\n",
    "    q = queue.Queue()\n",
    "    q.put(root)\n",
    "    while not q.empty():\n",
    "        currentNode = q.get()\n",
    "        leftChild = levelorder[index]\n",
    "        index += 1\n",
    "        if leftChild != -1:\n",
    "            leftNode = BinaryTreeNode(leftChild)\n",
    "            currentNode.left =leftNode\n",
    "            q.put(leftNode)\n",
    "        rightChild = levelorder[index]\n",
    "        index += 1\n",
    "        if rightChild != -1:\n",
    "            rightNode = BinaryTreeNode(rightChild)\n",
    "            currentNode.right =rightNode\n",
    "            q.put(rightNode)\n",
    "    return root\n",
    "\n",
    "# Main\n",
    "levelOrder = [int(i) for i in input().strip().split()]\n",
    "root = buildLevelTree(levelOrder)\n",
    "print(checkBST(root))\n",
    "    "
   ]
  },
  {
   "cell_type": "markdown",
   "metadata": {},
   "source": [
    "The above solution's time complexity analysis:\n",
    "if the tree is not skwed the rec relation is --> T(n) = 2T(n/2) + O(n) --> O(n) for max and min, and twice of the same work on left and right side resulting in O(nlogn) work\n",
    "if the tree is skewed on the other hand then rec relation is --> T(n) = T(n-1) + O(n) --> yielding O(n^2) work"
   ]
  },
  {
   "cell_type": "code",
   "execution_count": 19,
   "metadata": {},
   "outputs": [
    {
     "name": "stdout",
     "output_type": "stream",
     "text": [
      "4 2 1 -1 -1 -1 -1\n",
      "(1, 4, False)\n"
     ]
    }
   ],
   "source": [
    "# better approach\n",
    "import queue\n",
    "class BinaryTreeNode:\n",
    "    def __init__(self, data):\n",
    "        self.data = data\n",
    "        self.left = None\n",
    "        self.right = None\n",
    "\n",
    "\n",
    "def checkBST(root):\n",
    "    if not root:\n",
    "        return True, 100000, -100000\n",
    "    isleft, minleft, maxleft = checkBST(root.left)\n",
    "    isright, minright, maxright = checkBST(root.right)\n",
    "    mini = min(minleft, minright, root.data)\n",
    "    maxi = max(maxright, maxleft, root.data)\n",
    "    \n",
    "    isTreeBST = True\n",
    "    if root.data <= maxleft or root.data > minright:\n",
    "        isTreeBST = False\n",
    "    if not isleft or not isright:\n",
    "        isTreeBST = False\n",
    "    return mini, maxi, isTreeBST\n",
    "\n",
    "def buildLevelTree(levelorder):\n",
    "    index = 0\n",
    "    length = len(levelorder)\n",
    "    if length<=0 or levelorder[0]==-1:\n",
    "        return None\n",
    "    root = BinaryTreeNode(levelorder[index])\n",
    "    index += 1\n",
    "    q = queue.Queue()\n",
    "    q.put(root)\n",
    "    while not q.empty():\n",
    "        currentNode = q.get()\n",
    "        leftChild = levelorder[index]\n",
    "        index += 1\n",
    "        if leftChild != -1:\n",
    "            leftNode = BinaryTreeNode(leftChild)\n",
    "            currentNode.left =leftNode\n",
    "            q.put(leftNode)\n",
    "        rightChild = levelorder[index]\n",
    "        index += 1\n",
    "        if rightChild != -1:\n",
    "            rightNode = BinaryTreeNode(rightChild)\n",
    "            currentNode.right =rightNode\n",
    "            q.put(rightNode)\n",
    "    return root\n",
    "\n",
    "# Main\n",
    "levelOrder = [int(i) for i in input().strip().split()]\n",
    "root = buildLevelTree(levelOrder)\n",
    "print(checkBST(root))\n",
    "    "
   ]
  },
  {
   "cell_type": "code",
   "execution_count": 24,
   "metadata": {},
   "outputs": [],
   "source": [
    "# Another solution \n",
    "def isBST(root, minrange, maxrange):\n",
    "    if not root:\n",
    "        return True\n",
    "    if maxrange<root.data<minrange:\n",
    "        return False\n",
    "    isLeft = isBST(root.left, minrange, root.data-1)\n",
    "    isRight = isBST(root.right, root.data, maxrange)\n",
    "    return isLeft and isRight"
   ]
  },
  {
   "cell_type": "code",
   "execution_count": 25,
   "metadata": {},
   "outputs": [
    {
     "name": "stdout",
     "output_type": "stream",
     "text": [
      "4 1 2 6 7 -1 -1 -1 -1 -1 -1 -1 -1\n",
      "True\n"
     ]
    }
   ],
   "source": [
    "# Main\n",
    "levelOrder = [int(i) for i in input().strip().split()]\n",
    "root = buildLevelTree(levelOrder)\n",
    "print(isBST(root, -1000000, 10000000))\n",
    "    "
   ]
  },
  {
   "cell_type": "code",
   "execution_count": null,
   "metadata": {},
   "outputs": [],
   "source": []
  }
 ],
 "metadata": {
  "kernelspec": {
   "display_name": "Python 3",
   "language": "python",
   "name": "python3"
  },
  "language_info": {
   "codemirror_mode": {
    "name": "ipython",
    "version": 3
   },
   "file_extension": ".py",
   "mimetype": "text/x-python",
   "name": "python",
   "nbconvert_exporter": "python",
   "pygments_lexer": "ipython3",
   "version": "3.7.3"
  }
 },
 "nbformat": 4,
 "nbformat_minor": 2
}
