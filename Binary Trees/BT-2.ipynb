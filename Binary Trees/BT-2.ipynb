{
 "cells": [
  {
   "cell_type": "markdown",
   "metadata": {},
   "source": [
    "# Remove Leaf Nodes\n"
   ]
  },
  {
   "cell_type": "code",
   "execution_count": null,
   "metadata": {},
   "outputs": [],
   "source": [
    "class BTNode:\n",
    "    \n",
    "    def __init__(self, data):\n",
    "        self.data = data\n",
    "        self.left = None # child1\n",
    "        self.right = None # child 2\n",
    "    "
   ]
  },
  {
   "cell_type": "code",
   "execution_count": null,
   "metadata": {},
   "outputs": [],
   "source": [
    "def printTree(root):\n",
    "    if root == None:\n",
    "        return\n",
    "    print(root.data, end = \":\")\n",
    "    if root.left != None:\n",
    "        print(\"L\", root.left.data, end = ',')\n",
    "    if root.right != None:\n",
    "        print(\"R\", root.right.data, end = \"\")\n",
    "    print()\n",
    "    printTree(root.right)\n",
    "    printTree(root.left)\n",
    "    "
   ]
  },
  {
   "cell_type": "code",
   "execution_count": null,
   "metadata": {},
   "outputs": [],
   "source": [
    "def treeInput():\n",
    "    rootData = int(input())\n",
    "    if rootData == -1:\n",
    "        return None\n",
    "    root = BTNode(rootData)\n",
    "    leftTree = treeInput()\n",
    "    rightTree = treeInput()\n",
    "    root.left = leftTree\n",
    "    root.right = rightTree\n",
    "    return root\n",
    "    \n",
    "    "
   ]
  },
  {
   "cell_type": "code",
   "execution_count": null,
   "metadata": {},
   "outputs": [],
   "source": [
    "def delLeaf(root):\n",
    "    if not root:\n",
    "        return\n",
    "    if not root.right and not root.left:\n",
    "        root = None\n",
    "        return\n",
    "    if root.left:\n",
    "        if not root.left.left and not root.left.right:\n",
    "            root.left = None\n",
    "    if root.right:\n",
    "        if not root.right.right and not root.right.left:\n",
    "            root.right = None\n",
    "    if root.left:\n",
    "        delLeaf(root.left)\n",
    "    if root.right:\n",
    "        delLeaf(root.right)\n",
    "        "
   ]
  },
  {
   "cell_type": "code",
   "execution_count": null,
   "metadata": {},
   "outputs": [],
   "source": [
    "root = treeInput()\n",
    "printTree(root)"
   ]
  },
  {
   "cell_type": "code",
   "execution_count": null,
   "metadata": {},
   "outputs": [],
   "source": [
    "root = treeInput()\n",
    "printTree(root)\n",
    "delLeaf(root)\n",
    "printTree(root)"
   ]
  },
  {
   "cell_type": "code",
   "execution_count": null,
   "metadata": {},
   "outputs": [],
   "source": [
    "def removeleaf(root):\n",
    "    if root == None:\n",
    "        return None\n",
    "    if not root.left and not root.right:\n",
    "        return None\n",
    "    root.left = removeleaf(root.left)\n",
    "    root.right = removeleaf(root.right)\n",
    "    return root"
   ]
  },
  {
   "cell_type": "markdown",
   "metadata": {},
   "source": [
    "Problem: Mirror Binary Tree\n",
    "\n",
    "Mirror the given binary tree. That is, right child of every nodes should become left and left should become right."
   ]
  },
  {
   "cell_type": "code",
   "execution_count": null,
   "metadata": {},
   "outputs": [],
   "source": [
    "import queue\n",
    "class BinaryTreeNode:\n",
    "    def __init__(self, data):\n",
    "        self.data = data\n",
    "        self.left = None\n",
    "        self.right = None\n",
    "\n",
    "def mirrorBinaryTree(root):\n",
    "    if not root:\n",
    "        return\n",
    "    mirrorBinaryTree(root.left)\n",
    "    mirrorBinaryTree(root.right)\n",
    "    leftbranch = root.left\n",
    "    root.left = root.right\n",
    "    root.right = leftbranch\n",
    "    \n",
    "    \n",
    "    \n",
    "    \n",
    "def buildLevelTree(levelorder):\n",
    "    index = 0\n",
    "    length = len(levelorder)\n",
    "    if length<=0 or levelorder[0]==-1:\n",
    "        return None\n",
    "    root = BinaryTreeNode(levelorder[index])\n",
    "    index += 1\n",
    "    q = queue.Queue()\n",
    "    q.put(root)\n",
    "    while not q.empty():\n",
    "        currentNode = q.get()\n",
    "        leftChild = levelorder[index]\n",
    "        index += 1\n",
    "        if leftChild != -1:\n",
    "            leftNode = BinaryTreeNode(leftChild)\n",
    "            currentNode.left =leftNode\n",
    "            q.put(leftNode)\n",
    "        rightChild = levelorder[index]\n",
    "        index += 1\n",
    "        if rightChild != -1:\n",
    "            rightNode = BinaryTreeNode(rightChild)\n",
    "            currentNode.right =rightNode\n",
    "            q.put(rightNode)\n",
    "    return root\n",
    "\n",
    "# Problem ID 353, Level order traversal\n",
    "def printLevelATNewLine(root):\n",
    "    # Given a binary tree, print the level order traversal. Make sure each level\n",
    "    # start in new line.\n",
    "    if root==None:\n",
    "        return\n",
    "    inputQ = queue.Queue()\n",
    "    outputQ = queue.Queue()\n",
    "    inputQ.put(root)\n",
    "    while not inputQ.empty():\n",
    "        while not inputQ.empty():\n",
    "            curr = inputQ.get()\n",
    "            print(curr.data, end=' ')\n",
    "            if curr.left!=None:\n",
    "                outputQ.put(curr.left)\n",
    "            if curr.right!=None:\n",
    "                outputQ.put(curr.right)\n",
    "        print()\n",
    "        inputQ, outputQ = outputQ, inputQ\n",
    "\n",
    "# Main\n",
    "levelOrder = [int(i) for i in input().strip().split()]\n",
    "root = buildLevelTree(levelOrder)\n",
    "mirrorBinaryTree(root)\n",
    "printLevelATNewLine(root)\n"
   ]
  },
  {
   "cell_type": "markdown",
   "metadata": {},
   "source": [
    "# Check if balanced"
   ]
  },
  {
   "cell_type": "code",
   "execution_count": null,
   "metadata": {},
   "outputs": [],
   "source": [
    "def getheight(root):\n",
    "    if not root:\n",
    "        return 0\n",
    "    return 1 + max(getheight(root.left), getheight(root.right))\n",
    "    \n",
    "def balanced(root):\n",
    "    if not root:\n",
    "        return True\n",
    "    if abs(getheight(root.left) - getheight(root.right)) > 1:\n",
    "        return False\n",
    "    balanced(root.left)\n",
    "    balanced(root.right)\n",
    "    return True"
   ]
  },
  {
   "cell_type": "code",
   "execution_count": null,
   "metadata": {},
   "outputs": [],
   "source": [
    "root = treeInput()\n",
    "printTree(root)\n",
    "balanced(root)"
   ]
  },
  {
   "cell_type": "markdown",
   "metadata": {},
   "source": [
    "Time complexity of the above approach is O(n^2) since getheight makes multiple calls to height, that is for each iteration."
   ]
  },
  {
   "cell_type": "code",
   "execution_count": null,
   "metadata": {},
   "outputs": [],
   "source": [
    "# Better Approach O(n)\n",
    "def isBalanced(root):\n",
    "    if not root:\n",
    "        return 0, True\n",
    "    lh, isLeftBalanced = isBalanced(root.left)\n",
    "    rh, isRightBalanced = isBalanced(root.right)\n",
    "    \n",
    "    h = 1 + max(lh, rh)\n",
    "    if abs(lh-rh) > 1:\n",
    "        return h, False\n",
    "    if isLeftBalanced and isRightBalanced:\n",
    "        return h, True\n",
    "    else:\n",
    "        return h, False"
   ]
  },
  {
   "cell_type": "code",
   "execution_count": null,
   "metadata": {},
   "outputs": [],
   "source": [
    "root = treeInput()\n",
    "printTree(root)\n",
    "isBalanced(root)"
   ]
  },
  {
   "cell_type": "markdown",
   "metadata": {},
   "source": [
    "Problem: Diameter Of Binary Tree\n",
    "\n",
    "Given a Binary Tree, find and return the diameter of input binary tree.\n",
    "Diameter is - largest count of nodes between any two leaf nodes in the binary tree (both the leaf nodes are inclusive)."
   ]
  },
  {
   "cell_type": "code",
   "execution_count": 1,
   "metadata": {},
   "outputs": [
    {
     "name": "stdout",
     "output_type": "stream",
     "text": [
      "8 3 10 1 6 -1 14 -1 -1 4 7 13 -1 -1 -1 -1 -1 -1 -1\n",
      "7\n"
     ]
    }
   ],
   "source": [
    "# inefficient method\n",
    "\n",
    "import queue\n",
    "class BinaryTreeNode:\n",
    "    def __init__(self, data):\n",
    "        self.data = data\n",
    "        self.left = None\n",
    "        self.right = None\n",
    "\n",
    "def height(root):\n",
    "    if not root:\n",
    "        return 0\n",
    "    return 1 + max(height(root.left), height(root.right))\n",
    "\n",
    "def diameter(root):\n",
    "    if not root:\n",
    "        return 0\n",
    "    leftheight = height(root.left)\n",
    "    rightheight = height(root.right)\n",
    "    return max(leftheight + rightheight + 1, diameter(root.left), diameter(root.right))\n",
    "    \n",
    "\n",
    "def buildLevelTree(levelorder):\n",
    "    index = 0\n",
    "    length = len(levelorder)\n",
    "    if length<=0 or levelorder[0]==-1:\n",
    "        return None\n",
    "    root = BinaryTreeNode(levelorder[index])\n",
    "    index += 1\n",
    "    q = queue.Queue()\n",
    "    q.put(root)\n",
    "    while not q.empty():\n",
    "        currentNode = q.get()\n",
    "        leftChild = levelorder[index]\n",
    "        index += 1\n",
    "        if leftChild != -1:\n",
    "            leftNode = BinaryTreeNode(leftChild)\n",
    "            currentNode.left =leftNode\n",
    "            q.put(leftNode)\n",
    "        rightChild = levelorder[index]\n",
    "        index += 1\n",
    "        if rightChild != -1:\n",
    "            rightNode = BinaryTreeNode(rightChild)\n",
    "            currentNode.right =rightNode\n",
    "            q.put(rightNode)\n",
    "    return root\n",
    "\n",
    "# Main\n",
    "levelOrder = [int(i) for i in input().strip().split()]\n",
    "root = buildLevelTree(levelOrder)\n",
    "print(diameter(root))\n"
   ]
  },
  {
   "cell_type": "code",
   "execution_count": 2,
   "metadata": {},
   "outputs": [
    {
     "name": "stdout",
     "output_type": "stream",
     "text": [
      "8 3 10 1 6 -1 14 -1 -1 4 7 13 -1 -1 -1 -1 -1 -1 -1\n",
      "7\n"
     ]
    }
   ],
   "source": [
    "# better method\n",
    "import queue\n",
    "class BinaryTreeNode:\n",
    "    def __init__(self, data):\n",
    "        self.data = data\n",
    "        self.left = None\n",
    "        self.right = None\n",
    "\n",
    "def diameter(root):\n",
    "    dia, dpth = diameterhelper(root)\n",
    "    return dia\n",
    "\n",
    "def diameterhelper(root):\n",
    "    dia, depth = 0, 0\n",
    "    if not root:\n",
    "        return dia, depth\n",
    "    leftdia, leftheight = diameterhelper(root.left)\n",
    "    rightdia, rightheight = diameterhelper(root.right)\n",
    "    depth = 1 + max(leftheight, rightheight) # real depth\n",
    "    dia = max(leftdia, rightdia, leftheight+rightheight+1)\n",
    "    return dia, depth\n",
    "    \n",
    "\n",
    "def buildLevelTree(levelorder):\n",
    "    index = 0\n",
    "    length = len(levelorder)\n",
    "    if length<=0 or levelorder[0]==-1:\n",
    "        return None\n",
    "    root = BinaryTreeNode(levelorder[index])\n",
    "    index += 1\n",
    "    q = queue.Queue()\n",
    "    q.put(root)\n",
    "    while not q.empty():\n",
    "        currentNode = q.get()\n",
    "        leftChild = levelorder[index]\n",
    "        index += 1\n",
    "        if leftChild != -1:\n",
    "            leftNode = BinaryTreeNode(leftChild)\n",
    "            currentNode.left =leftNode\n",
    "            q.put(leftNode)\n",
    "        rightChild = levelorder[index]\n",
    "        index += 1\n",
    "        if rightChild != -1:\n",
    "            rightNode = BinaryTreeNode(rightChild)\n",
    "            currentNode.right =rightNode\n",
    "            q.put(rightNode)\n",
    "    return root\n",
    "\n",
    "# Main\n",
    "levelOrder = [int(i) for i in input().strip().split()]\n",
    "root = buildLevelTree(levelOrder)\n",
    "print(diameter(root))\n"
   ]
  },
  {
   "cell_type": "markdown",
   "metadata": {},
   "source": [
    "# Levelwise Input Binary Tree"
   ]
  },
  {
   "cell_type": "code",
   "execution_count": 9,
   "metadata": {},
   "outputs": [
    {
     "name": "stdout",
     "output_type": "stream",
     "text": [
      "8 3 10 1 6 -1 14 -1 -1 4 7 13 -1 -1 -1 -1 -1 -1 -1\n"
     ]
    }
   ],
   "source": [
    "import queue\n",
    "class BinaryTreeNode:\n",
    "    def __init__(self, data):\n",
    "        self.data = data\n",
    "        self.left = None\n",
    "        self.right = None\n",
    "        \n",
    "def buildLevelTree(levelorder):\n",
    "    q = queue.Queue()\n",
    "    index = 0\n",
    "    length = len(levelorder)\n",
    "    if length<=0 or levelorder[0]==-1:\n",
    "        return None\n",
    "    root = BinaryTreeNode(levelorder[index])\n",
    "    q.put(root)\n",
    "    index += 1\n",
    "    while not q.empty():\n",
    "        cursor = q.get()\n",
    "        leftchild = levelorder[index]\n",
    "        if leftchild != -1:\n",
    "            leftnode = BinaryTreeNode(leftchild)\n",
    "            cursor.left = leftnode\n",
    "            q.put(leftnode)\n",
    "        rightchild = levelorder[index]\n",
    "        index += 1\n",
    "        if rightchild != -1:\n",
    "            rightnode = BinaryTreeNode(rightchild)\n",
    "            cursor.right = rightnode\n",
    "            q.put(rightnode)\n",
    "            \n",
    "    return root\n",
    "            \n",
    "# Main\n",
    "levelOrder = [int(i) for i in input().strip().split()]\n",
    "root = buildLevelTree(levelOrder)            \n",
    "            "
   ]
  },
  {
   "cell_type": "markdown",
   "metadata": {},
   "source": [
    "# Print Levelwise"
   ]
  },
  {
   "cell_type": "markdown",
   "metadata": {},
   "source": [
    "Print Levelwise\n",
    "\n",
    "\n",
    "Given a binary tree, print the tree in level wise order.\n",
    "For printing a node with data N, you need to follow the exact format -\n",
    "N:L:x,R:y\n",
    "wherer, N is data of any node present in the binary tree. x and y are the values of left and right child of node N. Print -1. if any child is null.\n",
    "There is no space in between."
   ]
  },
  {
   "cell_type": "code",
   "execution_count": 10,
   "metadata": {},
   "outputs": [
    {
     "name": "stdout",
     "output_type": "stream",
     "text": [
      "8 3 10 1 6 -1 14 -1 -1 4 7 13 -1 -1 -1 -1 -1 -1 -1\n",
      "8 : L: 3 , R: 10\n",
      "3 : L: 1 , R: 6\n",
      "10 : L: -1 , R: 14\n",
      "1 : L: -1 , R: -1\n",
      "6 : L: 4 , R: 7\n",
      "14 : L: 13 , R: -1\n",
      "4 : L: -1 , R: -1\n",
      "7 : L: -1 , R: -1\n",
      "13 : L: -1 , R: -1\n"
     ]
    }
   ],
   "source": [
    "import queue\n",
    "class BinaryTreeNode:\n",
    "    def __init__(self, data):\n",
    "        self.data = data\n",
    "        self.left = None\n",
    "        self.right = None\n",
    "\n",
    "def printLevelWise(root):\n",
    "    # Given a binary tree, print the tree in level wise order. For printing\n",
    "    # a node with data N, you need to follow the exact format: \n",
    "    # N:L:x,R:y\n",
    "    # wherer, N is data of any node present in the binary tree. x and y are the\n",
    "    # values of left and right child of node N. Print -1. if any child is null.\n",
    "    # There is no space in between. You need to print all nodes in the level\n",
    "    # order form in different lines.\n",
    "    q = queue.Queue()\n",
    "    q.put(root)\n",
    "    \n",
    "    while not q.empty():\n",
    "        cursor = q.get()\n",
    "        if cursor.left:\n",
    "            q.put(cursor.left)\n",
    "            left = cursor.left.data\n",
    "        else:\n",
    "            left = -1\n",
    "        if cursor.right:\n",
    "            q.put(cursor.right)\n",
    "            right = cursor.right.data\n",
    "        else:\n",
    "            right = -1\n",
    "        print(str(cursor.data) + \":\" + \"L:\" + str(left) + \",\" + \"R:\" + str(right))\n",
    "\n",
    "        \n",
    "def buildLevelTree(levelorder):\n",
    "    index = 0\n",
    "    length = len(levelorder)\n",
    "    if length<=0 or levelorder[0]==-1:\n",
    "        return None\n",
    "    root = BinaryTreeNode(levelorder[index])\n",
    "    index += 1\n",
    "    q = queue.Queue()\n",
    "    q.put(root)\n",
    "    while not q.empty():\n",
    "        currentNode = q.get()\n",
    "        leftChild = levelorder[index]\n",
    "        index += 1\n",
    "        if leftChild != -1:\n",
    "            leftNode = BinaryTreeNode(leftChild)\n",
    "            currentNode.left =leftNode\n",
    "            q.put(leftNode)\n",
    "        rightChild = levelorder[index]\n",
    "        index += 1\n",
    "        if rightChild != -1:\n",
    "            rightNode = BinaryTreeNode(rightChild)\n",
    "            currentNode.right =rightNode\n",
    "            q.put(rightNode)\n",
    "    return root\n",
    "\n",
    "# Main \n",
    "levelOrder = [int(i) for i in input().strip().split()]\n",
    "root = buildLevelTree(levelOrder)\n",
    "printLevelWise(root)\n"
   ]
  },
  {
   "cell_type": "markdown",
   "metadata": {},
   "source": [
    "# Binary Tree build using in order and pre order"
   ]
  },
  {
   "cell_type": "code",
   "execution_count": 2,
   "metadata": {},
   "outputs": [
    {
     "name": "stdout",
     "output_type": "stream",
     "text": [
      "12\n",
      "1 2 3 4 15 5 6 7 8 10 9 12\n",
      "4 15 3 2 5 1 6 10 8 7 9 12\n",
      "1 \n",
      "2 6 \n",
      "3 5 7 \n",
      "4 8 9 \n",
      "15 10 12 \n"
     ]
    }
   ],
   "source": [
    "import queue\n",
    "class BinaryTreeNode:\n",
    "    def __init__(self, data):\n",
    "        self.data = data\n",
    "        self.left = None\n",
    "        self.right = None\n",
    "\n",
    "def buildTreePreOrder(preorder, inorder):\n",
    "    # Given Preorder and Inorder traversal of a binary tree, create the binary\n",
    "    # tree associated with the traversals.You just need to construct the tree\n",
    "    # and return the root. \n",
    "    if not preorder:\n",
    "        return\n",
    "    root = BinaryTreeNode(preorder[0])\n",
    "    pivot = inorder.index(root.data)\n",
    "    leftin = inorder[:pivot]\n",
    "    rightin = inorder[pivot+1:]\n",
    "    leftpre = preorder[1:pivot+1]\n",
    "    rightpre = preorder[pivot+1:]\n",
    "    leftsubtree = buildTreePreOrder(leftpre, leftin)\n",
    "    rightsubtree = buildTreePreOrder(rightpre, rightin)\n",
    "    root.left = leftsubtree\n",
    "    root.right = rightsubtree\n",
    "    return root\n",
    "    \n",
    "    \n",
    "\n",
    "def printLevelATNewLine(root):\n",
    "    # Given a binary tree, print the level order traversal. Make sure each level\n",
    "    # start in new line.\n",
    "    if root==None:\n",
    "        return\n",
    "    inputQ = queue.Queue()\n",
    "    outputQ = queue.Queue()\n",
    "    inputQ.put(root)\n",
    "    while not inputQ.empty():\n",
    "        while not inputQ.empty():\n",
    "            curr = inputQ.get()\n",
    "            print(curr.data, end=' ')\n",
    "            if curr.left!=None:\n",
    "                outputQ.put(curr.left)\n",
    "            if curr.right!=None:\n",
    "                outputQ.put(curr.right)\n",
    "        print()\n",
    "        inputQ, outputQ = outputQ, inputQ\n",
    "\n",
    "# Main\n",
    "n=int(input())\n",
    "preorder = [int(i) for i in input().strip().split()]\n",
    "inorder = [int(i) for i in input().strip().split()]\n",
    "root = buildTreePreOrder(preorder, inorder)\n",
    "printLevelATNewLine(root)\n"
   ]
  },
  {
   "cell_type": "markdown",
   "metadata": {},
   "source": [
    "# Binary Tree Build using Post Order and Inorder"
   ]
  },
  {
   "cell_type": "code",
   "execution_count": 9,
   "metadata": {},
   "outputs": [
    {
     "name": "stdout",
     "output_type": "stream",
     "text": [
      "8\n",
      "8 4 5 2 6 7 3 1\n",
      "4 8 2 5 1 6 3 7\n",
      "1 \n",
      "2 3 \n",
      "4 5 6 7 \n",
      "8 \n"
     ]
    }
   ],
   "source": [
    "import queue\n",
    "class BinaryTreeNode:\n",
    "    def __init__(self, data):\n",
    "        self.data = data\n",
    "        self.left = None\n",
    "        self.right = None\n",
    "\n",
    "def buildTreePostOrder(postorder, inorder):\n",
    "    # Given Postorder and Inorder traversal of a binary tree, create the binary\n",
    "    # tree associated with the traversals.You just need to construct the tree\n",
    "    # and return the root. For 8 Nodes with following input:\n",
    "    # postOrder: 8 4 5 2 6 7 3 1\n",
    "    # inOrder: 4 8 2 5 1 6 3 7\n",
    "    \n",
    "    if postorder:\n",
    "        root = BinaryTreeNode(postorder.pop())\n",
    "    else:\n",
    "        return\n",
    "    if not root:\n",
    "        return\n",
    "    pivot = inorder.index(root.data)\n",
    "    leftin = inorder[:pivot]\n",
    "    rightin = inorder[pivot+1:]\n",
    "    leftpost = postorder[:pivot]\n",
    "    rightpost = postorder[pivot:]\n",
    "    lefttr = buildTreePostOrder(leftpost, leftin)\n",
    "    righttr = buildTreePostOrder(rightpost, rightin)\n",
    "    root.left = lefttr\n",
    "    root.right = righttr\n",
    "    return root\n",
    "    \n",
    "\n",
    "def printLevelATNewLine(root):\n",
    "    # Given a binary tree, print the level order traversal. Make sure each level\n",
    "    # start in new line.\n",
    "    if root==None:\n",
    "        return\n",
    "    inputQ = queue.Queue()\n",
    "    outputQ = queue.Queue()\n",
    "    inputQ.put(root)\n",
    "    while not inputQ.empty():\n",
    "        while not inputQ.empty():\n",
    "            curr = inputQ.get()\n",
    "            print(curr.data, end=' ')\n",
    "            if curr.left!=None:\n",
    "                outputQ.put(curr.left)\n",
    "            if curr.right!=None:\n",
    "                outputQ.put(curr.right)\n",
    "        print()\n",
    "        inputQ, outputQ = outputQ, inputQ\n",
    "\n",
    "# Main\n",
    "n=int(input())\n",
    "postOrder = [int(i) for i in input().strip().split()]\n",
    "inorder = [int(i) for i in input().strip().split()]\n",
    "root = buildTreePostOrder(postOrder, inorder)\n",
    "printLevelATNewLine(root)\n"
   ]
  },
  {
   "cell_type": "code",
   "execution_count": null,
   "metadata": {},
   "outputs": [],
   "source": []
  }
 ],
 "metadata": {
  "kernelspec": {
   "display_name": "Python 3",
   "language": "python",
   "name": "python3"
  },
  "language_info": {
   "codemirror_mode": {
    "name": "ipython",
    "version": 3
   },
   "file_extension": ".py",
   "mimetype": "text/x-python",
   "name": "python",
   "nbconvert_exporter": "python",
   "pygments_lexer": "ipython3",
   "version": "3.7.3"
  }
 },
 "nbformat": 4,
 "nbformat_minor": 2
}
