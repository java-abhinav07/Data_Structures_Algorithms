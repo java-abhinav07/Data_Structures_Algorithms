{
 "cells": [
  {
   "cell_type": "markdown",
   "metadata": {},
   "source": [
    "# Creating Nodes"
   ]
  },
  {
   "cell_type": "code",
   "execution_count": 6,
   "metadata": {},
   "outputs": [],
   "source": [
    "class BTNode:\n",
    "    \n",
    "    def __init__(self, data):\n",
    "        self.data = data\n",
    "        self.left = None # child1\n",
    "        self.right = None # child 2\n",
    "    "
   ]
  },
  {
   "cell_type": "code",
   "execution_count": 7,
   "metadata": {},
   "outputs": [],
   "source": [
    "bt1 = BTNode(1)"
   ]
  },
  {
   "cell_type": "code",
   "execution_count": null,
   "metadata": {},
   "outputs": [],
   "source": [
    "bt2 = BTNode(4)"
   ]
  },
  {
   "cell_type": "code",
   "execution_count": null,
   "metadata": {},
   "outputs": [],
   "source": [
    "bt3 = BTNode(3)"
   ]
  },
  {
   "cell_type": "code",
   "execution_count": null,
   "metadata": {},
   "outputs": [],
   "source": [
    "bt1.left = bt2\n",
    "bt1.right = bt3"
   ]
  },
  {
   "cell_type": "markdown",
   "metadata": {},
   "source": [
    "# Print Tree Function"
   ]
  },
  {
   "cell_type": "code",
   "execution_count": 9,
   "metadata": {},
   "outputs": [],
   "source": [
    "def printTree(root):\n",
    "    if root == None:\n",
    "        return\n",
    "    print(root.data, end = \":\")\n",
    "    if root.left != None:\n",
    "        print(\"L\", root.left.data, end = ',')\n",
    "    if root.right != None:\n",
    "        print(\"R\", root.right.data, end = \"\")\n",
    "    print()\n",
    "    printTree(root.right)\n",
    "    printTree(root.left)\n"
   ]
  },
  {
   "cell_type": "code",
   "execution_count": null,
   "metadata": {},
   "outputs": [],
   "source": [
    "printTree(bt1)"
   ]
  },
  {
   "cell_type": "markdown",
   "metadata": {},
   "source": [
    "# Binary Tree Input"
   ]
  },
  {
   "cell_type": "code",
   "execution_count": 4,
   "metadata": {},
   "outputs": [],
   "source": [
    "def treeInput():\n",
    "    rootData = int(input())\n",
    "    if rootData == -1:\n",
    "        return None\n",
    "    root = BTNode(rootData)\n",
    "    leftTree = treeInput()\n",
    "    rightTree = treeInput()\n",
    "    root.left = leftTree\n",
    "    root.right = rightTree\n",
    "    return root\n",
    "    \n",
    "    "
   ]
  },
  {
   "cell_type": "code",
   "execution_count": null,
   "metadata": {},
   "outputs": [],
   "source": [
    "root = treeInput()\n",
    "printTree(root)"
   ]
  },
  {
   "cell_type": "markdown",
   "metadata": {},
   "source": [
    "# Number of Nodes"
   ]
  },
  {
   "cell_type": "code",
   "execution_count": null,
   "metadata": {},
   "outputs": [],
   "source": [
    "def NumNodes(root):\n",
    "    if not root:\n",
    "        return 0\n",
    "    return NumNodes(root.left) + NumNodes(root.right) + 1"
   ]
  },
  {
   "cell_type": "code",
   "execution_count": null,
   "metadata": {},
   "outputs": [],
   "source": [
    "print(NumNodes(root))"
   ]
  },
  {
   "cell_type": "markdown",
   "metadata": {},
   "source": [
    "Sum Of Nodes\n",
    "\n",
    "\"\n",
    "Given a binary tree, find and return the sum of all nodes.\n",
    "Input format :\n",
    "\n",
    "Elements in level order form (separated by space). If any node does not have left or right child, take -1 in its place."
   ]
  },
  {
   "cell_type": "code",
   "execution_count": null,
   "metadata": {},
   "outputs": [],
   "source": [
    "import queue\n",
    "class BinaryTreeNode:\n",
    "    def __init__(self, data):\n",
    "        self.data = data\n",
    "        self.left = None\n",
    "        self.right = None\n",
    "\n",
    "def sumOfAllNodes(root):\n",
    "    if root == None:\n",
    "        return 0\n",
    "        \n",
    "    return sumOfAllNodes(root.left) + sumOfAllNodes(root.right) + root.data\n",
    "    \n",
    "\n",
    "def buildLevelTree(levelorder):\n",
    "    index = 0\n",
    "    length = len(levelorder)\n",
    "    if length<=0 or levelorder[0]==-1:\n",
    "        return None\n",
    "    root = BinaryTreeNode(levelorder[index])\n",
    "    index += 1\n",
    "    q = queue.Queue()\n",
    "    q.put(root)\n",
    "    while not q.empty():\n",
    "        currentNode = q.get()\n",
    "        leftChild = levelorder[index]\n",
    "        index += 1\n",
    "        if leftChild != -1:\n",
    "            leftNode = BinaryTreeNode(leftChild)\n",
    "            currentNode.left =leftNode\n",
    "            q.put(leftNode)\n",
    "        rightChild = levelorder[index]\n",
    "        index += 1\n",
    "        if rightChild != -1:\n",
    "            rightNode = BinaryTreeNode(rightChild)\n",
    "            currentNode.right =rightNode\n",
    "            q.put(rightNode)\n",
    "    return root\n",
    "\n",
    "# Main\n",
    "levelOrder = [int(i) for i in input().strip().split()]\n",
    "root = buildLevelTree(levelOrder)\n",
    "print(sumOfAllNodes(root))\n"
   ]
  },
  {
   "cell_type": "markdown",
   "metadata": {},
   "source": [
    "# Tree Traversal"
   ]
  },
  {
   "cell_type": "code",
   "execution_count": null,
   "metadata": {},
   "outputs": [],
   "source": [
    "# Pre Order\n",
    "import queue\n",
    "class BinaryTreeNode:\n",
    "    def __init__(self, data):\n",
    "        self.data = data\n",
    "        self.left = None\n",
    "        self.right = None\n",
    "\n",
    "def preOrder(root):\n",
    "    if not root:\n",
    "        return \n",
    "    print(root.data, end = \" \")\n",
    "    preOrder(root.left)\n",
    "    preOrder(root.right)\n",
    "\n",
    "def buildLevelTree(levelorder):\n",
    "    index = 0\n",
    "    length = len(levelorder)\n",
    "    if length<=0 or levelorder[0]==-1:\n",
    "        return None\n",
    "    root = BinaryTreeNode(levelorder[index])\n",
    "    index += 1\n",
    "    q = queue.Queue()\n",
    "    q.put(root)\n",
    "    while not q.empty():\n",
    "        currentNode = q.get()\n",
    "        leftChild = levelorder[index]\n",
    "        index += 1\n",
    "        if leftChild != -1:\n",
    "            leftNode = BinaryTreeNode(leftChild)\n",
    "            currentNode.left =leftNode\n",
    "            q.put(leftNode)\n",
    "        rightChild = levelorder[index]\n",
    "        index += 1\n",
    "        if rightChild != -1:\n",
    "            rightNode = BinaryTreeNode(rightChild)\n",
    "            currentNode.right =rightNode\n",
    "            q.put(rightNode)\n",
    "    return root\n",
    "\n",
    "# Main\n",
    "levelOrder = [int(i) for i in input().strip().split()]\n",
    "root = buildLevelTree(levelOrder)\n",
    "preOrder(root)\n"
   ]
  },
  {
   "cell_type": "code",
   "execution_count": null,
   "metadata": {},
   "outputs": [],
   "source": [
    "# Post Order\n",
    "import queue\n",
    "class BinaryTreeNode:\n",
    "    def __init__(self, data):\n",
    "        self.data = data\n",
    "        self.left = None\n",
    "        self.right = None\n",
    "\n",
    "def postOrder(root):\n",
    "    if not root:\n",
    "        return \n",
    "    \n",
    "    postOrder(root.left)\n",
    "    postOrder(root.right)\n",
    "    print(root.data, end = ' ')\n",
    "    \n",
    "    \n",
    "def buildLevelTree(levelorder):\n",
    "    index = 0\n",
    "    length = len(levelorder)\n",
    "    if length<=0 or levelorder[0]==-1:\n",
    "        return None\n",
    "    root = BinaryTreeNode(levelorder[index])\n",
    "    index += 1\n",
    "    q = queue.Queue()\n",
    "    q.put(root)\n",
    "    while not q.empty():\n",
    "        currentNode = q.get()\n",
    "        leftChild = levelorder[index]\n",
    "        index += 1\n",
    "        if leftChild != -1:\n",
    "            leftNode = BinaryTreeNode(leftChild)\n",
    "            currentNode.left =leftNode\n",
    "            q.put(leftNode)\n",
    "        rightChild = levelorder[index]\n",
    "        index += 1\n",
    "        if rightChild != -1:\n",
    "            rightNode = BinaryTreeNode(rightChild)\n",
    "            currentNode.right =rightNode\n",
    "            q.put(rightNode)\n",
    "    return root\n",
    "\n",
    "# Main\n",
    "levelOrder = [int(i) for i in input().strip().split()]\n",
    "root = buildLevelTree(levelOrder)\n",
    "postOrder(root)\n"
   ]
  },
  {
   "cell_type": "markdown",
   "metadata": {},
   "source": [
    "# Largest Data in tree"
   ]
  },
  {
   "cell_type": "code",
   "execution_count": 11,
   "metadata": {},
   "outputs": [],
   "source": [
    "def largest(root):\n",
    "    if not root:\n",
    "        return -1\n",
    "    return max(largest(root.right), largest(root.left), root.data)"
   ]
  },
  {
   "cell_type": "code",
   "execution_count": null,
   "metadata": {},
   "outputs": [],
   "source": [
    "\n"
   ]
  },
  {
   "cell_type": "code",
   "execution_count": 12,
   "metadata": {},
   "outputs": [
    {
     "name": "stdout",
     "output_type": "stream",
     "text": [
      "10\n",
      "20\n",
      "5\n",
      "-1\n",
      "-1\n",
      "9\n",
      "-1\n",
      "-1\n",
      "3\n",
      "-1\n",
      "-1\n",
      "10:L 20,R 3\n",
      "3:\n",
      "20:L 5,R 9\n",
      "9:\n",
      "5:\n"
     ]
    },
    {
     "data": {
      "text/plain": [
       "20"
      ]
     },
     "execution_count": 12,
     "metadata": {},
     "output_type": "execute_result"
    }
   ],
   "source": [
    "root = treeInput()\n",
    "printTree(root)\n",
    "largest(root)"
   ]
  },
  {
   "cell_type": "markdown",
   "metadata": {},
   "source": [
    "# Height of Tree"
   ]
  },
  {
   "cell_type": "code",
   "execution_count": 13,
   "metadata": {},
   "outputs": [
    {
     "name": "stdout",
     "output_type": "stream",
     "text": [
      "10\n",
      "9\n",
      "4\n",
      "-1\n",
      "-1\n",
      "5\n",
      "8\n",
      "-1\n",
      "6\n",
      "-1\n",
      "-1\n",
      "3\n",
      "-1\n",
      "-1\n",
      "-1\n",
      "5\n"
     ]
    }
   ],
   "source": [
    "#!/usr/bin/env python\n",
    "# coding: utf-8\n",
    "\n",
    "# In[ ]:\n",
    "\n",
    "\n",
    "import queue\n",
    "class BinaryTreeNode:\n",
    "    def __init__(self, data):\n",
    "        self.data = data\n",
    "        self.left = None\n",
    "        self.right = None\n",
    "\n",
    "def height(root):\n",
    "    if not root:\n",
    "        return 0\n",
    "    return max(height(root.left), height(root.right)) + 1\n",
    "    \n",
    "\n",
    "def buildLevelTree():\n",
    "    \n",
    "    root = BinaryTreeNode(int(input()))\n",
    "    q = queue.Queue()\n",
    "    q.put(root)\n",
    "    while not q.empty():\n",
    "        currentNode = q.get()\n",
    "        leftChild = int(input())\n",
    "        if leftChild != -1:\n",
    "            leftNode = BinaryTreeNode(leftChild)\n",
    "            currentNode.left =leftNode\n",
    "            q.put(leftNode)\n",
    "        rightChild = int(input())\n",
    "        if rightChild != -1:\n",
    "            rightNode = BinaryTreeNode(rightChild)\n",
    "            currentNode.right =rightNode\n",
    "            q.put(rightNode)\n",
    "    return root\n",
    "\n",
    "# Main\n",
    "root = buildLevelTree()\n",
    "print(height(root))\n",
    "\n"
   ]
  },
  {
   "cell_type": "markdown",
   "metadata": {},
   "source": [
    "# Nodes greater than x"
   ]
  },
  {
   "cell_type": "code",
   "execution_count": 14,
   "metadata": {},
   "outputs": [
    {
     "name": "stdout",
     "output_type": "stream",
     "text": [
      "8 3 10 1 6 -1 14 -1 -1 4 7 13 -1 -1 -1 -1 -1 -1 -1 8\n",
      "9\n",
      "3\n"
     ]
    }
   ],
   "source": [
    "import queue\n",
    "class BinaryTreeNode:\n",
    "    def __init__(self, data):\n",
    "        self.data = data\n",
    "        self.left = None\n",
    "        self.right = None\n",
    "\n",
    "def countNodesGreaterThanX(root, x):\n",
    "    if root == None:\n",
    "        return 0\n",
    "    if root.data > x:\n",
    "        return countNodesGreaterThanX(root.left, x) + countNodesGreaterThanX(root.right, x) + 1\n",
    "    else:\n",
    "        return countNodesGreaterThanX(root.left, x) + countNodesGreaterThanX(root.right, x)\n",
    "        \n",
    "\n",
    "def buildLevelTree(levelorder):\n",
    "    index = 0\n",
    "    length = len(levelorder)\n",
    "    if length<=0 or levelorder[0]==-1:\n",
    "        return None\n",
    "    root = BinaryTreeNode(levelorder[index])\n",
    "    index += 1\n",
    "    q = queue.Queue()\n",
    "    q.put(root)\n",
    "    while not q.empty():\n",
    "        currentNode = q.get()\n",
    "        leftChild = levelorder[index]\n",
    "        index += 1\n",
    "        if leftChild != -1:\n",
    "            leftNode = BinaryTreeNode(leftChild)\n",
    "            currentNode.left =leftNode\n",
    "            q.put(leftNode)\n",
    "        rightChild = levelorder[index]\n",
    "        index += 1\n",
    "        if rightChild != -1:\n",
    "            rightNode = BinaryTreeNode(rightChild)\n",
    "            currentNode.right =rightNode\n",
    "            q.put(rightNode)\n",
    "    return root\n",
    "\n",
    "# Main\n",
    "levelOrder = [int(i) for i in input().strip().split()]\n",
    "x=int(input())\n",
    "root = buildLevelTree(levelOrder)\n",
    "print(countNodesGreaterThanX(root, x))\n"
   ]
  },
  {
   "cell_type": "markdown",
   "metadata": {},
   "source": [
    "# Number of Leaf Nodes"
   ]
  },
  {
   "cell_type": "code",
   "execution_count": 15,
   "metadata": {},
   "outputs": [],
   "source": [
    "def numLeafs(root):\n",
    "    if not root:\n",
    "        return 0\n",
    "    if not root.left and not root.right:\n",
    "        return 1\n",
    "    numleft = numLeafs(root.left)\n",
    "    numright = numLeafs(root.right)\n",
    "    return numleft + numright"
   ]
  },
  {
   "cell_type": "code",
   "execution_count": 17,
   "metadata": {},
   "outputs": [
    {
     "name": "stdout",
     "output_type": "stream",
     "text": [
      "1\n",
      "2\n",
      "3\n",
      "-1\n",
      "-1\n",
      "4\n",
      "-1\n",
      "-1\n",
      "5\n",
      "3\n",
      "-1\n",
      "-1\n",
      "-1\n",
      "1:L 2,R 5\n",
      "5:L 3,\n",
      "3:\n",
      "2:L 3,R 4\n",
      "4:\n",
      "3:\n"
     ]
    },
    {
     "data": {
      "text/plain": [
       "3"
      ]
     },
     "execution_count": 17,
     "metadata": {},
     "output_type": "execute_result"
    }
   ],
   "source": [
    "root = treeInput()\n",
    "printTree(root)\n",
    "numLeafs(root)"
   ]
  },
  {
   "cell_type": "markdown",
   "metadata": {},
   "source": [
    "# Print nodes at k depth"
   ]
  },
  {
   "cell_type": "code",
   "execution_count": 22,
   "metadata": {},
   "outputs": [],
   "source": [
    "def printatdepthk(root, k):\n",
    "    if not root:\n",
    "        return None\n",
    "    if k == 0:\n",
    "        print(root.data)\n",
    "        return\n",
    "    printatdepthk(root.left, k-1)\n",
    "    printatdepthk(root.right, k-1)"
   ]
  },
  {
   "cell_type": "code",
   "execution_count": 24,
   "metadata": {},
   "outputs": [
    {
     "name": "stdout",
     "output_type": "stream",
     "text": [
      "1\n",
      "2\n",
      "3\n",
      "4\n",
      "-1\n",
      "-1\n",
      "5\n",
      "6\n",
      "-1\n",
      "-1\n",
      "7\n",
      "-1\n",
      "-1\n",
      "5\n",
      "-1\n",
      "-1\n",
      "6\n",
      "9\n",
      "-1\n",
      "-1\n",
      "-1\n",
      "1:L 2,R 6\n",
      "6:L 9,\n",
      "9:\n",
      "2:L 3,R 5\n",
      "5:\n",
      "3:L 4,R 5\n",
      "5:L 6,R 7\n",
      "7:\n",
      "6:\n",
      "4:\n",
      "4\n",
      "5\n"
     ]
    }
   ],
   "source": [
    "root = treeInput()\n",
    "printTree(root)\n",
    "(printatdepthk(root, 3))"
   ]
  },
  {
   "cell_type": "code",
   "execution_count": 25,
   "metadata": {},
   "outputs": [],
   "source": [
    "def printdepthk(root, k, d=0):\n",
    "    if root == None:\n",
    "        return\n",
    "    if k == d:\n",
    "        print(root.data)\n",
    "        return\n",
    "    printdepthk(root.left, k, d+1)\n",
    "    printdepthk(root.right, k, d+1)"
   ]
  },
  {
   "cell_type": "code",
   "execution_count": 26,
   "metadata": {},
   "outputs": [
    {
     "name": "stdout",
     "output_type": "stream",
     "text": [
      "1\n",
      "2\n",
      "3\n",
      "4\n",
      "-1\n",
      "-1\n",
      "1\n",
      "-1\n",
      "-1\n",
      "3\n",
      "-1\n",
      "-1\n",
      "-1\n",
      "1:L 2,\n",
      "2:L 3,R 3\n",
      "3:\n",
      "3:L 4,R 1\n",
      "1:\n",
      "4:\n",
      "3\n",
      "3\n"
     ]
    }
   ],
   "source": [
    "root = treeInput()\n",
    "printTree(root)\n",
    "(printatdepthk(root, 2))"
   ]
  },
  {
   "cell_type": "markdown",
   "metadata": {},
   "source": [
    "Replace Node With Depth\n",
    "\n",
    "\n",
    "Given a a binary tree. Replace each of it's data with the depth of tree.\n",
    "Root is at depth 0, change its value to 0 and next level nodes are at depth 1 and so on.\n",
    "Print the tree after modifying in inorder fashion."
   ]
  },
  {
   "cell_type": "code",
   "execution_count": 27,
   "metadata": {},
   "outputs": [
    {
     "name": "stdout",
     "output_type": "stream",
     "text": [
      "1 2 3 4 5 6 7 -1 -1 -1 -1 -1 -1 -1 -1 \n",
      "2\n",
      "1\n",
      "2\n",
      "0\n",
      "2\n",
      "1\n",
      "2\n"
     ]
    }
   ],
   "source": [
    "#!/usr/bin/env python\n",
    "# coding: utf-8\n",
    "\n",
    "# In[ ]:\n",
    "\n",
    "\n",
    "import queue\n",
    "class BinaryTreeNode:\n",
    "    def __init__(self, data):\n",
    "        self.data = data\n",
    "        self.left = None\n",
    "        self.right = None\n",
    "\n",
    "def replaceWithDepth(root,level=0):\n",
    "    if not root:\n",
    "        return\n",
    "    root.data = level\n",
    "    replaceWithDepth(root.left, level+1)\n",
    "    replaceWithDepth(root.right, level+1)\n",
    "    \n",
    "def inorder(root):\n",
    "    if root is None:\n",
    "        return\n",
    "    inorder(root.left)\n",
    "    print(root.data)\n",
    "    inorder(root.right)\n",
    "\n",
    "def buildLevelTree(levelorder):\n",
    "    index = 0\n",
    "    length = len(levelorder)\n",
    "    if length<=0 or levelorder[0]==-1:\n",
    "        return None\n",
    "    root = BinaryTreeNode(levelorder[index])\n",
    "    index += 1\n",
    "    q = queue.Queue()\n",
    "    q.put(root)\n",
    "    while not q.empty():\n",
    "        currentNode = q.get()\n",
    "        leftChild = levelorder[index]\n",
    "        index += 1\n",
    "        if leftChild != -1:\n",
    "            leftNode = BinaryTreeNode(leftChild)\n",
    "            currentNode.left =leftNode\n",
    "            q.put(leftNode)\n",
    "        rightChild = levelorder[index]\n",
    "        index += 1\n",
    "        if rightChild != -1:\n",
    "            rightNode = BinaryTreeNode(rightChild)\n",
    "            currentNode.right =rightNode\n",
    "            q.put(rightNode)\n",
    "    return root\n",
    "\n",
    "# Main\n",
    "levelOrder = [int(i) for i in input().strip().split()]\n",
    "root = buildLevelTree(levelOrder)\n",
    "replaceWithDepth(root)\n",
    "inorder(root)\n",
    "\n"
   ]
  },
  {
   "cell_type": "code",
   "execution_count": null,
   "metadata": {},
   "outputs": [],
   "source": []
  }
 ],
 "metadata": {
  "kernelspec": {
   "display_name": "Python 3",
   "language": "python",
   "name": "python3"
  },
  "language_info": {
   "codemirror_mode": {
    "name": "ipython",
    "version": 3
   },
   "file_extension": ".py",
   "mimetype": "text/x-python",
   "name": "python",
   "nbconvert_exporter": "python",
   "pygments_lexer": "ipython3",
   "version": "3.7.3"
  }
 },
 "nbformat": 4,
 "nbformat_minor": 2
}
